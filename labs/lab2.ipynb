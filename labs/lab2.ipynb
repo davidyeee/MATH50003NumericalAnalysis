{
 "cells": [
  {
   "cell_type": "markdown",
   "metadata": {},
   "source": [
    "# MATH50003 (2024–25)\n",
    "# Lab 2: I.3 Dual Numbers and I.4 Newton's Method"
   ]
  },
  {
   "cell_type": "markdown",
   "metadata": {},
   "source": [
    "In this lab we explore an alternative approach to computing derivatives:\n",
    "using _dual numbers_. This is a special mathematical object akin to complex numbers\n",
    "that allows us to compute derivatives to very high accuracy in an automated fashion.\n",
    "This is a basic example of [automatic differentiation](https://en.wikipedia.org/wiki/Automatic_differentiation)\n",
    "that is extremely important in Machine Learning and other computational applications.\n",
    "To realise dual numbers on a computer we need to introduce the notation of a \"type\"\n",
    "and create a customised type to represent dual numbers, which is what we discuss first.\n",
    "As an application of computing derivatives we consider root finding via [Newton's method](https://en.wikipedia.org/wiki/Newton%27s_method)."
   ]
  },
  {
   "cell_type": "markdown",
   "metadata": {},
   "source": [
    "**Learning Outcomes**\n",
    "\n",
    "Mathematical knowledge:\n",
    "\n",
    "1. Definition of dual numbers and functions applied dual numbers.\n",
    "3. Newton's method for root finding.\n",
    "\n",
    "Coding knowledge:\n",
    "\n",
    "1. The notion of a type and how to make your own type.\n",
    "2. Defining functions whose arguments are restricted to specific types.\n",
    "3. Overloading functions like `+`, `*`, and `exp` for a custom type."
   ]
  },
  {
   "cell_type": "markdown",
   "metadata": {},
   "source": [
    "We load the `Test` and `Plots` packages to be used below.\n",
    "We also define the function `nanabs` which is useful for logarithmically scaled\n",
    "plots. For brevity we use a shorthand `cond ? expr1 : expr2` which just means\n",
    "```julia\n",
    "if cond\n",
    "    expr1\n",
    "else\n",
    "    expr2\n",
    "end\n",
    "```"
   ]
  },
  {
   "cell_type": "code",
   "execution_count": 3,
   "metadata": {},
   "outputs": [
    {
     "data": {
      "text/plain": [
       "nanabs (generic function with 1 method)"
      ]
     },
     "execution_count": 3,
     "metadata": {},
     "output_type": "execute_result"
    }
   ],
   "source": [
    "using Plots, Test\n",
    "nanabs(x) = x == 0 ? NaN : abs(x)"
   ]
  },
  {
   "cell_type": "markdown",
   "metadata": {},
   "source": [
    "## Types in Julia"
   ]
  },
  {
   "cell_type": "markdown",
   "metadata": {},
   "source": [
    "Before we can use a concept like dual numbers we have to understand the notion of a \"type\".\n",
    "In compiled languages like Julia everything has a \"type\". The function `typeof` can be used to determine the type of,\n",
    "for example, a number.\n",
    "By default when we write an integer (e.g. `-123`) it is of type `Int`:"
   ]
  },
  {
   "cell_type": "code",
   "execution_count": 4,
   "metadata": {},
   "outputs": [
    {
     "data": {
      "text/plain": [
       "Int64"
      ]
     },
     "execution_count": 4,
     "metadata": {},
     "output_type": "execute_result"
    }
   ],
   "source": [
    "typeof(5) #64 bit representation of integers"
   ]
  },
  {
   "cell_type": "markdown",
   "metadata": {},
   "source": [
    "On a 64-bit machine this will print `Int64`, where the `64` indicates it is using precisely 64 bits\n",
    "to represent the number (a topic we will come back to in Part II). If we write something with\n",
    "a decimal point it represents a \"real\" number, whose storage is of type `Float64`:"
   ]
  },
  {
   "cell_type": "code",
   "execution_count": 5,
   "metadata": {},
   "outputs": [
    {
     "data": {
      "text/plain": [
       "Float64"
      ]
     },
     "execution_count": 5,
     "metadata": {},
     "output_type": "execute_result"
    }
   ],
   "source": [
    "typeof(5.3) "
   ]
  },
  {
   "cell_type": "markdown",
   "metadata": {},
   "source": [
    "This is called a \"floating point\" number, and again the `64` indicates it is using precisely\n",
    "64 bits to represent this number. (We will see this is why computations like divided differences\n",
    "have large errors: because we are limiting the number of \"digits\" to represent numbers we need to\n",
    "round our computations.) Note that some operations involving `Int`s return `Float64`s:"
   ]
  },
  {
   "cell_type": "code",
   "execution_count": 6,
   "metadata": {},
   "outputs": [
    {
     "data": {
      "text/plain": [
       "0.2"
      ]
     },
     "execution_count": 6,
     "metadata": {},
     "output_type": "execute_result"
    }
   ],
   "source": [
    "1/5 # 1 and 5 are Int but output is a Float64"
   ]
  },
  {
   "cell_type": "markdown",
   "metadata": {},
   "source": [
    "It is possible to have functions behave differently depending on the input type.\n",
    "To do so we can add a restriction denoted `::Int` or `::Float64` to the function \"signature\".\n",
    "Here we create a function `foo` that is equal to `1` if the input is an `Int`, `0` if the input is\n",
    "a `Float64`, and `-1` otherwise:"
   ]
  },
  {
   "cell_type": "code",
   "execution_count": 7,
   "metadata": {},
   "outputs": [
    {
     "data": {
      "text/plain": [
       "(1, 0, -1, 0)"
      ]
     },
     "execution_count": 7,
     "metadata": {},
     "output_type": "execute_result"
    }
   ],
   "source": [
    "foo(x::Int) = 1 # The ::Int means this version is called when the input is an Int\n",
    "foo(x::Float64) = 0\n",
    "foo(x) = -1 # This is equivalent to f(x::Any) = -1\n",
    "# Anything that is not an Int or Float64 will call this\n",
    "\n",
    "foo(3), foo(2.5), foo(\"hi\"), foo(3.0)"
   ]
  },
  {
   "cell_type": "markdown",
   "metadata": {},
   "source": [
    "The last line returns a list of `Int`s, which has the type `Tuple`.\n",
    "Note that there is a difference between the set concept of integer and the type `Int`: whilst `3.0` is an integer\n",
    "its type is `Float64` so `foo(3.0) == 0`."
   ]
  },
  {
   "cell_type": "markdown",
   "metadata": {},
   "source": [
    "**Remark** Every type has a \"supertype\", which is an \"abstract type\": something you can't make an instance of it.\n",
    "For example, in the same way that \"integers\"\n",
    "are subsets of the \"reals\" we have that `Int` and `Float64` are subtypes of\n",
    "`Real`. Which is a subtype of `Number`. Which, as is everything, a subtype of `Any`."
   ]
  },
  {
   "cell_type": "markdown",
   "metadata": {},
   "source": [
    "Types allow for combining multiple numbers (or instances of other types) to represent a more complicated\n",
    "object. A simple example of this is a complex number,\n",
    "which stores two real numbers $x$ and $y$ (either `Int` or `Float64` or indeed other real number types not yet discussed)\n",
    "to represent the complex number $x + {\\rm i} y$. In Julia ${\\rm i} = \\sqrt{-1}$ is denoted `im` and\n",
    "hence we can create a complex number like $1+2{\\rm i}$ as follows:"
   ]
  },
  {
   "cell_type": "code",
   "execution_count": 8,
   "metadata": {},
   "outputs": [
    {
     "data": {
      "text/plain": [
       "1 + 2im"
      ]
     },
     "execution_count": 8,
     "metadata": {},
     "output_type": "execute_result"
    }
   ],
   "source": [
    "z = 1 + 2im"
   ]
  },
  {
   "cell_type": "markdown",
   "metadata": {},
   "source": [
    "This complex number has two \"fields\": the real and imaginary part. Accessing the fields is done\n",
    "using a `.`, here we display the real and imaginary parts as a `Tuple`:"
   ]
  },
  {
   "cell_type": "code",
   "execution_count": 9,
   "metadata": {},
   "outputs": [
    {
     "data": {
      "text/plain": [
       "(1, 2)"
      ]
     },
     "execution_count": 9,
     "metadata": {},
     "output_type": "execute_result"
    }
   ],
   "source": [
    "z.re, z.im"
   ]
  },
  {
   "cell_type": "markdown",
   "metadata": {},
   "source": [
    "When we ask  its type we see it is a `Complex{Int}`:"
   ]
  },
  {
   "cell_type": "code",
   "execution_count": 10,
   "metadata": {},
   "outputs": [
    {
     "data": {
      "text/plain": [
       "Complex{Int64}"
      ]
     },
     "execution_count": 10,
     "metadata": {},
     "output_type": "execute_result"
    }
   ],
   "source": [
    "typeof(z)"
   ]
  },
  {
   "cell_type": "markdown",
   "metadata": {},
   "source": [
    "The `{Int}` indicates that each of the fields is an `Int`.\n",
    "Note we can add, subtract, multiply, or apply functions like `exp` to complex numbers:"
   ]
  },
  {
   "cell_type": "code",
   "execution_count": 11,
   "metadata": {},
   "outputs": [
    {
     "data": {
      "text/plain": [
       "1.0970208521148807e-5 - 0.002478727901132598im"
      ]
     },
     "execution_count": 11,
     "metadata": {},
     "output_type": "execute_result"
    }
   ],
   "source": [
    "exp(2z^2 + 3im)"
   ]
  },
  {
   "cell_type": "markdown",
   "metadata": {},
   "source": [
    "-----\n",
    "**Problem 1(a)** Use `typeof` to determine the type of `1.2 + 2.3im`."
   ]
  },
  {
   "cell_type": "code",
   "execution_count": 19,
   "metadata": {
    "scrolled": true
   },
   "outputs": [
    {
     "data": {
      "text/plain": [
       "ComplexF64\u001b[90m (alias for \u001b[39m\u001b[90mComplex{Float64}\u001b[39m\u001b[90m)\u001b[39m"
      ]
     },
     "execution_count": 19,
     "metadata": {},
     "output_type": "execute_result"
    }
   ],
   "source": [
    "# TODO: What is the type of 1.2 + 2.3im?\n",
    "typeof(1.2 + 2.3im)"
   ]
  },
  {
   "cell_type": "markdown",
   "metadata": {},
   "source": [
    "**Problem 1(b)** Add another implementation of `foo` that returns `im` if the input\n",
    "is a `ComplexF64`."
   ]
  },
  {
   "cell_type": "code",
   "execution_count": 20,
   "metadata": {},
   "outputs": [
    {
     "data": {
      "text/plain": [
       "\u001b[32m\u001b[1mTest Passed\u001b[22m\u001b[39m"
      ]
     },
     "execution_count": 20,
     "metadata": {},
     "output_type": "execute_result"
    }
   ],
   "source": [
    "# TODO: Overload foo for when the input is a ComplexF64 and return im\n",
    "foo(x::ComplexF64) = im\n",
    "\n",
    "@test foo(1.1 + 2im) == im"
   ]
  },
  {
   "cell_type": "markdown",
   "metadata": {},
   "source": [
    "------"
   ]
  },
  {
   "cell_type": "markdown",
   "metadata": {},
   "source": [
    "**Problem 2(a)** Consider the Taylor series approximation to the exponential:\n",
    "$$\n",
    "\\exp z ≈ ∑_{k=0}^n {z^k \\over k!}\n",
    "$$\n",
    "Complete the function `exp_t(z, n)` that computes this and returns a\n",
    "`Complex{Float64}` if the input is complex and a `Float64` if the input is real.\n",
    "Do not use the inbuilt `factorial` function.\n",
    "Hint: It might help to think inductively: for $s_k = z^k/k!$ we have\n",
    "$$\n",
    "  s_{k+1}  = {z \\over k+1} s_k.\n",
    "$$"
   ]
  },
  {
   "cell_type": "code",
   "execution_count": 36,
   "metadata": {},
   "outputs": [
    {
     "data": {
      "text/plain": [
       "\u001b[32m\u001b[1mTest Passed\u001b[22m\u001b[39m"
      ]
     },
     "execution_count": 36,
     "metadata": {},
     "output_type": "execute_result"
    }
   ],
   "source": [
    "function exp_t(z, n)\n",
    "    # TODO: Compute the first (n+1)-terms of the Taylor series of exp\n",
    "    # evaluated at z\n",
    "    sum = 1.0\n",
    "    term = 1.0\n",
    "    for k = 1:n\n",
    "        term = term*(z/k)\n",
    "        sum = term + sum\n",
    "    end\n",
    "    sum\n",
    "end\n",
    "\n",
    "@test exp_t(1.0, 10) isa Float64 # isa is used to test the type of a result\n",
    "@test exp_t(im, 10) isa ComplexF64 # isa is used to test the type of a result\n",
    "\n",
    "@test exp_t(1.0, 100) ≈ exp(1)"
   ]
  },
  {
   "cell_type": "markdown",
   "metadata": {},
   "source": [
    "**Problem 2(b)** Plot the error for `n = 1:1000` of `exp_t(z, n)` for `z = 1, im, -5`, and `-100`,\n",
    "scaling the y-axis logarithmically.\n",
    "Does the method appear to converge for all values of $z$?"
   ]
  },
  {
   "cell_type": "code",
   "execution_count": 63,
   "metadata": {},
   "outputs": [
    {
     "data": {
      "image/png": "[encoded data removed]",
      "image/svg+xml": [
       "<?xml version=\"1.0\" encoding=\"utf-8\"?>\n",
       "<svg xmlns=\"http://www.w3.org/2000/svg\" xmlns:xlink=\"http://www.w3.org/1999/xlink\" width=\"600\" height=\"400\" viewBox=\"0 0 2400 1600\">\n",
       "<defs>\n",
       "  <clipPath id=\"clip720\">\n",
       "    <rect x=\"0\" y=\"0\" width=\"2400\" height=\"1600\"/>\n",
       "  </clipPath>\n",
       "</defs>\n",
       "<path clip-path=\"url(#clip720)\" d=\"M0 1600 L2400 1600 L2400 0 L0 0  Z\" fill=\"#ffffff\" fill-rule=\"evenodd\" fill-opacity=\"1\"/>\n",
       "<defs>\n",
       "  <clipPath id=\"clip721\">\n",
       "    <rect x=\"480\" y=\"0\" width=\"1681\" height=\"1600\"/>\n",
       "  </clipPath>\n",
       "</defs>\n",
       "<path clip-path=\"url(#clip720)\" d=\"M181.785 1474.16 L2352.76 1474.16 L2352.76 47.2441 L181.785 47.2441  Z\" fill=\"#ffffff\" fill-rule=\"evenodd\" fill-opacity=\"1\"/>\n",
       "<defs>\n",
       "  <clipPath id=\"clip722\">\n",
       "    <rect x=\"181\" y=\"47\" width=\"2172\" height=\"1428\"/>\n",
       "  </clipPath>\n",
       "</defs>\n",
       "<polyline clip-path=\"url(#clip722)\" style=\"stroke:#000000; stroke-linecap:round; stroke-linejoin:round; stroke-width:2; stroke-opacity:0.1; fill:none\" points=\"243.227,1474.16 243.227,47.2441 \"/>\n",
       "<polyline clip-path=\"url(#clip722)\" style=\"stroke:#000000; stroke-linecap:round; stroke-linejoin:round; stroke-width:2; stroke-opacity:0.1; fill:none\" points=\"1608.62,1474.16 1608.62,47.2441 \"/>\n",
       "<polyline clip-path=\"url(#clip722)\" style=\"stroke:#000000; stroke-linecap:round; stroke-linejoin:round; stroke-width:2; stroke-opacity:0.1; fill:none\" points=\"181.785,1061.46 2352.76,1061.46 \"/>\n",
       "<polyline clip-path=\"url(#clip722)\" style=\"stroke:#000000; stroke-linecap:round; stroke-linejoin:round; stroke-width:2; stroke-opacity:0.1; fill:none\" points=\"181.785,478.048 2352.76,478.048 \"/>\n",
       "<polyline clip-path=\"url(#clip720)\" style=\"stroke:#000000; stroke-linecap:round; stroke-linejoin:round; stroke-width:4; stroke-opacity:1; fill:none\" points=\"181.785,1474.16 2352.76,1474.16 \"/>\n",
       "<polyline clip-path=\"url(#clip720)\" style=\"stroke:#000000; stroke-linecap:round; stroke-linejoin:round; stroke-width:4; stroke-opacity:1; fill:none\" points=\"243.227,1474.16 243.227,1455.27 \"/>\n",
       "<polyline clip-path=\"url(#clip720)\" style=\"stroke:#000000; stroke-linecap:round; stroke-linejoin:round; stroke-width:4; stroke-opacity:1; fill:none\" points=\"1608.62,1474.16 1608.62,1455.27 \"/>\n",
       "<path clip-path=\"url(#clip720)\" d=\"M208.21 1548.29 L215.849 1548.29 L215.849 1521.92 L207.539 1523.59 L207.539 1519.33 L215.803 1517.66 L220.479 1517.66 L220.479 1548.29 L228.117 1548.29 L228.117 1552.22 L208.21 1552.22 L208.21 1548.29 Z\" fill=\"#000000\" fill-rule=\"nonzero\" fill-opacity=\"1\" /><path clip-path=\"url(#clip720)\" d=\"M247.562 1520.74 Q243.951 1520.74 242.122 1524.31 Q240.316 1527.85 240.316 1534.98 Q240.316 1542.09 242.122 1545.65 Q243.951 1549.19 247.562 1549.19 Q251.196 1549.19 253.002 1545.65 Q254.83 1542.09 254.83 1534.98 Q254.83 1527.85 253.002 1524.31 Q251.196 1520.74 247.562 1520.74 M247.562 1517.04 Q253.372 1517.04 256.427 1521.65 Q259.506 1526.23 259.506 1534.98 Q259.506 1543.71 256.427 1548.31 Q253.372 1552.9 247.562 1552.9 Q241.752 1552.9 238.673 1548.31 Q235.617 1543.71 235.617 1534.98 Q235.617 1526.23 238.673 1521.65 Q241.752 1517.04 247.562 1517.04 Z\" fill=\"#000000\" fill-rule=\"nonzero\" fill-opacity=\"1\" /><path clip-path=\"url(#clip720)\" d=\"M269.211 1499.24 Q266.277 1499.24 264.791 1502.13 Q263.324 1505.01 263.324 1510.8 Q263.324 1516.58 264.791 1519.47 Q266.277 1522.35 269.211 1522.35 Q272.164 1522.35 273.631 1519.47 Q275.117 1516.58 275.117 1510.8 Q275.117 1505.01 273.631 1502.13 Q272.164 1499.24 269.211 1499.24 M269.211 1496.23 Q273.932 1496.23 276.414 1499.97 Q278.916 1503.69 278.916 1510.8 Q278.916 1517.89 276.414 1521.64 Q273.932 1525.36 269.211 1525.36 Q264.49 1525.36 261.989 1521.64 Q259.506 1517.89 259.506 1510.8 Q259.506 1503.69 261.989 1499.97 Q264.49 1496.23 269.211 1496.23 Z\" fill=\"#000000\" fill-rule=\"nonzero\" fill-opacity=\"1\" /><path clip-path=\"url(#clip720)\" d=\"M1574.39 1548.29 L1582.03 1548.29 L1582.03 1521.92 L1573.72 1523.59 L1573.72 1519.33 L1581.98 1517.66 L1586.66 1517.66 L1586.66 1548.29 L1594.3 1548.29 L1594.3 1552.22 L1574.39 1552.22 L1574.39 1548.29 Z\" fill=\"#000000\" fill-rule=\"nonzero\" fill-opacity=\"1\" /><path clip-path=\"url(#clip720)\" d=\"M1613.74 1520.74 Q1610.13 1520.74 1608.3 1524.31 Q1606.5 1527.85 1606.5 1534.98 Q1606.5 1542.09 1608.3 1545.65 Q1610.13 1549.19 1613.74 1549.19 Q1617.38 1549.19 1619.18 1545.65 Q1621.01 1542.09 1621.01 1534.98 Q1621.01 1527.85 1619.18 1524.31 Q1617.38 1520.74 1613.74 1520.74 M1613.74 1517.04 Q1619.55 1517.04 1622.61 1521.65 Q1625.69 1526.23 1625.69 1534.98 Q1625.69 1543.71 1622.61 1548.31 Q1619.55 1552.9 1613.74 1552.9 Q1607.93 1552.9 1604.85 1548.31 Q1601.8 1543.71 1601.8 1534.98 Q1601.8 1526.23 1604.85 1521.65 Q1607.93 1517.04 1613.74 1517.04 Z\" fill=\"#000000\" fill-rule=\"nonzero\" fill-opacity=\"1\" /><path clip-path=\"url(#clip720)\" d=\"M1630.26 1521.62 L1643.52 1521.62 L1643.52 1524.81 L1625.69 1524.81 L1625.69 1521.62 Q1627.85 1519.38 1631.57 1515.62 Q1635.32 1511.84 1636.28 1510.75 Q1638.1 1508.7 1638.81 1507.29 Q1639.55 1505.86 1639.55 1504.48 Q1639.55 1502.24 1637.97 1500.83 Q1636.41 1499.42 1633.89 1499.42 Q1632.1 1499.42 1630.11 1500.04 Q1628.13 1500.67 1625.87 1501.93 L1625.87 1498.09 Q1628.17 1497.17 1630.16 1496.7 Q1632.16 1496.23 1633.81 1496.23 Q1638.18 1496.23 1640.77 1498.41 Q1643.37 1500.59 1643.37 1504.24 Q1643.37 1505.97 1642.71 1507.53 Q1642.07 1509.07 1640.36 1511.18 Q1639.89 1511.72 1637.37 1514.34 Q1634.85 1516.93 1630.26 1521.62 Z\" fill=\"#000000\" fill-rule=\"nonzero\" fill-opacity=\"1\" /><polyline clip-path=\"url(#clip720)\" style=\"stroke:#000000; stroke-linecap:round; stroke-linejoin:round; stroke-width:4; stroke-opacity:1; fill:none\" points=\"181.785,1474.16 181.785,47.2441 \"/>\n",
       "<polyline clip-path=\"url(#clip720)\" style=\"stroke:#000000; stroke-linecap:round; stroke-linejoin:round; stroke-width:4; stroke-opacity:1; fill:none\" points=\"181.785,1061.46 200.682,1061.46 \"/>\n",
       "<polyline clip-path=\"url(#clip720)\" style=\"stroke:#000000; stroke-linecap:round; stroke-linejoin:round; stroke-width:4; stroke-opacity:1; fill:none\" points=\"181.785,478.048 200.682,478.048 \"/>\n",
       "<path clip-path=\"url(#clip720)\" d=\"M75.0791 1081.25 L82.7179 1081.25 L82.7179 1054.88 L74.4078 1056.55 L74.4078 1052.29 L82.6716 1050.63 L87.3475 1050.63 L87.3475 1081.25 L94.9864 1081.25 L94.9864 1085.19 L75.0791 1085.19 L75.0791 1081.25 Z\" fill=\"#000000\" fill-rule=\"nonzero\" fill-opacity=\"1\" /><path clip-path=\"url(#clip720)\" d=\"M114.431 1053.7 Q110.82 1053.7 108.991 1057.27 Q107.185 1060.81 107.185 1067.94 Q107.185 1075.05 108.991 1078.61 Q110.82 1082.15 114.431 1082.15 Q118.065 1082.15 119.871 1078.61 Q121.699 1075.05 121.699 1067.94 Q121.699 1060.81 119.871 1057.27 Q118.065 1053.7 114.431 1053.7 M114.431 1050 Q120.241 1050 123.296 1054.61 Q126.375 1059.19 126.375 1067.94 Q126.375 1076.67 123.296 1081.27 Q120.241 1085.86 114.431 1085.86 Q108.621 1085.86 105.542 1081.27 Q102.486 1076.67 102.486 1067.94 Q102.486 1059.19 105.542 1054.61 Q108.621 1050 114.431 1050 Z\" fill=\"#000000\" fill-rule=\"nonzero\" fill-opacity=\"1\" /><path clip-path=\"url(#clip720)\" d=\"M136.08 1032.2 Q133.146 1032.2 131.66 1035.09 Q130.193 1037.97 130.193 1043.76 Q130.193 1049.54 131.66 1052.43 Q133.146 1055.31 136.08 1055.31 Q139.033 1055.31 140.5 1052.43 Q141.986 1049.54 141.986 1043.76 Q141.986 1037.97 140.5 1035.09 Q139.033 1032.2 136.08 1032.2 M136.08 1029.19 Q140.801 1029.19 143.283 1032.93 Q145.785 1036.65 145.785 1043.76 Q145.785 1050.85 143.283 1054.6 Q140.801 1058.32 136.08 1058.32 Q131.359 1058.32 128.858 1054.6 Q126.375 1050.85 126.375 1043.76 Q126.375 1036.65 128.858 1032.93 Q131.359 1029.19 136.08 1029.19 Z\" fill=\"#000000\" fill-rule=\"nonzero\" fill-opacity=\"1\" /><path clip-path=\"url(#clip720)\" d=\"M51.6634 497.84 L59.3023 497.84 L59.3023 471.475 L50.9921 473.141 L50.9921 468.882 L59.256 467.215 L63.9319 467.215 L63.9319 497.84 L71.5707 497.84 L71.5707 501.775 L51.6634 501.775 L51.6634 497.84 Z\" fill=\"#000000\" fill-rule=\"nonzero\" fill-opacity=\"1\" /><path clip-path=\"url(#clip720)\" d=\"M91.0151 470.294 Q87.404 470.294 85.5753 473.859 Q83.7697 477.4 83.7697 484.53 Q83.7697 491.637 85.5753 495.201 Q87.404 498.743 91.0151 498.743 Q94.6493 498.743 96.4548 495.201 Q98.2835 491.637 98.2835 484.53 Q98.2835 477.4 96.4548 473.859 Q94.6493 470.294 91.0151 470.294 M91.0151 466.59 Q96.8252 466.59 99.8808 471.197 Q102.959 475.78 102.959 484.53 Q102.959 493.257 99.8808 497.863 Q96.8252 502.447 91.0151 502.447 Q85.2049 502.447 82.1262 497.863 Q79.0707 493.257 79.0707 484.53 Q79.0707 475.78 82.1262 471.197 Q85.2049 466.59 91.0151 466.59 Z\" fill=\"#000000\" fill-rule=\"nonzero\" fill-opacity=\"1\" /><path clip-path=\"url(#clip720)\" d=\"M107.53 471.168 L120.789 471.168 L120.789 474.365 L102.959 474.365 L102.959 471.168 Q105.122 468.929 108.846 465.168 Q112.589 461.388 113.548 460.297 Q115.373 458.247 116.087 456.836 Q116.821 455.407 116.821 454.034 Q116.821 451.796 115.241 450.385 Q113.68 448.974 111.16 448.974 Q109.373 448.974 107.379 449.595 Q105.404 450.216 103.148 451.476 L103.148 447.639 Q105.442 446.718 107.436 446.247 Q109.429 445.777 111.084 445.777 Q115.448 445.777 118.043 447.959 Q120.639 450.141 120.639 453.789 Q120.639 455.52 119.98 457.081 Q119.341 458.623 117.63 460.729 Q117.159 461.275 114.639 463.889 Q112.119 466.484 107.53 471.168 Z\" fill=\"#000000\" fill-rule=\"nonzero\" fill-opacity=\"1\" /><path clip-path=\"url(#clip720)\" d=\"M128.801 446.285 L143.716 446.285 L143.716 449.482 L132.281 449.482 L132.281 456.366 Q133.108 456.084 133.936 455.952 Q134.763 455.802 135.591 455.802 Q140.293 455.802 143.039 458.378 Q145.785 460.955 145.785 465.356 Q145.785 469.889 142.964 472.409 Q140.142 474.91 135.008 474.91 Q133.24 474.91 131.397 474.609 Q129.572 474.309 127.616 473.707 L127.616 469.889 Q129.309 470.81 131.115 471.262 Q132.92 471.713 134.933 471.713 Q138.186 471.713 140.086 470.002 Q141.986 468.29 141.986 465.356 Q141.986 462.422 140.086 460.71 Q138.186 458.999 134.933 458.999 Q133.409 458.999 131.886 459.338 Q130.381 459.676 128.801 460.391 L128.801 446.285 Z\" fill=\"#000000\" fill-rule=\"nonzero\" fill-opacity=\"1\" /><polyline clip-path=\"url(#clip722)\" style=\"stroke:#009af9; stroke-linecap:round; stroke-linejoin:round; stroke-width:4; stroke-opacity:1; fill:none\" points=\"243.227,1064.81 448.739,1076.88 568.956,1091.5 654.251,1108.18 720.411,1126.61 774.468,1146.53 820.172,1167.76 859.763,1190.15 894.684,1213.58 925.923,1237.97 954.181,1263.22 979.979,1289.27 1003.71,1316.07 1025.68,1343.57 1046.14,1371.82 1065.27,1403.42 1083.25,1419.73 1100.2,1419.73 1116.23,1419.73 1131.43,1419.73 1145.9,1419.73 1159.69,1419.73 1172.87,1419.73 1185.49,1419.73 1197.59,1419.73 1209.22,1419.73 1220.41,1419.73 1231.2,1419.73 1241.6,1419.73 1251.65,1419.73 1261.37,1419.73 1270.79,1419.73 1279.91,1419.73 1288.76,1419.73 1297.36,1419.73 1305.71,1419.73 1313.83,1419.73 1321.74,1419.73 1329.44,1419.73 1336.95,1419.73 1344.27,1419.73 1351.41,1419.73 1358.39,1419.73 1365.2,1419.73 1371.87,1419.73 1378.38,1419.73 1384.76,1419.73 1391,1419.73 1397.12,1419.73 1403.11,1419.73 1408.98,1419.73 1414.73,1419.73 1420.38,1419.73 1425.92,1419.73 1431.36,1419.73 1436.71,1419.73 1441.95,1419.73 1447.11,1419.73 1452.18,1419.73 1457.16,1419.73 1462.06,1419.73 1466.88,1419.73 1471.63,1419.73 1476.3,1419.73 1480.89,1419.73 1485.42,1419.73 1489.88,1419.73 1494.27,1419.73 1498.6,1419.73 1502.87,1419.73 1507.07,1419.73 1511.22,1419.73 1515.31,1419.73 1519.34,1419.73 1523.32,1419.73 1527.25,1419.73 1531.13,1419.73 1534.95,1419.73 1538.73,1419.73 1542.46,1419.73 1546.14,1419.73 1549.78,1419.73 1553.37,1419.73 1556.92,1419.73 1560.43,1419.73 1563.9,1419.73 1567.33,1419.73 1570.72,1419.73 1574.07,1419.73 1577.38,1419.73 1580.66,1419.73 1583.9,1419.73 1587.1,1419.73 1590.27,1419.73 1593.41,1419.73 1596.51,1419.73 1599.59,1419.73 1602.63,1419.73 1605.64,1419.73 1608.62,1419.73 1611.57,1419.73 1614.49,1419.73 1617.38,1419.73 1620.25,1419.73 1623.08,1419.73 1625.89,1419.73 1628.68,1419.73 1631.44,1419.73 1634.17,1419.73 1636.88,1419.73 1639.56,1419.73 1642.22,1419.73 1644.85,1419.73 1647.47,1419.73 1650.06,1419.73 1652.62,1419.73 1655.17,1419.73 1657.69,1419.73 1660.19,1419.73 1662.67,1419.73 1665.14,1419.73 1667.58,1419.73 1670,1419.73 1672.4,1419.73 1674.78,1419.73 1677.14,1419.73 1679.48,1419.73 1681.81,1419.73 1684.12,1419.73 1686.41,1419.73 1688.68,1419.73 1690.93,1419.73 1693.17,1419.73 1695.39,1419.73 1697.6,1419.73 1699.78,1419.73 1701.96,1419.73 1704.11,1419.73 1706.25,1419.73 1708.38,1419.73 1710.49,1419.73 1712.58,1419.73 1714.67,1419.73 1716.73,1419.73 1718.78,1419.73 1720.82,1419.73 1722.84,1419.73 1724.85,1419.73 1726.85,1419.73 1728.83,1419.73 1730.8,1419.73 1732.76,1419.73 1734.71,1419.73 1736.64,1419.73 1738.56,1419.73 1740.46,1419.73 1742.36,1419.73 1744.24,1419.73 1746.11,1419.73 1747.97,1419.73 1749.82,1419.73 1751.65,1419.73 1753.48,1419.73 1755.29,1419.73 1757.09,1419.73 1758.88,1419.73 1760.67,1419.73 1762.44,1419.73 1764.2,1419.73 1765.94,1419.73 1767.68,1419.73 1769.41,1419.73 1771.13,1419.73 1772.84,1419.73 1774.54,1419.73 1776.23,1419.73 1777.91,1419.73 1779.58,1419.73 1781.24,1419.73 1782.89,1419.73 1784.53,1419.73 1786.17,1419.73 1787.79,1419.73 1789.41,1419.73 1791.01,1419.73 1792.61,1419.73 1794.2,1419.73 1795.78,1419.73 1797.36,1419.73 1798.92,1419.73 1800.48,1419.73 1802.03,1419.73 1803.57,1419.73 1805.1,1419.73 1806.62,1419.73 1808.14,1419.73 1809.65,1419.73 1811.15,1419.73 1812.64,1419.73 1814.13,1419.73 1815.61,1419.73 1817.08,1419.73 1818.54,1419.73 1820,1419.73 1821.45,1419.73 1822.89,1419.73 1824.33,1419.73 1825.76,1419.73 1827.18,1419.73 1828.6,1419.73 1830,1419.73 1831.41,1419.73 1832.8,1419.73 1834.19,1419.73 1835.57,1419.73 1836.95,1419.73 1838.32,1419.73 1839.68,1419.73 1841.04,1419.73 1842.39,1419.73 1843.73,1419.73 1845.07,1419.73 1846.4,1419.73 1847.73,1419.73 1849.05,1419.73 1850.37,1419.73 1851.68,1419.73 1852.98,1419.73 1854.28,1419.73 1855.57,1419.73 1856.85,1419.73 1858.13,1419.73 1859.41,1419.73 1860.68,1419.73 1861.94,1419.73 1863.2,1419.73 1864.46,1419.73 1865.71,1419.73 1866.95,1419.73 1868.19,1419.73 1869.42,1419.73 1870.65,1419.73 1871.87,1419.73 1873.09,1419.73 1874.3,1419.73 1875.51,1419.73 1876.71,1419.73 1877.91,1419.73 1879.1,1419.73 1880.29,1419.73 1881.47,1419.73 1882.65,1419.73 1883.83,1419.73 1885,1419.73 1886.16,1419.73 1887.32,1419.73 1888.48,1419.73 1889.63,1419.73 1890.78,1419.73 1891.92,1419.73 1893.06,1419.73 1894.19,1419.73 1895.32,1419.73 1896.45,1419.73 1897.57,1419.73 1898.68,1419.73 1899.8,1419.73 1900.9,1419.73 1902.01,1419.73 1903.11,1419.73 1904.2,1419.73 1905.3,1419.73 1906.38,1419.73 1907.47,1419.73 1908.55,1419.73 1909.62,1419.73 1910.7,1419.73 1911.77,1419.73 1912.83,1419.73 1913.89,1419.73 1914.95,1419.73 1916,1419.73 1917.05,1419.73 1918.1,1419.73 1919.14,1419.73 1920.18,1419.73 1921.21,1419.73 1922.24,1419.73 1923.27,1419.73 1924.29,1419.73 1925.32,1419.73 1926.33,1419.73 1927.35,1419.73 1928.36,1419.73 1929.36,1419.73 1930.37,1419.73 1931.37,1419.73 1932.36,1419.73 1933.36,1419.73 1934.35,1419.73 1935.33,1419.73 1936.32,1419.73 1937.3,1419.73 1938.27,1419.73 1939.25,1419.73 1940.22,1419.73 1941.19,1419.73 1942.15,1419.73 1943.11,1419.73 1944.07,1419.73 1945.02,1419.73 1945.98,1419.73 1946.92,1419.73 1947.87,1419.73 1948.81,1419.73 1949.75,1419.73 1950.69,1419.73 1951.62,1419.73 1952.55,1419.73 1953.48,1419.73 1954.41,1419.73 1955.33,1419.73 1956.25,1419.73 1957.16,1419.73 1958.08,1419.73 1958.99,1419.73 1959.9,1419.73 1960.8,1419.73 1961.71,1419.73 1962.61,1419.73 1963.5,1419.73 1964.4,1419.73 1965.29,1419.73 1966.18,1419.73 1967.06,1419.73 1967.95,1419.73 1968.83,1419.73 1969.71,1419.73 1970.58,1419.73 1971.46,1419.73 1972.33,1419.73 1973.2,1419.73 1974.06,1419.73 1974.92,1419.73 1975.78,1419.73 1976.64,1419.73 1977.5,1419.73 1978.35,1419.73 1979.2,1419.73 1980.05,1419.73 1980.9,1419.73 1981.74,1419.73 1982.58,1419.73 1983.42,1419.73 1984.26,1419.73 1985.09,1419.73 1985.92,1419.73 1986.75,1419.73 1987.58,1419.73 1988.4,1419.73 1989.23,1419.73 1990.05,1419.73 1990.86,1419.73 1991.68,1419.73 1992.49,1419.73 1993.3,1419.73 1994.11,1419.73 1994.92,1419.73 1995.72,1419.73 1996.53,1419.73 1997.33,1419.73 1998.12,1419.73 1998.92,1419.73 1999.71,1419.73 2000.51,1419.73 2001.3,1419.73 2002.08,1419.73 2002.87,1419.73 2003.65,1419.73 2004.43,1419.73 2005.21,1419.73 2005.99,1419.73 2006.77,1419.73 2007.54,1419.73 2008.31,1419.73 2009.08,1419.73 2009.85,1419.73 2010.61,1419.73 2011.37,1419.73 2012.14,1419.73 2012.89,1419.73 2013.65,1419.73 2014.41,1419.73 2015.16,1419.73 2015.91,1419.73 2016.66,1419.73 2017.41,1419.73 2018.16,1419.73 2018.9,1419.73 2019.64,1419.73 2020.38,1419.73 2021.12,1419.73 2021.86,1419.73 2022.59,1419.73 2023.32,1419.73 2024.06,1419.73 2024.79,1419.73 2025.51,1419.73 2026.24,1419.73 2026.96,1419.73 2027.68,1419.73 2028.41,1419.73 2029.12,1419.73 2029.84,1419.73 2030.56,1419.73 2031.27,1419.73 2031.98,1419.73 2032.69,1419.73 2033.4,1419.73 2034.11,1419.73 2034.81,1419.73 2035.52,1419.73 2036.22,1419.73 2036.92,1419.73 2037.62,1419.73 2038.31,1419.73 2039.01,1419.73 2039.7,1419.73 2040.39,1419.73 2041.08,1419.73 2041.77,1419.73 2042.46,1419.73 2043.15,1419.73 2043.83,1419.73 2044.51,1419.73 2045.19,1419.73 2045.87,1419.73 2046.55,1419.73 2047.23,1419.73 2047.9,1419.73 2048.57,1419.73 2049.24,1419.73 2049.91,1419.73 2050.58,1419.73 2051.25,1419.73 2051.92,1419.73 2052.58,1419.73 2053.24,1419.73 2053.9,1419.73 2054.56,1419.73 2055.22,1419.73 2055.88,1419.73 2056.53,1419.73 2057.19,1419.73 2057.84,1419.73 2058.49,1419.73 2059.14,1419.73 2059.79,1419.73 2060.43,1419.73 2061.08,1419.73 2061.72,1419.73 2062.37,1419.73 2063.01,1419.73 2063.65,1419.73 2064.29,1419.73 2064.92,1419.73 2065.56,1419.73 2066.19,1419.73 2066.82,1419.73 2067.46,1419.73 2068.09,1419.73 2068.72,1419.73 2069.34,1419.73 2069.97,1419.73 2070.59,1419.73 2071.22,1419.73 2071.84,1419.73 2072.46,1419.73 2073.08,1419.73 2073.7,1419.73 2074.32,1419.73 2074.93,1419.73 2075.55,1419.73 2076.16,1419.73 2076.77,1419.73 2077.38,1419.73 2077.99,1419.73 2078.6,1419.73 2079.21,1419.73 2079.81,1419.73 2080.42,1419.73 2081.02,1419.73 2081.62,1419.73 2082.22,1419.73 2082.82,1419.73 2083.42,1419.73 2084.02,1419.73 2084.61,1419.73 2085.21,1419.73 2085.8,1419.73 2086.39,1419.73 2086.99,1419.73 2087.58,1419.73 2088.16,1419.73 2088.75,1419.73 2089.34,1419.73 2089.92,1419.73 2090.51,1419.73 2091.09,1419.73 2091.67,1419.73 2092.25,1419.73 2092.83,1419.73 2093.41,1419.73 2093.99,1419.73 2094.57,1419.73 2095.14,1419.73 2095.71,1419.73 2096.29,1419.73 2096.86,1419.73 2097.43,1419.73 2098,1419.73 2098.57,1419.73 2099.14,1419.73 2099.7,1419.73 2100.27,1419.73 2100.83,1419.73 2101.39,1419.73 2101.96,1419.73 2102.52,1419.73 2103.08,1419.73 2103.64,1419.73 2104.19,1419.73 2104.75,1419.73 2105.31,1419.73 2105.86,1419.73 2106.42,1419.73 2106.97,1419.73 2107.52,1419.73 2108.07,1419.73 2108.62,1419.73 2109.17,1419.73 2109.72,1419.73 2110.26,1419.73 2110.81,1419.73 2111.35,1419.73 2111.9,1419.73 2112.44,1419.73 2112.98,1419.73 2113.52,1419.73 2114.06,1419.73 2114.6,1419.73 2115.14,1419.73 2115.67,1419.73 2116.21,1419.73 2116.74,1419.73 2117.28,1419.73 2117.81,1419.73 2118.34,1419.73 2118.87,1419.73 2119.4,1419.73 2119.93,1419.73 2120.46,1419.73 2120.99,1419.73 2121.51,1419.73 2122.04,1419.73 2122.56,1419.73 2123.09,1419.73 2123.61,1419.73 2124.13,1419.73 2124.65,1419.73 2125.17,1419.73 2125.69,1419.73 2126.21,1419.73 2126.72,1419.73 2127.24,1419.73 2127.75,1419.73 2128.27,1419.73 2128.78,1419.73 2129.3,1419.73 2129.81,1419.73 2130.32,1419.73 2130.83,1419.73 2131.34,1419.73 2131.84,1419.73 2132.35,1419.73 2132.86,1419.73 2133.36,1419.73 2133.87,1419.73 2134.37,1419.73 2134.88,1419.73 2135.38,1419.73 2135.88,1419.73 2136.38,1419.73 2136.88,1419.73 2137.38,1419.73 2137.87,1419.73 2138.37,1419.73 2138.87,1419.73 2139.36,1419.73 2139.86,1419.73 2140.35,1419.73 2140.84,1419.73 2141.34,1419.73 2141.83,1419.73 2142.32,1419.73 2142.81,1419.73 2143.3,1419.73 2143.79,1419.73 2144.27,1419.73 2144.76,1419.73 2145.24,1419.73 2145.73,1419.73 2146.21,1419.73 2146.7,1419.73 2147.18,1419.73 2147.66,1419.73 2148.14,1419.73 2148.62,1419.73 2149.1,1419.73 2149.58,1419.73 2150.06,1419.73 2150.53,1419.73 2151.01,1419.73 2151.49,1419.73 2151.96,1419.73 2152.44,1419.73 2152.91,1419.73 2153.38,1419.73 2153.85,1419.73 2154.32,1419.73 2154.79,1419.73 2155.26,1419.73 2155.73,1419.73 2156.2,1419.73 2156.67,1419.73 2157.13,1419.73 2157.6,1419.73 2158.07,1419.73 2158.53,1419.73 2158.99,1419.73 2159.46,1419.73 2159.92,1419.73 2160.38,1419.73 2160.84,1419.73 2161.3,1419.73 2161.76,1419.73 2162.22,1419.73 2162.68,1419.73 2163.13,1419.73 2163.59,1419.73 2164.05,1419.73 2164.5,1419.73 2164.96,1419.73 2165.41,1419.73 2165.86,1419.73 2166.31,1419.73 2166.77,1419.73 2167.22,1419.73 2167.67,1419.73 2168.12,1419.73 2168.57,1419.73 2169.01,1419.73 2169.46,1419.73 2169.91,1419.73 2170.35,1419.73 2170.8,1419.73 2171.24,1419.73 2171.69,1419.73 2172.13,1419.73 2172.58,1419.73 2173.02,1419.73 2173.46,1419.73 2173.9,1419.73 2174.34,1419.73 2174.78,1419.73 2175.22,1419.73 2175.66,1419.73 2176.09,1419.73 2176.53,1419.73 2176.97,1419.73 2177.4,1419.73 2177.84,1419.73 2178.27,1419.73 2178.71,1419.73 2179.14,1419.73 2179.57,1419.73 2180,1419.73 2180.44,1419.73 2180.87,1419.73 2181.3,1419.73 2181.73,1419.73 2182.15,1419.73 2182.58,1419.73 2183.01,1419.73 2183.44,1419.73 2183.86,1419.73 2184.29,1419.73 2184.71,1419.73 2185.14,1419.73 2185.56,1419.73 2185.99,1419.73 2186.41,1419.73 2186.83,1419.73 2187.25,1419.73 2187.67,1419.73 2188.09,1419.73 2188.51,1419.73 2188.93,1419.73 2189.35,1419.73 2189.77,1419.73 2190.19,1419.73 2190.6,1419.73 2191.02,1419.73 2191.43,1419.73 2191.85,1419.73 2192.26,1419.73 2192.68,1419.73 2193.09,1419.73 2193.5,1419.73 2193.91,1419.73 2194.33,1419.73 2194.74,1419.73 2195.15,1419.73 2195.56,1419.73 2195.97,1419.73 2196.38,1419.73 2196.78,1419.73 2197.19,1419.73 2197.6,1419.73 2198,1419.73 2198.41,1419.73 2198.82,1419.73 2199.22,1419.73 2199.62,1419.73 2200.03,1419.73 2200.43,1419.73 2200.83,1419.73 2201.24,1419.73 2201.64,1419.73 2202.04,1419.73 2202.44,1419.73 2202.84,1419.73 2203.24,1419.73 2203.64,1419.73 2204.04,1419.73 2204.43,1419.73 2204.83,1419.73 2205.23,1419.73 2205.62,1419.73 2206.02,1419.73 2206.41,1419.73 2206.81,1419.73 2207.2,1419.73 2207.6,1419.73 2207.99,1419.73 2208.38,1419.73 2208.77,1419.73 2209.16,1419.73 2209.55,1419.73 2209.95,1419.73 2210.34,1419.73 2210.72,1419.73 2211.11,1419.73 2211.5,1419.73 2211.89,1419.73 2212.28,1419.73 2212.66,1419.73 2213.05,1419.73 2213.44,1419.73 2213.82,1419.73 2214.21,1419.73 2214.59,1419.73 2214.97,1419.73 2215.36,1419.73 2215.74,1419.73 2216.12,1419.73 2216.5,1419.73 2216.89,1419.73 2217.27,1419.73 2217.65,1419.73 2218.03,1419.73 2218.41,1419.73 2218.78,1419.73 2219.16,1419.73 2219.54,1419.73 2219.92,1419.73 2220.3,1419.73 2220.67,1419.73 2221.05,1419.73 2221.42,1419.73 2221.8,1419.73 2222.17,1419.73 2222.55,1419.73 2222.92,1419.73 2223.29,1419.73 2223.67,1419.73 2224.04,1419.73 2224.41,1419.73 2224.78,1419.73 2225.15,1419.73 2225.52,1419.73 2225.89,1419.73 2226.26,1419.73 2226.63,1419.73 2227,1419.73 2227.37,1419.73 2227.74,1419.73 2228.1,1419.73 2228.47,1419.73 2228.84,1419.73 2229.2,1419.73 2229.57,1419.73 2229.93,1419.73 2230.3,1419.73 2230.66,1419.73 2231.02,1419.73 2231.39,1419.73 2231.75,1419.73 2232.11,1419.73 2232.47,1419.73 2232.84,1419.73 2233.2,1419.73 2233.56,1419.73 2233.92,1419.73 2234.28,1419.73 2234.64,1419.73 2234.99,1419.73 2235.35,1419.73 2235.71,1419.73 2236.07,1419.73 2236.43,1419.73 2236.78,1419.73 2237.14,1419.73 2237.49,1419.73 2237.85,1419.73 2238.2,1419.73 2238.56,1419.73 2238.91,1419.73 2239.27,1419.73 2239.62,1419.73 2239.97,1419.73 2240.32,1419.73 2240.68,1419.73 2241.03,1419.73 2241.38,1419.73 2241.73,1419.73 2242.08,1419.73 2242.43,1419.73 2242.78,1419.73 2243.13,1419.73 2243.48,1419.73 2243.82,1419.73 2244.17,1419.73 2244.52,1419.73 2244.87,1419.73 2245.21,1419.73 2245.56,1419.73 2245.91,1419.73 2246.25,1419.73 2246.6,1419.73 2246.94,1419.73 2247.28,1419.73 2247.63,1419.73 2247.97,1419.73 2248.31,1419.73 2248.66,1419.73 2249,1419.73 2249.34,1419.73 2249.68,1419.73 2250.02,1419.73 2250.36,1419.73 2250.7,1419.73 2251.04,1419.73 2251.38,1419.73 2251.72,1419.73 2252.06,1419.73 2252.4,1419.73 2252.74,1419.73 2253.07,1419.73 2253.41,1419.73 2253.75,1419.73 2254.08,1419.73 2254.42,1419.73 2254.76,1419.73 2255.09,1419.73 2255.43,1419.73 2255.76,1419.73 2256.1,1419.73 2256.43,1419.73 2256.76,1419.73 2257.1,1419.73 2257.43,1419.73 2257.76,1419.73 2258.09,1419.73 2258.42,1419.73 2258.75,1419.73 2259.08,1419.73 2259.42,1419.73 2259.75,1419.73 2260.07,1419.73 2260.4,1419.73 2260.73,1419.73 2261.06,1419.73 2261.39,1419.73 2261.72,1419.73 2262.04,1419.73 2262.37,1419.73 2262.7,1419.73 2263.03,1419.73 2263.35,1419.73 2263.68,1419.73 2264,1419.73 2264.33,1419.73 2264.65,1419.73 2264.98,1419.73 2265.3,1419.73 2265.62,1419.73 2265.95,1419.73 2266.27,1419.73 2266.59,1419.73 2266.91,1419.73 2267.24,1419.73 2267.56,1419.73 2267.88,1419.73 2268.2,1419.73 2268.52,1419.73 2268.84,1419.73 2269.16,1419.73 2269.48,1419.73 2269.8,1419.73 2270.12,1419.73 2270.43,1419.73 2270.75,1419.73 2271.07,1419.73 2271.39,1419.73 2271.7,1419.73 2272.02,1419.73 2272.34,1419.73 2272.65,1419.73 2272.97,1419.73 2273.28,1419.73 2273.6,1419.73 2273.91,1419.73 2274.23,1419.73 2274.54,1419.73 2274.85,1419.73 2275.17,1419.73 2275.48,1419.73 2275.79,1419.73 2276.11,1419.73 2276.42,1419.73 2276.73,1419.73 2277.04,1419.73 2277.35,1419.73 2277.66,1419.73 2277.97,1419.73 2278.28,1419.73 2278.59,1419.73 2278.9,1419.73 2279.21,1419.73 2279.52,1419.73 2279.83,1419.73 2280.14,1419.73 2280.44,1419.73 2280.75,1419.73 2281.06,1419.73 2281.36,1419.73 2281.67,1419.73 2281.98,1419.73 2282.28,1419.73 2282.59,1419.73 2282.89,1419.73 2283.2,1419.73 2283.5,1419.73 2283.81,1419.73 2284.11,1419.73 2284.41,1419.73 2284.72,1419.73 2285.02,1419.73 2285.32,1419.73 2285.63,1419.73 2285.93,1419.73 2286.23,1419.73 2286.53,1419.73 2286.83,1419.73 2287.13,1419.73 2287.43,1419.73 2287.73,1419.73 2288.03,1419.73 2288.33,1419.73 2288.63,1419.73 2288.93,1419.73 2289.23,1419.73 2289.53,1419.73 2289.83,1419.73 2290.12,1419.73 2290.42,1419.73 2290.72,1419.73 2291.02,1419.73 2291.31,1419.73 \"/>\n",
       "<polyline clip-path=\"url(#clip722)\" style=\"stroke:#e26f46; stroke-linecap:round; stroke-linejoin:round; stroke-width:4; stroke-opacity:1; fill:none\" points=\"243.227,1068.76 448.739,1079.81 568.956,1093.8 654.251,1110.08 720.411,1128.21 774.468,1147.92 820.172,1168.98 859.763,1191.24 894.684,1214.57 925.923,1238.87 954.181,1264.05 979.979,1290.04 1003.71,1316.79 1025.68,1344.23 1046.14,1372.31 1065.27,1401.16 \"/>\n",
       "<polyline clip-path=\"url(#clip722)\" style=\"stroke:#e26f46; stroke-linecap:round; stroke-linejoin:round; stroke-width:4; stroke-opacity:1; fill:none\" points=\"1100.2,1433.78 1116.23,1433.78 1131.43,1433.78 1145.9,1433.78 1159.69,1433.78 1172.87,1433.78 1185.49,1433.78 1197.59,1433.78 1209.22,1433.78 1220.41,1433.78 1231.2,1433.78 1241.6,1433.78 1251.65,1433.78 1261.37,1433.78 1270.79,1433.78 1279.91,1433.78 1288.76,1433.78 1297.36,1433.78 1305.71,1433.78 1313.83,1433.78 1321.74,1433.78 1329.44,1433.78 1336.95,1433.78 1344.27,1433.78 1351.41,1433.78 1358.39,1433.78 1365.2,1433.78 1371.87,1433.78 1378.38,1433.78 1384.76,1433.78 1391,1433.78 1397.12,1433.78 1403.11,1433.78 1408.98,1433.78 1414.73,1433.78 1420.38,1433.78 1425.92,1433.78 1431.36,1433.78 1436.71,1433.78 1441.95,1433.78 1447.11,1433.78 1452.18,1433.78 1457.16,1433.78 1462.06,1433.78 1466.88,1433.78 1471.63,1433.78 1476.3,1433.78 1480.89,1433.78 1485.42,1433.78 1489.88,1433.78 1494.27,1433.78 1498.6,1433.78 1502.87,1433.78 1507.07,1433.78 1511.22,1433.78 1515.31,1433.78 1519.34,1433.78 1523.32,1433.78 1527.25,1433.78 1531.13,1433.78 1534.95,1433.78 1538.73,1433.78 1542.46,1433.78 1546.14,1433.78 1549.78,1433.78 1553.37,1433.78 1556.92,1433.78 1560.43,1433.78 1563.9,1433.78 1567.33,1433.78 1570.72,1433.78 1574.07,1433.78 1577.38,1433.78 1580.66,1433.78 1583.9,1433.78 1587.1,1433.78 1590.27,1433.78 1593.41,1433.78 1596.51,1433.78 1599.59,1433.78 1602.63,1433.78 1605.64,1433.78 1608.62,1433.78 1611.57,1433.78 1614.49,1433.78 1617.38,1433.78 1620.25,1433.78 1623.08,1433.78 1625.89,1433.78 1628.68,1433.78 1631.44,1433.78 1634.17,1433.78 1636.88,1433.78 1639.56,1433.78 1642.22,1433.78 1644.85,1433.78 1647.47,1433.78 1650.06,1433.78 1652.62,1433.78 1655.17,1433.78 1657.69,1433.78 1660.19,1433.78 1662.67,1433.78 1665.14,1433.78 1667.58,1433.78 1670,1433.78 1672.4,1433.78 1674.78,1433.78 1677.14,1433.78 1679.48,1433.78 1681.81,1433.78 1684.12,1433.78 1686.41,1433.78 1688.68,1433.78 1690.93,1433.78 1693.17,1433.78 1695.39,1433.78 1697.6,1433.78 1699.78,1433.78 1701.96,1433.78 1704.11,1433.78 1706.25,1433.78 1708.38,1433.78 1710.49,1433.78 1712.58,1433.78 1714.67,1433.78 1716.73,1433.78 1718.78,1433.78 1720.82,1433.78 1722.84,1433.78 1724.85,1433.78 1726.85,1433.78 1728.83,1433.78 1730.8,1433.78 1732.76,1433.78 1734.71,1433.78 1736.64,1433.78 1738.56,1433.78 1740.46,1433.78 1742.36,1433.78 1744.24,1433.78 1746.11,1433.78 1747.97,1433.78 1749.82,1433.78 1751.65,1433.78 1753.48,1433.78 1755.29,1433.78 1757.09,1433.78 1758.88,1433.78 1760.67,1433.78 1762.44,1433.78 1764.2,1433.78 1765.94,1433.78 1767.68,1433.78 1769.41,1433.78 1771.13,1433.78 1772.84,1433.78 1774.54,1433.78 1776.23,1433.78 1777.91,1433.78 1779.58,1433.78 1781.24,1433.78 1782.89,1433.78 1784.53,1433.78 1786.17,1433.78 1787.79,1433.78 1789.41,1433.78 1791.01,1433.78 1792.61,1433.78 1794.2,1433.78 1795.78,1433.78 1797.36,1433.78 1798.92,1433.78 1800.48,1433.78 1802.03,1433.78 1803.57,1433.78 1805.1,1433.78 1806.62,1433.78 1808.14,1433.78 1809.65,1433.78 1811.15,1433.78 1812.64,1433.78 1814.13,1433.78 1815.61,1433.78 1817.08,1433.78 1818.54,1433.78 1820,1433.78 1821.45,1433.78 1822.89,1433.78 1824.33,1433.78 1825.76,1433.78 1827.18,1433.78 1828.6,1433.78 1830,1433.78 1831.41,1433.78 1832.8,1433.78 1834.19,1433.78 1835.57,1433.78 1836.95,1433.78 1838.32,1433.78 1839.68,1433.78 1841.04,1433.78 1842.39,1433.78 1843.73,1433.78 1845.07,1433.78 1846.4,1433.78 1847.73,1433.78 1849.05,1433.78 1850.37,1433.78 1851.68,1433.78 1852.98,1433.78 1854.28,1433.78 1855.57,1433.78 1856.85,1433.78 1858.13,1433.78 1859.41,1433.78 1860.68,1433.78 1861.94,1433.78 1863.2,1433.78 1864.46,1433.78 1865.71,1433.78 1866.95,1433.78 1868.19,1433.78 1869.42,1433.78 1870.65,1433.78 1871.87,1433.78 1873.09,1433.78 1874.3,1433.78 1875.51,1433.78 1876.71,1433.78 1877.91,1433.78 1879.1,1433.78 1880.29,1433.78 1881.47,1433.78 1882.65,1433.78 1883.83,1433.78 1885,1433.78 1886.16,1433.78 1887.32,1433.78 1888.48,1433.78 1889.63,1433.78 1890.78,1433.78 1891.92,1433.78 1893.06,1433.78 1894.19,1433.78 1895.32,1433.78 1896.45,1433.78 1897.57,1433.78 1898.68,1433.78 1899.8,1433.78 1900.9,1433.78 1902.01,1433.78 1903.11,1433.78 1904.2,1433.78 1905.3,1433.78 1906.38,1433.78 1907.47,1433.78 1908.55,1433.78 1909.62,1433.78 1910.7,1433.78 1911.77,1433.78 1912.83,1433.78 1913.89,1433.78 1914.95,1433.78 1916,1433.78 1917.05,1433.78 1918.1,1433.78 1919.14,1433.78 1920.18,1433.78 1921.21,1433.78 1922.24,1433.78 1923.27,1433.78 1924.29,1433.78 1925.32,1433.78 1926.33,1433.78 1927.35,1433.78 1928.36,1433.78 1929.36,1433.78 1930.37,1433.78 1931.37,1433.78 1932.36,1433.78 1933.36,1433.78 1934.35,1433.78 1935.33,1433.78 1936.32,1433.78 1937.3,1433.78 1938.27,1433.78 1939.25,1433.78 1940.22,1433.78 1941.19,1433.78 1942.15,1433.78 1943.11,1433.78 1944.07,1433.78 1945.02,1433.78 1945.98,1433.78 1946.92,1433.78 1947.87,1433.78 1948.81,1433.78 1949.75,1433.78 1950.69,1433.78 1951.62,1433.78 1952.55,1433.78 1953.48,1433.78 1954.41,1433.78 1955.33,1433.78 1956.25,1433.78 1957.16,1433.78 1958.08,1433.78 1958.99,1433.78 1959.9,1433.78 1960.8,1433.78 1961.71,1433.78 1962.61,1433.78 1963.5,1433.78 1964.4,1433.78 1965.29,1433.78 1966.18,1433.78 1967.06,1433.78 1967.95,1433.78 1968.83,1433.78 1969.71,1433.78 1970.58,1433.78 1971.46,1433.78 1972.33,1433.78 1973.2,1433.78 1974.06,1433.78 1974.92,1433.78 1975.78,1433.78 1976.64,1433.78 1977.5,1433.78 1978.35,1433.78 1979.2,1433.78 1980.05,1433.78 1980.9,1433.78 1981.74,1433.78 1982.58,1433.78 1983.42,1433.78 1984.26,1433.78 1985.09,1433.78 1985.92,1433.78 1986.75,1433.78 1987.58,1433.78 1988.4,1433.78 1989.23,1433.78 1990.05,1433.78 1990.86,1433.78 1991.68,1433.78 1992.49,1433.78 1993.3,1433.78 1994.11,1433.78 1994.92,1433.78 1995.72,1433.78 1996.53,1433.78 1997.33,1433.78 1998.12,1433.78 1998.92,1433.78 1999.71,1433.78 2000.51,1433.78 2001.3,1433.78 2002.08,1433.78 2002.87,1433.78 2003.65,1433.78 2004.43,1433.78 2005.21,1433.78 2005.99,1433.78 2006.77,1433.78 2007.54,1433.78 2008.31,1433.78 2009.08,1433.78 2009.85,1433.78 2010.61,1433.78 2011.37,1433.78 2012.14,1433.78 2012.89,1433.78 2013.65,1433.78 2014.41,1433.78 2015.16,1433.78 2015.91,1433.78 2016.66,1433.78 2017.41,1433.78 2018.16,1433.78 2018.9,1433.78 2019.64,1433.78 2020.38,1433.78 2021.12,1433.78 2021.86,1433.78 2022.59,1433.78 2023.32,1433.78 2024.06,1433.78 2024.79,1433.78 2025.51,1433.78 2026.24,1433.78 2026.96,1433.78 2027.68,1433.78 2028.41,1433.78 2029.12,1433.78 2029.84,1433.78 2030.56,1433.78 2031.27,1433.78 2031.98,1433.78 2032.69,1433.78 2033.4,1433.78 2034.11,1433.78 2034.81,1433.78 2035.52,1433.78 2036.22,1433.78 2036.92,1433.78 2037.62,1433.78 2038.31,1433.78 2039.01,1433.78 2039.7,1433.78 2040.39,1433.78 2041.08,1433.78 2041.77,1433.78 2042.46,1433.78 2043.15,1433.78 2043.83,1433.78 2044.51,1433.78 2045.19,1433.78 2045.87,1433.78 2046.55,1433.78 2047.23,1433.78 2047.9,1433.78 2048.57,1433.78 2049.24,1433.78 2049.91,1433.78 2050.58,1433.78 2051.25,1433.78 2051.92,1433.78 2052.58,1433.78 2053.24,1433.78 2053.9,1433.78 2054.56,1433.78 2055.22,1433.78 2055.88,1433.78 2056.53,1433.78 2057.19,1433.78 2057.84,1433.78 2058.49,1433.78 2059.14,1433.78 2059.79,1433.78 2060.43,1433.78 2061.08,1433.78 2061.72,1433.78 2062.37,1433.78 2063.01,1433.78 2063.65,1433.78 2064.29,1433.78 2064.92,1433.78 2065.56,1433.78 2066.19,1433.78 2066.82,1433.78 2067.46,1433.78 2068.09,1433.78 2068.72,1433.78 2069.34,1433.78 2069.97,1433.78 2070.59,1433.78 2071.22,1433.78 2071.84,1433.78 2072.46,1433.78 2073.08,1433.78 2073.7,1433.78 2074.32,1433.78 2074.93,1433.78 2075.55,1433.78 2076.16,1433.78 2076.77,1433.78 2077.38,1433.78 2077.99,1433.78 2078.6,1433.78 2079.21,1433.78 2079.81,1433.78 2080.42,1433.78 2081.02,1433.78 2081.62,1433.78 2082.22,1433.78 2082.82,1433.78 2083.42,1433.78 2084.02,1433.78 2084.61,1433.78 2085.21,1433.78 2085.8,1433.78 2086.39,1433.78 2086.99,1433.78 2087.58,1433.78 2088.16,1433.78 2088.75,1433.78 2089.34,1433.78 2089.92,1433.78 2090.51,1433.78 2091.09,1433.78 2091.67,1433.78 2092.25,1433.78 2092.83,1433.78 2093.41,1433.78 2093.99,1433.78 2094.57,1433.78 2095.14,1433.78 2095.71,1433.78 2096.29,1433.78 2096.86,1433.78 2097.43,1433.78 2098,1433.78 2098.57,1433.78 2099.14,1433.78 2099.7,1433.78 2100.27,1433.78 2100.83,1433.78 2101.39,1433.78 2101.96,1433.78 2102.52,1433.78 2103.08,1433.78 2103.64,1433.78 2104.19,1433.78 2104.75,1433.78 2105.31,1433.78 2105.86,1433.78 2106.42,1433.78 2106.97,1433.78 2107.52,1433.78 2108.07,1433.78 2108.62,1433.78 2109.17,1433.78 2109.72,1433.78 2110.26,1433.78 2110.81,1433.78 2111.35,1433.78 2111.9,1433.78 2112.44,1433.78 2112.98,1433.78 2113.52,1433.78 2114.06,1433.78 2114.6,1433.78 2115.14,1433.78 2115.67,1433.78 2116.21,1433.78 2116.74,1433.78 2117.28,1433.78 2117.81,1433.78 2118.34,1433.78 2118.87,1433.78 2119.4,1433.78 2119.93,1433.78 2120.46,1433.78 2120.99,1433.78 2121.51,1433.78 2122.04,1433.78 2122.56,1433.78 2123.09,1433.78 2123.61,1433.78 2124.13,1433.78 2124.65,1433.78 2125.17,1433.78 2125.69,1433.78 2126.21,1433.78 2126.72,1433.78 2127.24,1433.78 2127.75,1433.78 2128.27,1433.78 2128.78,1433.78 2129.3,1433.78 2129.81,1433.78 2130.32,1433.78 2130.83,1433.78 2131.34,1433.78 2131.84,1433.78 2132.35,1433.78 2132.86,1433.78 2133.36,1433.78 2133.87,1433.78 2134.37,1433.78 2134.88,1433.78 2135.38,1433.78 2135.88,1433.78 2136.38,1433.78 2136.88,1433.78 2137.38,1433.78 2137.87,1433.78 2138.37,1433.78 2138.87,1433.78 2139.36,1433.78 2139.86,1433.78 2140.35,1433.78 2140.84,1433.78 2141.34,1433.78 2141.83,1433.78 2142.32,1433.78 2142.81,1433.78 2143.3,1433.78 2143.79,1433.78 2144.27,1433.78 2144.76,1433.78 2145.24,1433.78 2145.73,1433.78 2146.21,1433.78 2146.7,1433.78 2147.18,1433.78 2147.66,1433.78 2148.14,1433.78 2148.62,1433.78 2149.1,1433.78 2149.58,1433.78 2150.06,1433.78 2150.53,1433.78 2151.01,1433.78 2151.49,1433.78 2151.96,1433.78 2152.44,1433.78 2152.91,1433.78 2153.38,1433.78 2153.85,1433.78 2154.32,1433.78 2154.79,1433.78 2155.26,1433.78 2155.73,1433.78 2156.2,1433.78 2156.67,1433.78 2157.13,1433.78 2157.6,1433.78 2158.07,1433.78 2158.53,1433.78 2158.99,1433.78 2159.46,1433.78 2159.92,1433.78 2160.38,1433.78 2160.84,1433.78 2161.3,1433.78 2161.76,1433.78 2162.22,1433.78 2162.68,1433.78 2163.13,1433.78 2163.59,1433.78 2164.05,1433.78 2164.5,1433.78 2164.96,1433.78 2165.41,1433.78 2165.86,1433.78 2166.31,1433.78 2166.77,1433.78 2167.22,1433.78 2167.67,1433.78 2168.12,1433.78 2168.57,1433.78 2169.01,1433.78 2169.46,1433.78 2169.91,1433.78 2170.35,1433.78 2170.8,1433.78 2171.24,1433.78 2171.69,1433.78 2172.13,1433.78 2172.58,1433.78 2173.02,1433.78 2173.46,1433.78 2173.9,1433.78 2174.34,1433.78 2174.78,1433.78 2175.22,1433.78 2175.66,1433.78 2176.09,1433.78 2176.53,1433.78 2176.97,1433.78 2177.4,1433.78 2177.84,1433.78 2178.27,1433.78 2178.71,1433.78 2179.14,1433.78 2179.57,1433.78 2180,1433.78 2180.44,1433.78 2180.87,1433.78 2181.3,1433.78 2181.73,1433.78 2182.15,1433.78 2182.58,1433.78 2183.01,1433.78 2183.44,1433.78 2183.86,1433.78 2184.29,1433.78 2184.71,1433.78 2185.14,1433.78 2185.56,1433.78 2185.99,1433.78 2186.41,1433.78 2186.83,1433.78 2187.25,1433.78 2187.67,1433.78 2188.09,1433.78 2188.51,1433.78 2188.93,1433.78 2189.35,1433.78 2189.77,1433.78 2190.19,1433.78 2190.6,1433.78 2191.02,1433.78 2191.43,1433.78 2191.85,1433.78 2192.26,1433.78 2192.68,1433.78 2193.09,1433.78 2193.5,1433.78 2193.91,1433.78 2194.33,1433.78 2194.74,1433.78 2195.15,1433.78 2195.56,1433.78 2195.97,1433.78 2196.38,1433.78 2196.78,1433.78 2197.19,1433.78 2197.6,1433.78 2198,1433.78 2198.41,1433.78 2198.82,1433.78 2199.22,1433.78 2199.62,1433.78 2200.03,1433.78 2200.43,1433.78 2200.83,1433.78 2201.24,1433.78 2201.64,1433.78 2202.04,1433.78 2202.44,1433.78 2202.84,1433.78 2203.24,1433.78 2203.64,1433.78 2204.04,1433.78 2204.43,1433.78 2204.83,1433.78 2205.23,1433.78 2205.62,1433.78 2206.02,1433.78 2206.41,1433.78 2206.81,1433.78 2207.2,1433.78 2207.6,1433.78 2207.99,1433.78 2208.38,1433.78 2208.77,1433.78 2209.16,1433.78 2209.55,1433.78 2209.95,1433.78 2210.34,1433.78 2210.72,1433.78 2211.11,1433.78 2211.5,1433.78 2211.89,1433.78 2212.28,1433.78 2212.66,1433.78 2213.05,1433.78 2213.44,1433.78 2213.82,1433.78 2214.21,1433.78 2214.59,1433.78 2214.97,1433.78 2215.36,1433.78 2215.74,1433.78 2216.12,1433.78 2216.5,1433.78 2216.89,1433.78 2217.27,1433.78 2217.65,1433.78 2218.03,1433.78 2218.41,1433.78 2218.78,1433.78 2219.16,1433.78 2219.54,1433.78 2219.92,1433.78 2220.3,1433.78 2220.67,1433.78 2221.05,1433.78 2221.42,1433.78 2221.8,1433.78 2222.17,1433.78 2222.55,1433.78 2222.92,1433.78 2223.29,1433.78 2223.67,1433.78 2224.04,1433.78 2224.41,1433.78 2224.78,1433.78 2225.15,1433.78 2225.52,1433.78 2225.89,1433.78 2226.26,1433.78 2226.63,1433.78 2227,1433.78 2227.37,1433.78 2227.74,1433.78 2228.1,1433.78 2228.47,1433.78 2228.84,1433.78 2229.2,1433.78 2229.57,1433.78 2229.93,1433.78 2230.3,1433.78 2230.66,1433.78 2231.02,1433.78 2231.39,1433.78 2231.75,1433.78 2232.11,1433.78 2232.47,1433.78 2232.84,1433.78 2233.2,1433.78 2233.56,1433.78 2233.92,1433.78 2234.28,1433.78 2234.64,1433.78 2234.99,1433.78 2235.35,1433.78 2235.71,1433.78 2236.07,1433.78 2236.43,1433.78 2236.78,1433.78 2237.14,1433.78 2237.49,1433.78 2237.85,1433.78 2238.2,1433.78 2238.56,1433.78 2238.91,1433.78 2239.27,1433.78 2239.62,1433.78 2239.97,1433.78 2240.32,1433.78 2240.68,1433.78 2241.03,1433.78 2241.38,1433.78 2241.73,1433.78 2242.08,1433.78 2242.43,1433.78 2242.78,1433.78 2243.13,1433.78 2243.48,1433.78 2243.82,1433.78 2244.17,1433.78 2244.52,1433.78 2244.87,1433.78 2245.21,1433.78 2245.56,1433.78 2245.91,1433.78 2246.25,1433.78 2246.6,1433.78 2246.94,1433.78 2247.28,1433.78 2247.63,1433.78 2247.97,1433.78 2248.31,1433.78 2248.66,1433.78 2249,1433.78 2249.34,1433.78 2249.68,1433.78 2250.02,1433.78 2250.36,1433.78 2250.7,1433.78 2251.04,1433.78 2251.38,1433.78 2251.72,1433.78 2252.06,1433.78 2252.4,1433.78 2252.74,1433.78 2253.07,1433.78 2253.41,1433.78 2253.75,1433.78 2254.08,1433.78 2254.42,1433.78 2254.76,1433.78 2255.09,1433.78 2255.43,1433.78 2255.76,1433.78 2256.1,1433.78 2256.43,1433.78 2256.76,1433.78 2257.1,1433.78 2257.43,1433.78 2257.76,1433.78 2258.09,1433.78 2258.42,1433.78 2258.75,1433.78 2259.08,1433.78 2259.42,1433.78 2259.75,1433.78 2260.07,1433.78 2260.4,1433.78 2260.73,1433.78 2261.06,1433.78 2261.39,1433.78 2261.72,1433.78 2262.04,1433.78 2262.37,1433.78 2262.7,1433.78 2263.03,1433.78 2263.35,1433.78 2263.68,1433.78 2264,1433.78 2264.33,1433.78 2264.65,1433.78 2264.98,1433.78 2265.3,1433.78 2265.62,1433.78 2265.95,1433.78 2266.27,1433.78 2266.59,1433.78 2266.91,1433.78 2267.24,1433.78 2267.56,1433.78 2267.88,1433.78 2268.2,1433.78 2268.52,1433.78 2268.84,1433.78 2269.16,1433.78 2269.48,1433.78 2269.8,1433.78 2270.12,1433.78 2270.43,1433.78 2270.75,1433.78 2271.07,1433.78 2271.39,1433.78 2271.7,1433.78 2272.02,1433.78 2272.34,1433.78 2272.65,1433.78 2272.97,1433.78 2273.28,1433.78 2273.6,1433.78 2273.91,1433.78 2274.23,1433.78 2274.54,1433.78 2274.85,1433.78 2275.17,1433.78 2275.48,1433.78 2275.79,1433.78 2276.11,1433.78 2276.42,1433.78 2276.73,1433.78 2277.04,1433.78 2277.35,1433.78 2277.66,1433.78 2277.97,1433.78 2278.28,1433.78 2278.59,1433.78 2278.9,1433.78 2279.21,1433.78 2279.52,1433.78 2279.83,1433.78 2280.14,1433.78 2280.44,1433.78 2280.75,1433.78 2281.06,1433.78 2281.36,1433.78 2281.67,1433.78 2281.98,1433.78 2282.28,1433.78 2282.59,1433.78 2282.89,1433.78 2283.2,1433.78 2283.5,1433.78 2283.81,1433.78 2284.11,1433.78 2284.41,1433.78 2284.72,1433.78 2285.02,1433.78 2285.32,1433.78 2285.63,1433.78 2285.93,1433.78 2286.23,1433.78 2286.53,1433.78 2286.83,1433.78 2287.13,1433.78 2287.43,1433.78 2287.73,1433.78 2288.03,1433.78 2288.33,1433.78 2288.63,1433.78 2288.93,1433.78 2289.23,1433.78 2289.53,1433.78 2289.83,1433.78 2290.12,1433.78 2290.42,1433.78 2290.72,1433.78 2291.02,1433.78 2291.31,1433.78 \"/>\n",
       "<polyline clip-path=\"url(#clip722)\" style=\"stroke:#3da44d; stroke-linecap:round; stroke-linejoin:round; stroke-width:4; stroke-opacity:1; fill:none\" points=\"243.227,1047.39 448.739,1039.78 568.956,1035.99 654.251,1034.93 720.411,1035.99 774.468,1038.79 820.172,1043.07 859.763,1048.62 894.684,1055.31 925.923,1063.02 954.181,1071.65 979.979,1081.12 1003.71,1091.36 1025.68,1102.33 1046.14,1113.97 1065.27,1126.24 1083.25,1139.11 1100.2,1152.53 1116.23,1166.48 1131.43,1180.93 1145.9,1195.86 1159.69,1211.25 1172.87,1227.08 1185.49,1243.32 1197.59,1259.97 1209.22,1277 1220.41,1294.41 1231.2,1312.18 1241.6,1330.28 1251.65,1348.75 1261.37,1367.4 1270.79,1387.34 1279.91,1402 1288.76,1416.99 1297.36,1412.99 1305.71,1413.45 1313.83,1413.39 1321.74,1413.4 1329.44,1413.4 1336.95,1413.4 1344.27,1413.4 1351.41,1413.4 1358.39,1413.4 1365.2,1413.4 1371.87,1413.4 1378.38,1413.4 1384.76,1413.4 1391,1413.4 1397.12,1413.4 1403.11,1413.4 1408.98,1413.4 1414.73,1413.4 1420.38,1413.4 1425.92,1413.4 1431.36,1413.4 1436.71,1413.4 1441.95,1413.4 1447.11,1413.4 1452.18,1413.4 1457.16,1413.4 1462.06,1413.4 1466.88,1413.4 1471.63,1413.4 1476.3,1413.4 1480.89,1413.4 1485.42,1413.4 1489.88,1413.4 1494.27,1413.4 1498.6,1413.4 1502.87,1413.4 1507.07,1413.4 1511.22,1413.4 1515.31,1413.4 1519.34,1413.4 1523.32,1413.4 1527.25,1413.4 1531.13,1413.4 1534.95,1413.4 1538.73,1413.4 1542.46,1413.4 1546.14,1413.4 1549.78,1413.4 1553.37,1413.4 1556.92,1413.4 1560.43,1413.4 1563.9,1413.4 1567.33,1413.4 1570.72,1413.4 1574.07,1413.4 1577.38,1413.4 1580.66,1413.4 1583.9,1413.4 1587.1,1413.4 1590.27,1413.4 1593.41,1413.4 1596.51,1413.4 1599.59,1413.4 1602.63,1413.4 1605.64,1413.4 1608.62,1413.4 1611.57,1413.4 1614.49,1413.4 1617.38,1413.4 1620.25,1413.4 1623.08,1413.4 1625.89,1413.4 1628.68,1413.4 1631.44,1413.4 1634.17,1413.4 1636.88,1413.4 1639.56,1413.4 1642.22,1413.4 1644.85,1413.4 1647.47,1413.4 1650.06,1413.4 1652.62,1413.4 1655.17,1413.4 1657.69,1413.4 1660.19,1413.4 1662.67,1413.4 1665.14,1413.4 1667.58,1413.4 1670,1413.4 1672.4,1413.4 1674.78,1413.4 1677.14,1413.4 1679.48,1413.4 1681.81,1413.4 1684.12,1413.4 1686.41,1413.4 1688.68,1413.4 1690.93,1413.4 1693.17,1413.4 1695.39,1413.4 1697.6,1413.4 1699.78,1413.4 1701.96,1413.4 1704.11,1413.4 1706.25,1413.4 1708.38,1413.4 1710.49,1413.4 1712.58,1413.4 1714.67,1413.4 1716.73,1413.4 1718.78,1413.4 1720.82,1413.4 1722.84,1413.4 1724.85,1413.4 1726.85,1413.4 1728.83,1413.4 1730.8,1413.4 1732.76,1413.4 1734.71,1413.4 1736.64,1413.4 1738.56,1413.4 1740.46,1413.4 1742.36,1413.4 1744.24,1413.4 1746.11,1413.4 1747.97,1413.4 1749.82,1413.4 1751.65,1413.4 1753.48,1413.4 1755.29,1413.4 1757.09,1413.4 1758.88,1413.4 1760.67,1413.4 1762.44,1413.4 1764.2,1413.4 1765.94,1413.4 1767.68,1413.4 1769.41,1413.4 1771.13,1413.4 1772.84,1413.4 1774.54,1413.4 1776.23,1413.4 1777.91,1413.4 1779.58,1413.4 1781.24,1413.4 1782.89,1413.4 1784.53,1413.4 1786.17,1413.4 1787.79,1413.4 1789.41,1413.4 1791.01,1413.4 1792.61,1413.4 1794.2,1413.4 1795.78,1413.4 1797.36,1413.4 1798.92,1413.4 1800.48,1413.4 1802.03,1413.4 1803.57,1413.4 1805.1,1413.4 1806.62,1413.4 1808.14,1413.4 1809.65,1413.4 1811.15,1413.4 1812.64,1413.4 1814.13,1413.4 1815.61,1413.4 1817.08,1413.4 1818.54,1413.4 1820,1413.4 1821.45,1413.4 1822.89,1413.4 1824.33,1413.4 1825.76,1413.4 1827.18,1413.4 1828.6,1413.4 1830,1413.4 1831.41,1413.4 1832.8,1413.4 1834.19,1413.4 1835.57,1413.4 1836.95,1413.4 1838.32,1413.4 1839.68,1413.4 1841.04,1413.4 1842.39,1413.4 1843.73,1413.4 1845.07,1413.4 1846.4,1413.4 1847.73,1413.4 1849.05,1413.4 1850.37,1413.4 1851.68,1413.4 1852.98,1413.4 1854.28,1413.4 1855.57,1413.4 1856.85,1413.4 1858.13,1413.4 1859.41,1413.4 1860.68,1413.4 1861.94,1413.4 1863.2,1413.4 1864.46,1413.4 1865.71,1413.4 1866.95,1413.4 1868.19,1413.4 1869.42,1413.4 1870.65,1413.4 1871.87,1413.4 1873.09,1413.4 1874.3,1413.4 1875.51,1413.4 1876.71,1413.4 1877.91,1413.4 1879.1,1413.4 1880.29,1413.4 1881.47,1413.4 1882.65,1413.4 1883.83,1413.4 1885,1413.4 1886.16,1413.4 1887.32,1413.4 1888.48,1413.4 1889.63,1413.4 1890.78,1413.4 1891.92,1413.4 1893.06,1413.4 1894.19,1413.4 1895.32,1413.4 1896.45,1413.4 1897.57,1413.4 1898.68,1413.4 1899.8,1413.4 1900.9,1413.4 1902.01,1413.4 1903.11,1413.4 1904.2,1413.4 1905.3,1413.4 1906.38,1413.4 1907.47,1413.4 1908.55,1413.4 1909.62,1413.4 1910.7,1413.4 1911.77,1413.4 1912.83,1413.4 1913.89,1413.4 1914.95,1413.4 1916,1413.4 1917.05,1413.4 1918.1,1413.4 1919.14,1413.4 1920.18,1413.4 1921.21,1413.4 1922.24,1413.4 1923.27,1413.4 1924.29,1413.4 1925.32,1413.4 1926.33,1413.4 1927.35,1413.4 1928.36,1413.4 1929.36,1413.4 1930.37,1413.4 1931.37,1413.4 1932.36,1413.4 1933.36,1413.4 1934.35,1413.4 1935.33,1413.4 1936.32,1413.4 1937.3,1413.4 1938.27,1413.4 1939.25,1413.4 1940.22,1413.4 1941.19,1413.4 1942.15,1413.4 1943.11,1413.4 1944.07,1413.4 1945.02,1413.4 1945.98,1413.4 1946.92,1413.4 1947.87,1413.4 1948.81,1413.4 1949.75,1413.4 1950.69,1413.4 1951.62,1413.4 1952.55,1413.4 1953.48,1413.4 1954.41,1413.4 1955.33,1413.4 1956.25,1413.4 1957.16,1413.4 1958.08,1413.4 1958.99,1413.4 1959.9,1413.4 1960.8,1413.4 1961.71,1413.4 1962.61,1413.4 1963.5,1413.4 1964.4,1413.4 1965.29,1413.4 1966.18,1413.4 1967.06,1413.4 1967.95,1413.4 1968.83,1413.4 1969.71,1413.4 1970.58,1413.4 1971.46,1413.4 1972.33,1413.4 1973.2,1413.4 1974.06,1413.4 1974.92,1413.4 1975.78,1413.4 1976.64,1413.4 1977.5,1413.4 1978.35,1413.4 1979.2,1413.4 1980.05,1413.4 1980.9,1413.4 1981.74,1413.4 1982.58,1413.4 1983.42,1413.4 1984.26,1413.4 1985.09,1413.4 1985.92,1413.4 1986.75,1413.4 1987.58,1413.4 1988.4,1413.4 1989.23,1413.4 1990.05,1413.4 1990.86,1413.4 1991.68,1413.4 1992.49,1413.4 1993.3,1413.4 1994.11,1413.4 1994.92,1413.4 1995.72,1413.4 1996.53,1413.4 1997.33,1413.4 1998.12,1413.4 1998.92,1413.4 1999.71,1413.4 2000.51,1413.4 2001.3,1413.4 2002.08,1413.4 2002.87,1413.4 2003.65,1413.4 2004.43,1413.4 2005.21,1413.4 2005.99,1413.4 2006.77,1413.4 2007.54,1413.4 2008.31,1413.4 2009.08,1413.4 2009.85,1413.4 2010.61,1413.4 2011.37,1413.4 2012.14,1413.4 2012.89,1413.4 2013.65,1413.4 2014.41,1413.4 2015.16,1413.4 2015.91,1413.4 2016.66,1413.4 2017.41,1413.4 2018.16,1413.4 2018.9,1413.4 2019.64,1413.4 2020.38,1413.4 2021.12,1413.4 2021.86,1413.4 2022.59,1413.4 2023.32,1413.4 2024.06,1413.4 2024.79,1413.4 2025.51,1413.4 2026.24,1413.4 2026.96,1413.4 2027.68,1413.4 2028.41,1413.4 2029.12,1413.4 2029.84,1413.4 2030.56,1413.4 2031.27,1413.4 2031.98,1413.4 2032.69,1413.4 2033.4,1413.4 2034.11,1413.4 2034.81,1413.4 2035.52,1413.4 2036.22,1413.4 2036.92,1413.4 2037.62,1413.4 2038.31,1413.4 2039.01,1413.4 2039.7,1413.4 2040.39,1413.4 2041.08,1413.4 2041.77,1413.4 2042.46,1413.4 2043.15,1413.4 2043.83,1413.4 2044.51,1413.4 2045.19,1413.4 2045.87,1413.4 2046.55,1413.4 2047.23,1413.4 2047.9,1413.4 2048.57,1413.4 2049.24,1413.4 2049.91,1413.4 2050.58,1413.4 2051.25,1413.4 2051.92,1413.4 2052.58,1413.4 2053.24,1413.4 2053.9,1413.4 2054.56,1413.4 2055.22,1413.4 2055.88,1413.4 2056.53,1413.4 2057.19,1413.4 2057.84,1413.4 2058.49,1413.4 2059.14,1413.4 2059.79,1413.4 2060.43,1413.4 2061.08,1413.4 2061.72,1413.4 2062.37,1413.4 2063.01,1413.4 2063.65,1413.4 2064.29,1413.4 2064.92,1413.4 2065.56,1413.4 2066.19,1413.4 2066.82,1413.4 2067.46,1413.4 2068.09,1413.4 2068.72,1413.4 2069.34,1413.4 2069.97,1413.4 2070.59,1413.4 2071.22,1413.4 2071.84,1413.4 2072.46,1413.4 2073.08,1413.4 2073.7,1413.4 2074.32,1413.4 2074.93,1413.4 2075.55,1413.4 2076.16,1413.4 2076.77,1413.4 2077.38,1413.4 2077.99,1413.4 2078.6,1413.4 2079.21,1413.4 2079.81,1413.4 2080.42,1413.4 2081.02,1413.4 2081.62,1413.4 2082.22,1413.4 2082.82,1413.4 2083.42,1413.4 2084.02,1413.4 2084.61,1413.4 2085.21,1413.4 2085.8,1413.4 2086.39,1413.4 2086.99,1413.4 2087.58,1413.4 2088.16,1413.4 2088.75,1413.4 2089.34,1413.4 2089.92,1413.4 2090.51,1413.4 2091.09,1413.4 2091.67,1413.4 2092.25,1413.4 2092.83,1413.4 2093.41,1413.4 2093.99,1413.4 2094.57,1413.4 2095.14,1413.4 2095.71,1413.4 2096.29,1413.4 2096.86,1413.4 2097.43,1413.4 2098,1413.4 2098.57,1413.4 2099.14,1413.4 2099.7,1413.4 2100.27,1413.4 2100.83,1413.4 2101.39,1413.4 2101.96,1413.4 2102.52,1413.4 2103.08,1413.4 2103.64,1413.4 2104.19,1413.4 2104.75,1413.4 2105.31,1413.4 2105.86,1413.4 2106.42,1413.4 2106.97,1413.4 2107.52,1413.4 2108.07,1413.4 2108.62,1413.4 2109.17,1413.4 2109.72,1413.4 2110.26,1413.4 2110.81,1413.4 2111.35,1413.4 2111.9,1413.4 2112.44,1413.4 2112.98,1413.4 2113.52,1413.4 2114.06,1413.4 2114.6,1413.4 2115.14,1413.4 2115.67,1413.4 2116.21,1413.4 2116.74,1413.4 2117.28,1413.4 2117.81,1413.4 2118.34,1413.4 2118.87,1413.4 2119.4,1413.4 2119.93,1413.4 2120.46,1413.4 2120.99,1413.4 2121.51,1413.4 2122.04,1413.4 2122.56,1413.4 2123.09,1413.4 2123.61,1413.4 2124.13,1413.4 2124.65,1413.4 2125.17,1413.4 2125.69,1413.4 2126.21,1413.4 2126.72,1413.4 2127.24,1413.4 2127.75,1413.4 2128.27,1413.4 2128.78,1413.4 2129.3,1413.4 2129.81,1413.4 2130.32,1413.4 2130.83,1413.4 2131.34,1413.4 2131.84,1413.4 2132.35,1413.4 2132.86,1413.4 2133.36,1413.4 2133.87,1413.4 2134.37,1413.4 2134.88,1413.4 2135.38,1413.4 2135.88,1413.4 2136.38,1413.4 2136.88,1413.4 2137.38,1413.4 2137.87,1413.4 2138.37,1413.4 2138.87,1413.4 2139.36,1413.4 2139.86,1413.4 2140.35,1413.4 2140.84,1413.4 2141.34,1413.4 2141.83,1413.4 2142.32,1413.4 2142.81,1413.4 2143.3,1413.4 2143.79,1413.4 2144.27,1413.4 2144.76,1413.4 2145.24,1413.4 2145.73,1413.4 2146.21,1413.4 2146.7,1413.4 2147.18,1413.4 2147.66,1413.4 2148.14,1413.4 2148.62,1413.4 2149.1,1413.4 2149.58,1413.4 2150.06,1413.4 2150.53,1413.4 2151.01,1413.4 2151.49,1413.4 2151.96,1413.4 2152.44,1413.4 2152.91,1413.4 2153.38,1413.4 2153.85,1413.4 2154.32,1413.4 2154.79,1413.4 2155.26,1413.4 2155.73,1413.4 2156.2,1413.4 2156.67,1413.4 2157.13,1413.4 2157.6,1413.4 2158.07,1413.4 2158.53,1413.4 2158.99,1413.4 2159.46,1413.4 2159.92,1413.4 2160.38,1413.4 2160.84,1413.4 2161.3,1413.4 2161.76,1413.4 2162.22,1413.4 2162.68,1413.4 2163.13,1413.4 2163.59,1413.4 2164.05,1413.4 2164.5,1413.4 2164.96,1413.4 2165.41,1413.4 2165.86,1413.4 2166.31,1413.4 2166.77,1413.4 2167.22,1413.4 2167.67,1413.4 2168.12,1413.4 2168.57,1413.4 2169.01,1413.4 2169.46,1413.4 2169.91,1413.4 2170.35,1413.4 2170.8,1413.4 2171.24,1413.4 2171.69,1413.4 2172.13,1413.4 2172.58,1413.4 2173.02,1413.4 2173.46,1413.4 2173.9,1413.4 2174.34,1413.4 2174.78,1413.4 2175.22,1413.4 2175.66,1413.4 2176.09,1413.4 2176.53,1413.4 2176.97,1413.4 2177.4,1413.4 2177.84,1413.4 2178.27,1413.4 2178.71,1413.4 2179.14,1413.4 2179.57,1413.4 2180,1413.4 2180.44,1413.4 2180.87,1413.4 2181.3,1413.4 2181.73,1413.4 2182.15,1413.4 2182.58,1413.4 2183.01,1413.4 2183.44,1413.4 2183.86,1413.4 2184.29,1413.4 2184.71,1413.4 2185.14,1413.4 2185.56,1413.4 2185.99,1413.4 2186.41,1413.4 2186.83,1413.4 2187.25,1413.4 2187.67,1413.4 2188.09,1413.4 2188.51,1413.4 2188.93,1413.4 2189.35,1413.4 2189.77,1413.4 2190.19,1413.4 2190.6,1413.4 2191.02,1413.4 2191.43,1413.4 2191.85,1413.4 2192.26,1413.4 2192.68,1413.4 2193.09,1413.4 2193.5,1413.4 2193.91,1413.4 2194.33,1413.4 2194.74,1413.4 2195.15,1413.4 2195.56,1413.4 2195.97,1413.4 2196.38,1413.4 2196.78,1413.4 2197.19,1413.4 2197.6,1413.4 2198,1413.4 2198.41,1413.4 2198.82,1413.4 2199.22,1413.4 2199.62,1413.4 2200.03,1413.4 2200.43,1413.4 2200.83,1413.4 2201.24,1413.4 2201.64,1413.4 2202.04,1413.4 2202.44,1413.4 2202.84,1413.4 2203.24,1413.4 2203.64,1413.4 2204.04,1413.4 2204.43,1413.4 2204.83,1413.4 2205.23,1413.4 2205.62,1413.4 2206.02,1413.4 2206.41,1413.4 2206.81,1413.4 2207.2,1413.4 2207.6,1413.4 2207.99,1413.4 2208.38,1413.4 2208.77,1413.4 2209.16,1413.4 2209.55,1413.4 2209.95,1413.4 2210.34,1413.4 2210.72,1413.4 2211.11,1413.4 2211.5,1413.4 2211.89,1413.4 2212.28,1413.4 2212.66,1413.4 2213.05,1413.4 2213.44,1413.4 2213.82,1413.4 2214.21,1413.4 2214.59,1413.4 2214.97,1413.4 2215.36,1413.4 2215.74,1413.4 2216.12,1413.4 2216.5,1413.4 2216.89,1413.4 2217.27,1413.4 2217.65,1413.4 2218.03,1413.4 2218.41,1413.4 2218.78,1413.4 2219.16,1413.4 2219.54,1413.4 2219.92,1413.4 2220.3,1413.4 2220.67,1413.4 2221.05,1413.4 2221.42,1413.4 2221.8,1413.4 2222.17,1413.4 2222.55,1413.4 2222.92,1413.4 2223.29,1413.4 2223.67,1413.4 2224.04,1413.4 2224.41,1413.4 2224.78,1413.4 2225.15,1413.4 2225.52,1413.4 2225.89,1413.4 2226.26,1413.4 2226.63,1413.4 2227,1413.4 2227.37,1413.4 2227.74,1413.4 2228.1,1413.4 2228.47,1413.4 2228.84,1413.4 2229.2,1413.4 2229.57,1413.4 2229.93,1413.4 2230.3,1413.4 2230.66,1413.4 2231.02,1413.4 2231.39,1413.4 2231.75,1413.4 2232.11,1413.4 2232.47,1413.4 2232.84,1413.4 2233.2,1413.4 2233.56,1413.4 2233.92,1413.4 2234.28,1413.4 2234.64,1413.4 2234.99,1413.4 2235.35,1413.4 2235.71,1413.4 2236.07,1413.4 2236.43,1413.4 2236.78,1413.4 2237.14,1413.4 2237.49,1413.4 2237.85,1413.4 2238.2,1413.4 2238.56,1413.4 2238.91,1413.4 2239.27,1413.4 2239.62,1413.4 2239.97,1413.4 2240.32,1413.4 2240.68,1413.4 2241.03,1413.4 2241.38,1413.4 2241.73,1413.4 2242.08,1413.4 2242.43,1413.4 2242.78,1413.4 2243.13,1413.4 2243.48,1413.4 2243.82,1413.4 2244.17,1413.4 2244.52,1413.4 2244.87,1413.4 2245.21,1413.4 2245.56,1413.4 2245.91,1413.4 2246.25,1413.4 2246.6,1413.4 2246.94,1413.4 2247.28,1413.4 2247.63,1413.4 2247.97,1413.4 2248.31,1413.4 2248.66,1413.4 2249,1413.4 2249.34,1413.4 2249.68,1413.4 2250.02,1413.4 2250.36,1413.4 2250.7,1413.4 2251.04,1413.4 2251.38,1413.4 2251.72,1413.4 2252.06,1413.4 2252.4,1413.4 2252.74,1413.4 2253.07,1413.4 2253.41,1413.4 2253.75,1413.4 2254.08,1413.4 2254.42,1413.4 2254.76,1413.4 2255.09,1413.4 2255.43,1413.4 2255.76,1413.4 2256.1,1413.4 2256.43,1413.4 2256.76,1413.4 2257.1,1413.4 2257.43,1413.4 2257.76,1413.4 2258.09,1413.4 2258.42,1413.4 2258.75,1413.4 2259.08,1413.4 2259.42,1413.4 2259.75,1413.4 2260.07,1413.4 2260.4,1413.4 2260.73,1413.4 2261.06,1413.4 2261.39,1413.4 2261.72,1413.4 2262.04,1413.4 2262.37,1413.4 2262.7,1413.4 2263.03,1413.4 2263.35,1413.4 2263.68,1413.4 2264,1413.4 2264.33,1413.4 2264.65,1413.4 2264.98,1413.4 2265.3,1413.4 2265.62,1413.4 2265.95,1413.4 2266.27,1413.4 2266.59,1413.4 2266.91,1413.4 2267.24,1413.4 2267.56,1413.4 2267.88,1413.4 2268.2,1413.4 2268.52,1413.4 2268.84,1413.4 2269.16,1413.4 2269.48,1413.4 2269.8,1413.4 2270.12,1413.4 2270.43,1413.4 2270.75,1413.4 2271.07,1413.4 2271.39,1413.4 2271.7,1413.4 2272.02,1413.4 2272.34,1413.4 2272.65,1413.4 2272.97,1413.4 2273.28,1413.4 2273.6,1413.4 2273.91,1413.4 2274.23,1413.4 2274.54,1413.4 2274.85,1413.4 2275.17,1413.4 2275.48,1413.4 2275.79,1413.4 2276.11,1413.4 2276.42,1413.4 2276.73,1413.4 2277.04,1413.4 2277.35,1413.4 2277.66,1413.4 2277.97,1413.4 2278.28,1413.4 2278.59,1413.4 2278.9,1413.4 2279.21,1413.4 2279.52,1413.4 2279.83,1413.4 2280.14,1413.4 2280.44,1413.4 2280.75,1413.4 2281.06,1413.4 2281.36,1413.4 2281.67,1413.4 2281.98,1413.4 2282.28,1413.4 2282.59,1413.4 2282.89,1413.4 2283.2,1413.4 2283.5,1413.4 2283.81,1413.4 2284.11,1413.4 2284.41,1413.4 2284.72,1413.4 2285.02,1413.4 2285.32,1413.4 2285.63,1413.4 2285.93,1413.4 2286.23,1413.4 2286.53,1413.4 2286.83,1413.4 2287.13,1413.4 2287.43,1413.4 2287.73,1413.4 2288.03,1413.4 2288.33,1413.4 2288.63,1413.4 2288.93,1413.4 2289.23,1413.4 2289.53,1413.4 2289.83,1413.4 2290.12,1413.4 2290.42,1413.4 2290.72,1413.4 2291.02,1413.4 2291.31,1413.4 \"/>\n",
       "<polyline clip-path=\"url(#clip722)\" style=\"stroke:#c271d2; stroke-linecap:round; stroke-linejoin:round; stroke-width:4; stroke-opacity:1; fill:none\" points=\"243.227,1014.89 448.739,975.34 568.956,939.901 654.251,907.377 720.411,877.113 774.468,848.697 820.172,821.841 859.763,796.339 894.684,772.029 925.923,748.785 954.181,726.507 979.979,705.11 1003.71,684.524 1025.68,664.687 1046.14,645.549 1065.27,627.065 1083.25,609.194 1100.2,591.901 1116.23,575.156 1131.43,558.93 1145.9,543.197 1159.69,527.936 1172.87,513.124 1185.49,498.743 1197.59,484.775 1209.22,471.203 1220.41,458.014 1231.2,445.192 1241.6,432.726 1251.65,420.602 1261.37,408.811 1270.79,397.34 1279.91,386.181 1288.76,375.323 1297.36,364.759 1305.71,354.48 1313.83,344.478 1321.74,334.745 1329.44,325.276 1336.95,316.062 1344.27,307.098 1351.41,298.378 1358.39,289.896 1365.2,281.646 1371.87,273.624 1378.38,265.823 1384.76,258.241 1391,250.871 1397.12,243.71 1403.11,236.753 1408.98,229.996 1414.73,223.435 1420.38,217.068 1425.92,210.889 1431.36,204.896 1436.71,199.084 1441.95,193.452 1447.11,187.996 1452.18,182.713 1457.16,177.599 1462.06,172.653 1466.88,167.871 1471.63,163.251 1476.3,158.79 1480.89,154.485 1485.42,150.335 1489.88,146.338 1494.27,142.49 1498.6,138.789 1502.87,135.234 1507.07,131.822 1511.22,128.552 1515.31,125.422 1519.34,122.428 1523.32,119.571 1527.25,116.847 1531.13,114.256 1534.95,111.795 1538.73,109.463 1542.46,107.258 1546.14,105.178 1549.78,103.223 1553.37,101.39 1556.92,99.6781 1560.43,98.0859 1563.9,96.612 1567.33,95.255 1570.72,94.0135 1574.07,92.8862 1577.38,91.8719 1580.66,90.9693 1583.9,90.1772 1587.1,89.4943 1590.27,88.9196 1593.41,88.4519 1596.51,88.09 1599.59,87.8329 1602.63,87.6794 1605.64,87.6286 1608.62,87.6794 1611.57,87.8308 1614.49,88.0818 1617.38,88.4314 1620.25,88.8787 1623.08,89.4228 1625.89,90.0626 1628.68,90.7974 1631.44,91.6262 1634.17,92.5482 1636.88,93.5626 1639.56,94.6684 1642.22,95.8648 1644.85,97.1512 1647.47,98.5266 1650.06,99.9903 1652.62,101.542 1655.17,103.18 1657.69,104.904 1660.19,106.713 1662.67,108.607 1665.14,110.585 1667.58,112.646 1670,114.789 1672.4,117.015 1674.78,119.321 1677.14,121.709 1679.48,124.176 1681.81,126.722 1684.12,129.347 1686.41,132.05 1688.68,134.831 1690.93,137.689 1693.17,140.622 1695.39,143.632 1697.6,146.717 1699.78,149.876 1701.96,153.109 1704.11,156.416 1706.25,159.796 1708.38,163.249 1710.49,166.773 1712.58,170.369 1714.67,174.036 1716.73,177.773 1718.78,181.58 1720.82,185.457 1722.84,189.402 1724.85,193.416 1726.85,197.499 1728.83,201.649 1730.8,205.866 1732.76,210.15 1734.71,214.5 1736.64,218.916 1738.56,223.397 1740.46,227.944 1742.36,232.555 1744.24,237.23 1746.11,241.969 1747.97,246.771 1749.82,251.637 1751.65,256.565 1753.48,261.555 1755.29,266.607 1757.09,271.721 1758.88,276.896 1760.67,282.131 1762.44,287.427 1764.2,292.782 1765.94,298.198 1767.68,303.673 1769.41,309.206 1771.13,314.799 1772.84,320.449 1774.54,326.158 1776.23,331.924 1777.91,337.747 1779.58,343.627 1781.24,349.565 1782.89,355.558 1784.53,361.608 1786.17,367.711 1787.79,373.876 1789.41,380.083 1791.01,386.369 1792.61,392.666 1794.2,399.097 1795.78,405.432 1797.36,412.105 1798.92,418.293 1800.48,425.571 1802.03,430.939 1803.57,440.274 1805.1,442.405 1806.62,461.932 1808.14,450.752 1809.65,462.176 1811.15,454.881 1812.64,457.903 1814.13,456.28 1815.61,457.055 1817.08,456.664 1818.54,456.854 1820,456.761 1821.45,456.806 1822.89,456.784 1824.33,456.795 1825.76,456.79 1827.18,456.792 1828.6,456.791 1830,456.791 1831.41,456.791 1832.8,456.791 1834.19,456.791 1835.57,456.791 1836.95,456.791 1838.32,456.791 1839.68,456.791 1841.04,456.791 1842.39,456.791 1843.73,456.791 1845.07,456.791 1846.4,456.791 1847.73,456.791 1849.05,456.791 1850.37,456.791 1851.68,456.791 1852.98,456.791 1854.28,456.791 1855.57,456.791 1856.85,456.791 1858.13,456.791 1859.41,456.791 1860.68,456.791 1861.94,456.791 1863.2,456.791 1864.46,456.791 1865.71,456.791 1866.95,456.791 1868.19,456.791 1869.42,456.791 1870.65,456.791 1871.87,456.791 1873.09,456.791 1874.3,456.791 1875.51,456.791 1876.71,456.791 1877.91,456.791 1879.1,456.791 1880.29,456.791 1881.47,456.791 1882.65,456.791 1883.83,456.791 1885,456.791 1886.16,456.791 1887.32,456.791 1888.48,456.791 1889.63,456.791 1890.78,456.791 1891.92,456.791 1893.06,456.791 1894.19,456.791 1895.32,456.791 1896.45,456.791 1897.57,456.791 1898.68,456.791 1899.8,456.791 1900.9,456.791 1902.01,456.791 1903.11,456.791 1904.2,456.791 1905.3,456.791 1906.38,456.791 1907.47,456.791 1908.55,456.791 1909.62,456.791 1910.7,456.791 1911.77,456.791 1912.83,456.791 1913.89,456.791 1914.95,456.791 1916,456.791 1917.05,456.791 1918.1,456.791 1919.14,456.791 1920.18,456.791 1921.21,456.791 1922.24,456.791 1923.27,456.791 1924.29,456.791 1925.32,456.791 1926.33,456.791 1927.35,456.791 1928.36,456.791 1929.36,456.791 1930.37,456.791 1931.37,456.791 1932.36,456.791 1933.36,456.791 1934.35,456.791 1935.33,456.791 1936.32,456.791 1937.3,456.791 1938.27,456.791 1939.25,456.791 1940.22,456.791 1941.19,456.791 1942.15,456.791 1943.11,456.791 1944.07,456.791 1945.02,456.791 1945.98,456.791 1946.92,456.791 1947.87,456.791 1948.81,456.791 1949.75,456.791 1950.69,456.791 1951.62,456.791 1952.55,456.791 1953.48,456.791 1954.41,456.791 1955.33,456.791 1956.25,456.791 1957.16,456.791 1958.08,456.791 1958.99,456.791 1959.9,456.791 1960.8,456.791 1961.71,456.791 1962.61,456.791 1963.5,456.791 1964.4,456.791 1965.29,456.791 1966.18,456.791 1967.06,456.791 1967.95,456.791 1968.83,456.791 1969.71,456.791 1970.58,456.791 1971.46,456.791 1972.33,456.791 1973.2,456.791 1974.06,456.791 1974.92,456.791 1975.78,456.791 1976.64,456.791 1977.5,456.791 1978.35,456.791 1979.2,456.791 1980.05,456.791 1980.9,456.791 1981.74,456.791 1982.58,456.791 1983.42,456.791 1984.26,456.791 1985.09,456.791 1985.92,456.791 1986.75,456.791 1987.58,456.791 1988.4,456.791 1989.23,456.791 1990.05,456.791 1990.86,456.791 1991.68,456.791 1992.49,456.791 1993.3,456.791 1994.11,456.791 1994.92,456.791 1995.72,456.791 1996.53,456.791 1997.33,456.791 1998.12,456.791 1998.92,456.791 1999.71,456.791 2000.51,456.791 2001.3,456.791 2002.08,456.791 2002.87,456.791 2003.65,456.791 2004.43,456.791 2005.21,456.791 2005.99,456.791 2006.77,456.791 2007.54,456.791 2008.31,456.791 2009.08,456.791 2009.85,456.791 2010.61,456.791 2011.37,456.791 2012.14,456.791 2012.89,456.791 2013.65,456.791 2014.41,456.791 2015.16,456.791 2015.91,456.791 2016.66,456.791 2017.41,456.791 2018.16,456.791 2018.9,456.791 2019.64,456.791 2020.38,456.791 2021.12,456.791 2021.86,456.791 2022.59,456.791 2023.32,456.791 2024.06,456.791 2024.79,456.791 2025.51,456.791 2026.24,456.791 2026.96,456.791 2027.68,456.791 2028.41,456.791 2029.12,456.791 2029.84,456.791 2030.56,456.791 2031.27,456.791 2031.98,456.791 2032.69,456.791 2033.4,456.791 2034.11,456.791 2034.81,456.791 2035.52,456.791 2036.22,456.791 2036.92,456.791 2037.62,456.791 2038.31,456.791 2039.01,456.791 2039.7,456.791 2040.39,456.791 2041.08,456.791 2041.77,456.791 2042.46,456.791 2043.15,456.791 2043.83,456.791 2044.51,456.791 2045.19,456.791 2045.87,456.791 2046.55,456.791 2047.23,456.791 2047.9,456.791 2048.57,456.791 2049.24,456.791 2049.91,456.791 2050.58,456.791 2051.25,456.791 2051.92,456.791 2052.58,456.791 2053.24,456.791 2053.9,456.791 2054.56,456.791 2055.22,456.791 2055.88,456.791 2056.53,456.791 2057.19,456.791 2057.84,456.791 2058.49,456.791 2059.14,456.791 2059.79,456.791 2060.43,456.791 2061.08,456.791 2061.72,456.791 2062.37,456.791 2063.01,456.791 2063.65,456.791 2064.29,456.791 2064.92,456.791 2065.56,456.791 2066.19,456.791 2066.82,456.791 2067.46,456.791 2068.09,456.791 2068.72,456.791 2069.34,456.791 2069.97,456.791 2070.59,456.791 2071.22,456.791 2071.84,456.791 2072.46,456.791 2073.08,456.791 2073.7,456.791 2074.32,456.791 2074.93,456.791 2075.55,456.791 2076.16,456.791 2076.77,456.791 2077.38,456.791 2077.99,456.791 2078.6,456.791 2079.21,456.791 2079.81,456.791 2080.42,456.791 2081.02,456.791 2081.62,456.791 2082.22,456.791 2082.82,456.791 2083.42,456.791 2084.02,456.791 2084.61,456.791 2085.21,456.791 2085.8,456.791 2086.39,456.791 2086.99,456.791 2087.58,456.791 2088.16,456.791 2088.75,456.791 2089.34,456.791 2089.92,456.791 2090.51,456.791 2091.09,456.791 2091.67,456.791 2092.25,456.791 2092.83,456.791 2093.41,456.791 2093.99,456.791 2094.57,456.791 2095.14,456.791 2095.71,456.791 2096.29,456.791 2096.86,456.791 2097.43,456.791 2098,456.791 2098.57,456.791 2099.14,456.791 2099.7,456.791 2100.27,456.791 2100.83,456.791 2101.39,456.791 2101.96,456.791 2102.52,456.791 2103.08,456.791 2103.64,456.791 2104.19,456.791 2104.75,456.791 2105.31,456.791 2105.86,456.791 2106.42,456.791 2106.97,456.791 2107.52,456.791 2108.07,456.791 2108.62,456.791 2109.17,456.791 2109.72,456.791 2110.26,456.791 2110.81,456.791 2111.35,456.791 2111.9,456.791 2112.44,456.791 2112.98,456.791 2113.52,456.791 2114.06,456.791 2114.6,456.791 2115.14,456.791 2115.67,456.791 2116.21,456.791 2116.74,456.791 2117.28,456.791 2117.81,456.791 2118.34,456.791 2118.87,456.791 2119.4,456.791 2119.93,456.791 2120.46,456.791 2120.99,456.791 2121.51,456.791 2122.04,456.791 2122.56,456.791 2123.09,456.791 2123.61,456.791 2124.13,456.791 2124.65,456.791 2125.17,456.791 2125.69,456.791 2126.21,456.791 2126.72,456.791 2127.24,456.791 2127.75,456.791 2128.27,456.791 2128.78,456.791 2129.3,456.791 2129.81,456.791 2130.32,456.791 2130.83,456.791 2131.34,456.791 2131.84,456.791 2132.35,456.791 2132.86,456.791 2133.36,456.791 2133.87,456.791 2134.37,456.791 2134.88,456.791 2135.38,456.791 2135.88,456.791 2136.38,456.791 2136.88,456.791 2137.38,456.791 2137.87,456.791 2138.37,456.791 2138.87,456.791 2139.36,456.791 2139.86,456.791 2140.35,456.791 2140.84,456.791 2141.34,456.791 2141.83,456.791 2142.32,456.791 2142.81,456.791 2143.3,456.791 2143.79,456.791 2144.27,456.791 2144.76,456.791 2145.24,456.791 2145.73,456.791 2146.21,456.791 2146.7,456.791 2147.18,456.791 2147.66,456.791 2148.14,456.791 2148.62,456.791 2149.1,456.791 2149.58,456.791 2150.06,456.791 2150.53,456.791 2151.01,456.791 2151.49,456.791 2151.96,456.791 2152.44,456.791 2152.91,456.791 2153.38,456.791 2153.85,456.791 2154.32,456.791 2154.79,456.791 2155.26,456.791 2155.73,456.791 2156.2,456.791 2156.67,456.791 2157.13,456.791 2157.6,456.791 2158.07,456.791 2158.53,456.791 2158.99,456.791 2159.46,456.791 2159.92,456.791 2160.38,456.791 2160.84,456.791 2161.3,456.791 2161.76,456.791 2162.22,456.791 2162.68,456.791 2163.13,456.791 2163.59,456.791 2164.05,456.791 2164.5,456.791 2164.96,456.791 2165.41,456.791 2165.86,456.791 2166.31,456.791 2166.77,456.791 2167.22,456.791 2167.67,456.791 2168.12,456.791 2168.57,456.791 2169.01,456.791 2169.46,456.791 2169.91,456.791 2170.35,456.791 2170.8,456.791 2171.24,456.791 2171.69,456.791 2172.13,456.791 2172.58,456.791 2173.02,456.791 2173.46,456.791 2173.9,456.791 2174.34,456.791 2174.78,456.791 2175.22,456.791 2175.66,456.791 2176.09,456.791 2176.53,456.791 2176.97,456.791 2177.4,456.791 2177.84,456.791 2178.27,456.791 2178.71,456.791 2179.14,456.791 2179.57,456.791 2180,456.791 2180.44,456.791 2180.87,456.791 2181.3,456.791 2181.73,456.791 2182.15,456.791 2182.58,456.791 2183.01,456.791 2183.44,456.791 2183.86,456.791 2184.29,456.791 2184.71,456.791 2185.14,456.791 2185.56,456.791 2185.99,456.791 2186.41,456.791 2186.83,456.791 2187.25,456.791 2187.67,456.791 2188.09,456.791 2188.51,456.791 2188.93,456.791 2189.35,456.791 2189.77,456.791 2190.19,456.791 2190.6,456.791 2191.02,456.791 2191.43,456.791 2191.85,456.791 2192.26,456.791 2192.68,456.791 2193.09,456.791 2193.5,456.791 2193.91,456.791 2194.33,456.791 2194.74,456.791 2195.15,456.791 2195.56,456.791 2195.97,456.791 2196.38,456.791 2196.78,456.791 2197.19,456.791 2197.6,456.791 2198,456.791 2198.41,456.791 2198.82,456.791 2199.22,456.791 2199.62,456.791 2200.03,456.791 2200.43,456.791 2200.83,456.791 2201.24,456.791 2201.64,456.791 2202.04,456.791 2202.44,456.791 2202.84,456.791 2203.24,456.791 2203.64,456.791 2204.04,456.791 2204.43,456.791 2204.83,456.791 2205.23,456.791 2205.62,456.791 2206.02,456.791 2206.41,456.791 2206.81,456.791 2207.2,456.791 2207.6,456.791 2207.99,456.791 2208.38,456.791 2208.77,456.791 2209.16,456.791 2209.55,456.791 2209.95,456.791 2210.34,456.791 2210.72,456.791 2211.11,456.791 2211.5,456.791 2211.89,456.791 2212.28,456.791 2212.66,456.791 2213.05,456.791 2213.44,456.791 2213.82,456.791 2214.21,456.791 2214.59,456.791 2214.97,456.791 2215.36,456.791 2215.74,456.791 2216.12,456.791 2216.5,456.791 2216.89,456.791 2217.27,456.791 2217.65,456.791 2218.03,456.791 2218.41,456.791 2218.78,456.791 2219.16,456.791 2219.54,456.791 2219.92,456.791 2220.3,456.791 2220.67,456.791 2221.05,456.791 2221.42,456.791 2221.8,456.791 2222.17,456.791 2222.55,456.791 2222.92,456.791 2223.29,456.791 2223.67,456.791 2224.04,456.791 2224.41,456.791 2224.78,456.791 2225.15,456.791 2225.52,456.791 2225.89,456.791 2226.26,456.791 2226.63,456.791 2227,456.791 2227.37,456.791 2227.74,456.791 2228.1,456.791 2228.47,456.791 2228.84,456.791 2229.2,456.791 2229.57,456.791 2229.93,456.791 2230.3,456.791 2230.66,456.791 2231.02,456.791 2231.39,456.791 2231.75,456.791 2232.11,456.791 2232.47,456.791 2232.84,456.791 2233.2,456.791 2233.56,456.791 2233.92,456.791 2234.28,456.791 2234.64,456.791 2234.99,456.791 2235.35,456.791 2235.71,456.791 2236.07,456.791 2236.43,456.791 2236.78,456.791 2237.14,456.791 2237.49,456.791 2237.85,456.791 2238.2,456.791 2238.56,456.791 2238.91,456.791 2239.27,456.791 2239.62,456.791 2239.97,456.791 2240.32,456.791 2240.68,456.791 2241.03,456.791 2241.38,456.791 2241.73,456.791 2242.08,456.791 2242.43,456.791 2242.78,456.791 2243.13,456.791 2243.48,456.791 2243.82,456.791 2244.17,456.791 2244.52,456.791 2244.87,456.791 2245.21,456.791 2245.56,456.791 2245.91,456.791 2246.25,456.791 2246.6,456.791 2246.94,456.791 2247.28,456.791 2247.63,456.791 2247.97,456.791 2248.31,456.791 2248.66,456.791 2249,456.791 2249.34,456.791 2249.68,456.791 2250.02,456.791 2250.36,456.791 2250.7,456.791 2251.04,456.791 2251.38,456.791 2251.72,456.791 2252.06,456.791 2252.4,456.791 2252.74,456.791 2253.07,456.791 2253.41,456.791 2253.75,456.791 2254.08,456.791 2254.42,456.791 2254.76,456.791 2255.09,456.791 2255.43,456.791 2255.76,456.791 2256.1,456.791 2256.43,456.791 2256.76,456.791 2257.1,456.791 2257.43,456.791 2257.76,456.791 2258.09,456.791 2258.42,456.791 2258.75,456.791 2259.08,456.791 2259.42,456.791 2259.75,456.791 2260.07,456.791 2260.4,456.791 2260.73,456.791 2261.06,456.791 2261.39,456.791 2261.72,456.791 2262.04,456.791 2262.37,456.791 2262.7,456.791 2263.03,456.791 2263.35,456.791 2263.68,456.791 2264,456.791 2264.33,456.791 2264.65,456.791 2264.98,456.791 2265.3,456.791 2265.62,456.791 2265.95,456.791 2266.27,456.791 2266.59,456.791 2266.91,456.791 2267.24,456.791 2267.56,456.791 2267.88,456.791 2268.2,456.791 2268.52,456.791 2268.84,456.791 2269.16,456.791 2269.48,456.791 2269.8,456.791 2270.12,456.791 2270.43,456.791 2270.75,456.791 2271.07,456.791 2271.39,456.791 2271.7,456.791 2272.02,456.791 2272.34,456.791 2272.65,456.791 2272.97,456.791 2273.28,456.791 2273.6,456.791 2273.91,456.791 2274.23,456.791 2274.54,456.791 2274.85,456.791 2275.17,456.791 2275.48,456.791 2275.79,456.791 2276.11,456.791 2276.42,456.791 2276.73,456.791 2277.04,456.791 2277.35,456.791 2277.66,456.791 2277.97,456.791 2278.28,456.791 2278.59,456.791 2278.9,456.791 2279.21,456.791 2279.52,456.791 2279.83,456.791 2280.14,456.791 2280.44,456.791 2280.75,456.791 2281.06,456.791 2281.36,456.791 2281.67,456.791 2281.98,456.791 2282.28,456.791 2282.59,456.791 2282.89,456.791 2283.2,456.791 2283.5,456.791 2283.81,456.791 2284.11,456.791 2284.41,456.791 2284.72,456.791 2285.02,456.791 2285.32,456.791 2285.63,456.791 2285.93,456.791 2286.23,456.791 2286.53,456.791 2286.83,456.791 2287.13,456.791 2287.43,456.791 2287.73,456.791 2288.03,456.791 2288.33,456.791 2288.63,456.791 2288.93,456.791 2289.23,456.791 2289.53,456.791 2289.83,456.791 2290.12,456.791 2290.42,456.791 2290.72,456.791 2291.02,456.791 2291.31,456.791 \"/>\n",
       "<path clip-path=\"url(#clip720)\" d=\"M2038.11 354.008 L2280.39 354.008 L2280.39 94.8081 L2038.11 94.8081  Z\" fill=\"#ffffff\" fill-rule=\"evenodd\" fill-opacity=\"1\"/>\n",
       "<polyline clip-path=\"url(#clip720)\" style=\"stroke:#000000; stroke-linecap:round; stroke-linejoin:round; stroke-width:4; stroke-opacity:1; fill:none\" points=\"2038.11,354.008 2280.39,354.008 2280.39,94.8081 2038.11,94.8081 2038.11,354.008 \"/>\n",
       "<polyline clip-path=\"url(#clip720)\" style=\"stroke:#009af9; stroke-linecap:round; stroke-linejoin:round; stroke-width:4; stroke-opacity:1; fill:none\" points=\"2062.23,146.648 2206.96,146.648 \"/>\n",
       "<path clip-path=\"url(#clip720)\" d=\"M2231.75 159.993 L2239.39 159.993 L2239.39 133.627 L2231.08 135.294 L2231.08 131.035 L2239.35 129.368 L2244.02 129.368 L2244.02 159.993 L2251.66 159.993 L2251.66 163.928 L2231.75 163.928 L2231.75 159.993 Z\" fill=\"#000000\" fill-rule=\"nonzero\" fill-opacity=\"1\" /><polyline clip-path=\"url(#clip720)\" style=\"stroke:#e26f46; stroke-linecap:round; stroke-linejoin:round; stroke-width:4; stroke-opacity:1; fill:none\" points=\"2062.23,198.488 2206.96,198.488 \"/>\n",
       "<path clip-path=\"url(#clip720)\" d=\"M2236.71 211.833 L2253.03 211.833 L2253.03 215.768 L2231.08 215.768 L2231.08 211.833 Q2233.75 209.078 2238.33 204.449 Q2242.94 199.796 2244.12 198.453 Q2246.36 195.93 2247.24 194.194 Q2248.14 192.435 2248.14 190.745 Q2248.14 187.99 2246.2 186.254 Q2244.28 184.518 2241.18 184.518 Q2238.98 184.518 2236.52 185.282 Q2234.09 186.046 2231.31 187.597 L2231.31 182.875 Q2234.14 181.741 2236.59 181.162 Q2239.05 180.583 2241.08 180.583 Q2246.45 180.583 2249.65 183.268 Q2252.84 185.953 2252.84 190.444 Q2252.84 192.574 2252.03 194.495 Q2251.25 196.393 2249.14 198.986 Q2248.56 199.657 2245.46 202.875 Q2242.36 206.069 2236.71 211.833 Z\" fill=\"#000000\" fill-rule=\"nonzero\" fill-opacity=\"1\" /><polyline clip-path=\"url(#clip720)\" style=\"stroke:#3da44d; stroke-linecap:round; stroke-linejoin:round; stroke-width:4; stroke-opacity:1; fill:none\" points=\"2062.23,250.328 2206.96,250.328 \"/>\n",
       "<path clip-path=\"url(#clip720)\" d=\"M2246.71 248.974 Q2250.06 249.692 2251.94 251.96 Q2253.84 254.229 2253.84 257.562 Q2253.84 262.678 2250.32 265.478 Q2246.8 268.279 2240.32 268.279 Q2238.14 268.279 2235.83 267.84 Q2233.54 267.423 2231.08 266.566 L2231.08 262.053 Q2233.03 263.187 2235.34 263.766 Q2237.66 264.344 2240.18 264.344 Q2244.58 264.344 2246.87 262.608 Q2249.19 260.872 2249.19 257.562 Q2249.19 254.506 2247.03 252.793 Q2244.9 251.057 2241.08 251.057 L2237.06 251.057 L2237.06 247.215 L2241.27 247.215 Q2244.72 247.215 2246.55 245.849 Q2248.37 244.46 2248.37 241.868 Q2248.37 239.205 2246.48 237.793 Q2244.6 236.358 2241.08 236.358 Q2239.16 236.358 2236.96 236.775 Q2234.76 237.192 2232.12 238.071 L2232.12 233.905 Q2234.79 233.164 2237.1 232.793 Q2239.44 232.423 2241.5 232.423 Q2246.82 232.423 2249.93 234.854 Q2253.03 237.261 2253.03 241.381 Q2253.03 244.252 2251.38 246.242 Q2249.74 248.21 2246.71 248.974 Z\" fill=\"#000000\" fill-rule=\"nonzero\" fill-opacity=\"1\" /><polyline clip-path=\"url(#clip720)\" style=\"stroke:#c271d2; stroke-linecap:round; stroke-linejoin:round; stroke-width:4; stroke-opacity:1; fill:none\" points=\"2062.23,302.168 2206.96,302.168 \"/>\n",
       "<path clip-path=\"url(#clip720)\" d=\"M2246.69 288.962 L2234.88 307.411 L2246.69 307.411 L2246.69 288.962 M2245.46 284.888 L2251.34 284.888 L2251.34 307.411 L2256.27 307.411 L2256.27 311.3 L2251.34 311.3 L2251.34 319.448 L2246.69 319.448 L2246.69 311.3 L2231.08 311.3 L2231.08 306.786 L2245.46 284.888 Z\" fill=\"#000000\" fill-rule=\"nonzero\" fill-opacity=\"1\" /></svg>\n"
      ],
      "text/html": [
       "<?xml version=\"1.0\" encoding=\"utf-8\"?>\n",
       "<svg xmlns=\"http://www.w3.org/2000/svg\" xmlns:xlink=\"http://www.w3.org/1999/xlink\" width=\"600\" height=\"400\" viewBox=\"0 0 2400 1600\">\n",
       "<defs>\n",
       "  <clipPath id=\"clip770\">\n",
       "    <rect x=\"0\" y=\"0\" width=\"2400\" height=\"1600\"/>\n",
       "  </clipPath>\n",
       "</defs>\n",
       "<path clip-path=\"url(#clip770)\" d=\"M0 1600 L2400 1600 L2400 0 L0 0  Z\" fill=\"#ffffff\" fill-rule=\"evenodd\" fill-opacity=\"1\"/>\n",
       "<defs>\n",
       "  <clipPath id=\"clip771\">\n",
       "    <rect x=\"480\" y=\"0\" width=\"1681\" height=\"1600\"/>\n",
       "  </clipPath>\n",
       "</defs>\n",
       "<path clip-path=\"url(#clip770)\" d=\"M181.785 1474.16 L2352.76 1474.16 L2352.76 47.2441 L181.785 47.2441  Z\" fill=\"#ffffff\" fill-rule=\"evenodd\" fill-opacity=\"1\"/>\n",
       "<defs>\n",
       "  <clipPath id=\"clip772\">\n",
       "    <rect x=\"181\" y=\"47\" width=\"2172\" height=\"1428\"/>\n",
       "  </clipPath>\n",
       "</defs>\n",
       "<polyline clip-path=\"url(#clip772)\" style=\"stroke:#000000; stroke-linecap:round; stroke-linejoin:round; stroke-width:2; stroke-opacity:0.1; fill:none\" points=\"243.227,1474.16 243.227,47.2441 \"/>\n",
       "<polyline clip-path=\"url(#clip772)\" style=\"stroke:#000000; stroke-linecap:round; stroke-linejoin:round; stroke-width:2; stroke-opacity:0.1; fill:none\" points=\"1608.62,1474.16 1608.62,47.2441 \"/>\n",
       "<polyline clip-path=\"url(#clip772)\" style=\"stroke:#000000; stroke-linecap:round; stroke-linejoin:round; stroke-width:2; stroke-opacity:0.1; fill:none\" points=\"181.785,1061.46 2352.76,1061.46 \"/>\n",
       "<polyline clip-path=\"url(#clip772)\" style=\"stroke:#000000; stroke-linecap:round; stroke-linejoin:round; stroke-width:2; stroke-opacity:0.1; fill:none\" points=\"181.785,478.048 2352.76,478.048 \"/>\n",
       "<polyline clip-path=\"url(#clip770)\" style=\"stroke:#000000; stroke-linecap:round; stroke-linejoin:round; stroke-width:4; stroke-opacity:1; fill:none\" points=\"181.785,1474.16 2352.76,1474.16 \"/>\n",
       "<polyline clip-path=\"url(#clip770)\" style=\"stroke:#000000; stroke-linecap:round; stroke-linejoin:round; stroke-width:4; stroke-opacity:1; fill:none\" points=\"243.227,1474.16 243.227,1455.27 \"/>\n",
       "<polyline clip-path=\"url(#clip770)\" style=\"stroke:#000000; stroke-linecap:round; stroke-linejoin:round; stroke-width:4; stroke-opacity:1; fill:none\" points=\"1608.62,1474.16 1608.62,1455.27 \"/>\n",
       "<path clip-path=\"url(#clip770)\" d=\"M208.21 1548.29 L215.849 1548.29 L215.849 1521.92 L207.539 1523.59 L207.539 1519.33 L215.803 1517.66 L220.479 1517.66 L220.479 1548.29 L228.117 1548.29 L228.117 1552.22 L208.21 1552.22 L208.21 1548.29 Z\" fill=\"#000000\" fill-rule=\"nonzero\" fill-opacity=\"1\" /><path clip-path=\"url(#clip770)\" d=\"M247.562 1520.74 Q243.951 1520.74 242.122 1524.31 Q240.316 1527.85 240.316 1534.98 Q240.316 1542.09 242.122 1545.65 Q243.951 1549.19 247.562 1549.19 Q251.196 1549.19 253.002 1545.65 Q254.83 1542.09 254.83 1534.98 Q254.83 1527.85 253.002 1524.31 Q251.196 1520.74 247.562 1520.74 M247.562 1517.04 Q253.372 1517.04 256.427 1521.65 Q259.506 1526.23 259.506 1534.98 Q259.506 1543.71 256.427 1548.31 Q253.372 1552.9 247.562 1552.9 Q241.752 1552.9 238.673 1548.31 Q235.617 1543.71 235.617 1534.98 Q235.617 1526.23 238.673 1521.65 Q241.752 1517.04 247.562 1517.04 Z\" fill=\"#000000\" fill-rule=\"nonzero\" fill-opacity=\"1\" /><path clip-path=\"url(#clip770)\" d=\"M269.211 1499.24 Q266.277 1499.24 264.791 1502.13 Q263.324 1505.01 263.324 1510.8 Q263.324 1516.58 264.791 1519.47 Q266.277 1522.35 269.211 1522.35 Q272.164 1522.35 273.631 1519.47 Q275.117 1516.58 275.117 1510.8 Q275.117 1505.01 273.631 1502.13 Q272.164 1499.24 269.211 1499.24 M269.211 1496.23 Q273.932 1496.23 276.414 1499.97 Q278.916 1503.69 278.916 1510.8 Q278.916 1517.89 276.414 1521.64 Q273.932 1525.36 269.211 1525.36 Q264.49 1525.36 261.989 1521.64 Q259.506 1517.89 259.506 1510.8 Q259.506 1503.69 261.989 1499.97 Q264.49 1496.23 269.211 1496.23 Z\" fill=\"#000000\" fill-rule=\"nonzero\" fill-opacity=\"1\" /><path clip-path=\"url(#clip770)\" d=\"M1574.39 1548.29 L1582.03 1548.29 L1582.03 1521.92 L1573.72 1523.59 L1573.72 1519.33 L1581.98 1517.66 L1586.66 1517.66 L1586.66 1548.29 L1594.3 1548.29 L1594.3 1552.22 L1574.39 1552.22 L1574.39 1548.29 Z\" fill=\"#000000\" fill-rule=\"nonzero\" fill-opacity=\"1\" /><path clip-path=\"url(#clip770)\" d=\"M1613.74 1520.74 Q1610.13 1520.74 1608.3 1524.31 Q1606.5 1527.85 1606.5 1534.98 Q1606.5 1542.09 1608.3 1545.65 Q1610.13 1549.19 1613.74 1549.19 Q1617.38 1549.19 1619.18 1545.65 Q1621.01 1542.09 1621.01 1534.98 Q1621.01 1527.85 1619.18 1524.31 Q1617.38 1520.74 1613.74 1520.74 M1613.74 1517.04 Q1619.55 1517.04 1622.61 1521.65 Q1625.69 1526.23 1625.69 1534.98 Q1625.69 1543.71 1622.61 1548.31 Q1619.55 1552.9 1613.74 1552.9 Q1607.93 1552.9 1604.85 1548.31 Q1601.8 1543.71 1601.8 1534.98 Q1601.8 1526.23 1604.85 1521.65 Q1607.93 1517.04 1613.74 1517.04 Z\" fill=\"#000000\" fill-rule=\"nonzero\" fill-opacity=\"1\" /><path clip-path=\"url(#clip770)\" d=\"M1630.26 1521.62 L1643.52 1521.62 L1643.52 1524.81 L1625.69 1524.81 L1625.69 1521.62 Q1627.85 1519.38 1631.57 1515.62 Q1635.32 1511.84 1636.28 1510.75 Q1638.1 1508.7 1638.81 1507.29 Q1639.55 1505.86 1639.55 1504.48 Q1639.55 1502.24 1637.97 1500.83 Q1636.41 1499.42 1633.89 1499.42 Q1632.1 1499.42 1630.11 1500.04 Q1628.13 1500.67 1625.87 1501.93 L1625.87 1498.09 Q1628.17 1497.17 1630.16 1496.7 Q1632.16 1496.23 1633.81 1496.23 Q1638.18 1496.23 1640.77 1498.41 Q1643.37 1500.59 1643.37 1504.24 Q1643.37 1505.97 1642.71 1507.53 Q1642.07 1509.07 1640.36 1511.18 Q1639.89 1511.72 1637.37 1514.34 Q1634.85 1516.93 1630.26 1521.62 Z\" fill=\"#000000\" fill-rule=\"nonzero\" fill-opacity=\"1\" /><polyline clip-path=\"url(#clip770)\" style=\"stroke:#000000; stroke-linecap:round; stroke-linejoin:round; stroke-width:4; stroke-opacity:1; fill:none\" points=\"181.785,1474.16 181.785,47.2441 \"/>\n",
       "<polyline clip-path=\"url(#clip770)\" style=\"stroke:#000000; stroke-linecap:round; stroke-linejoin:round; stroke-width:4; stroke-opacity:1; fill:none\" points=\"181.785,1061.46 200.682,1061.46 \"/>\n",
       "<polyline clip-path=\"url(#clip770)\" style=\"stroke:#000000; stroke-linecap:round; stroke-linejoin:round; stroke-width:4; stroke-opacity:1; fill:none\" points=\"181.785,478.048 200.682,478.048 \"/>\n",
       "<path clip-path=\"url(#clip770)\" d=\"M75.0791 1081.25 L82.7179 1081.25 L82.7179 1054.88 L74.4078 1056.55 L74.4078 1052.29 L82.6716 1050.63 L87.3475 1050.63 L87.3475 1081.25 L94.9864 1081.25 L94.9864 1085.19 L75.0791 1085.19 L75.0791 1081.25 Z\" fill=\"#000000\" fill-rule=\"nonzero\" fill-opacity=\"1\" /><path clip-path=\"url(#clip770)\" d=\"M114.431 1053.7 Q110.82 1053.7 108.991 1057.27 Q107.185 1060.81 107.185 1067.94 Q107.185 1075.05 108.991 1078.61 Q110.82 1082.15 114.431 1082.15 Q118.065 1082.15 119.871 1078.61 Q121.699 1075.05 121.699 1067.94 Q121.699 1060.81 119.871 1057.27 Q118.065 1053.7 114.431 1053.7 M114.431 1050 Q120.241 1050 123.296 1054.61 Q126.375 1059.19 126.375 1067.94 Q126.375 1076.67 123.296 1081.27 Q120.241 1085.86 114.431 1085.86 Q108.621 1085.86 105.542 1081.27 Q102.486 1076.67 102.486 1067.94 Q102.486 1059.19 105.542 1054.61 Q108.621 1050 114.431 1050 Z\" fill=\"#000000\" fill-rule=\"nonzero\" fill-opacity=\"1\" /><path clip-path=\"url(#clip770)\" d=\"M136.08 1032.2 Q133.146 1032.2 131.66 1035.09 Q130.193 1037.97 130.193 1043.76 Q130.193 1049.54 131.66 1052.43 Q133.146 1055.31 136.08 1055.31 Q139.033 1055.31 140.5 1052.43 Q141.986 1049.54 141.986 1043.76 Q141.986 1037.97 140.5 1035.09 Q139.033 1032.2 136.08 1032.2 M136.08 1029.19 Q140.801 1029.19 143.283 1032.93 Q145.785 1036.65 145.785 1043.76 Q145.785 1050.85 143.283 1054.6 Q140.801 1058.32 136.08 1058.32 Q131.359 1058.32 128.858 1054.6 Q126.375 1050.85 126.375 1043.76 Q126.375 1036.65 128.858 1032.93 Q131.359 1029.19 136.08 1029.19 Z\" fill=\"#000000\" fill-rule=\"nonzero\" fill-opacity=\"1\" /><path clip-path=\"url(#clip770)\" d=\"M51.6634 497.84 L59.3023 497.84 L59.3023 471.475 L50.9921 473.141 L50.9921 468.882 L59.256 467.215 L63.9319 467.215 L63.9319 497.84 L71.5707 497.84 L71.5707 501.775 L51.6634 501.775 L51.6634 497.84 Z\" fill=\"#000000\" fill-rule=\"nonzero\" fill-opacity=\"1\" /><path clip-path=\"url(#clip770)\" d=\"M91.0151 470.294 Q87.404 470.294 85.5753 473.859 Q83.7697 477.4 83.7697 484.53 Q83.7697 491.637 85.5753 495.201 Q87.404 498.743 91.0151 498.743 Q94.6493 498.743 96.4548 495.201 Q98.2835 491.637 98.2835 484.53 Q98.2835 477.4 96.4548 473.859 Q94.6493 470.294 91.0151 470.294 M91.0151 466.59 Q96.8252 466.59 99.8808 471.197 Q102.959 475.78 102.959 484.53 Q102.959 493.257 99.8808 497.863 Q96.8252 502.447 91.0151 502.447 Q85.2049 502.447 82.1262 497.863 Q79.0707 493.257 79.0707 484.53 Q79.0707 475.78 82.1262 471.197 Q85.2049 466.59 91.0151 466.59 Z\" fill=\"#000000\" fill-rule=\"nonzero\" fill-opacity=\"1\" /><path clip-path=\"url(#clip770)\" d=\"M107.53 471.168 L120.789 471.168 L120.789 474.365 L102.959 474.365 L102.959 471.168 Q105.122 468.929 108.846 465.168 Q112.589 461.388 113.548 460.297 Q115.373 458.247 116.087 456.836 Q116.821 455.407 116.821 454.034 Q116.821 451.796 115.241 450.385 Q113.68 448.974 111.16 448.974 Q109.373 448.974 107.379 449.595 Q105.404 450.216 103.148 451.476 L103.148 447.639 Q105.442 446.718 107.436 446.247 Q109.429 445.777 111.084 445.777 Q115.448 445.777 118.043 447.959 Q120.639 450.141 120.639 453.789 Q120.639 455.52 119.98 457.081 Q119.341 458.623 117.63 460.729 Q117.159 461.275 114.639 463.889 Q112.119 466.484 107.53 471.168 Z\" fill=\"#000000\" fill-rule=\"nonzero\" fill-opacity=\"1\" /><path clip-path=\"url(#clip770)\" d=\"M128.801 446.285 L143.716 446.285 L143.716 449.482 L132.281 449.482 L132.281 456.366 Q133.108 456.084 133.936 455.952 Q134.763 455.802 135.591 455.802 Q140.293 455.802 143.039 458.378 Q145.785 460.955 145.785 465.356 Q145.785 469.889 142.964 472.409 Q140.142 474.91 135.008 474.91 Q133.24 474.91 131.397 474.609 Q129.572 474.309 127.616 473.707 L127.616 469.889 Q129.309 470.81 131.115 471.262 Q132.92 471.713 134.933 471.713 Q138.186 471.713 140.086 470.002 Q141.986 468.29 141.986 465.356 Q141.986 462.422 140.086 460.71 Q138.186 458.999 134.933 458.999 Q133.409 458.999 131.886 459.338 Q130.381 459.676 128.801 460.391 L128.801 446.285 Z\" fill=\"#000000\" fill-rule=\"nonzero\" fill-opacity=\"1\" /><polyline clip-path=\"url(#clip772)\" style=\"stroke:#009af9; stroke-linecap:round; stroke-linejoin:round; stroke-width:4; stroke-opacity:1; fill:none\" points=\"243.227,1064.81 448.739,1076.88 568.956,1091.5 654.251,1108.18 720.411,1126.61 774.468,1146.53 820.172,1167.76 859.763,1190.15 894.684,1213.58 925.923,1237.97 954.181,1263.22 979.979,1289.27 1003.71,1316.07 1025.68,1343.57 1046.14,1371.82 1065.27,1403.42 1083.25,1419.73 1100.2,1419.73 1116.23,1419.73 1131.43,1419.73 1145.9,1419.73 1159.69,1419.73 1172.87,1419.73 1185.49,1419.73 1197.59,1419.73 1209.22,1419.73 1220.41,1419.73 1231.2,1419.73 1241.6,1419.73 1251.65,1419.73 1261.37,1419.73 1270.79,1419.73 1279.91,1419.73 1288.76,1419.73 1297.36,1419.73 1305.71,1419.73 1313.83,1419.73 1321.74,1419.73 1329.44,1419.73 1336.95,1419.73 1344.27,1419.73 1351.41,1419.73 1358.39,1419.73 1365.2,1419.73 1371.87,1419.73 1378.38,1419.73 1384.76,1419.73 1391,1419.73 1397.12,1419.73 1403.11,1419.73 1408.98,1419.73 1414.73,1419.73 1420.38,1419.73 1425.92,1419.73 1431.36,1419.73 1436.71,1419.73 1441.95,1419.73 1447.11,1419.73 1452.18,1419.73 1457.16,1419.73 1462.06,1419.73 1466.88,1419.73 1471.63,1419.73 1476.3,1419.73 1480.89,1419.73 1485.42,1419.73 1489.88,1419.73 1494.27,1419.73 1498.6,1419.73 1502.87,1419.73 1507.07,1419.73 1511.22,1419.73 1515.31,1419.73 1519.34,1419.73 1523.32,1419.73 1527.25,1419.73 1531.13,1419.73 1534.95,1419.73 1538.73,1419.73 1542.46,1419.73 1546.14,1419.73 1549.78,1419.73 1553.37,1419.73 1556.92,1419.73 1560.43,1419.73 1563.9,1419.73 1567.33,1419.73 1570.72,1419.73 1574.07,1419.73 1577.38,1419.73 1580.66,1419.73 1583.9,1419.73 1587.1,1419.73 1590.27,1419.73 1593.41,1419.73 1596.51,1419.73 1599.59,1419.73 1602.63,1419.73 1605.64,1419.73 1608.62,1419.73 1611.57,1419.73 1614.49,1419.73 1617.38,1419.73 1620.25,1419.73 1623.08,1419.73 1625.89,1419.73 1628.68,1419.73 1631.44,1419.73 1634.17,1419.73 1636.88,1419.73 1639.56,1419.73 1642.22,1419.73 1644.85,1419.73 1647.47,1419.73 1650.06,1419.73 1652.62,1419.73 1655.17,1419.73 1657.69,1419.73 1660.19,1419.73 1662.67,1419.73 1665.14,1419.73 1667.58,1419.73 1670,1419.73 1672.4,1419.73 1674.78,1419.73 1677.14,1419.73 1679.48,1419.73 1681.81,1419.73 1684.12,1419.73 1686.41,1419.73 1688.68,1419.73 1690.93,1419.73 1693.17,1419.73 1695.39,1419.73 1697.6,1419.73 1699.78,1419.73 1701.96,1419.73 1704.11,1419.73 1706.25,1419.73 1708.38,1419.73 1710.49,1419.73 1712.58,1419.73 1714.67,1419.73 1716.73,1419.73 1718.78,1419.73 1720.82,1419.73 1722.84,1419.73 1724.85,1419.73 1726.85,1419.73 1728.83,1419.73 1730.8,1419.73 1732.76,1419.73 1734.71,1419.73 1736.64,1419.73 1738.56,1419.73 1740.46,1419.73 1742.36,1419.73 1744.24,1419.73 1746.11,1419.73 1747.97,1419.73 1749.82,1419.73 1751.65,1419.73 1753.48,1419.73 1755.29,1419.73 1757.09,1419.73 1758.88,1419.73 1760.67,1419.73 1762.44,1419.73 1764.2,1419.73 1765.94,1419.73 1767.68,1419.73 1769.41,1419.73 1771.13,1419.73 1772.84,1419.73 1774.54,1419.73 1776.23,1419.73 1777.91,1419.73 1779.58,1419.73 1781.24,1419.73 1782.89,1419.73 1784.53,1419.73 1786.17,1419.73 1787.79,1419.73 1789.41,1419.73 1791.01,1419.73 1792.61,1419.73 1794.2,1419.73 1795.78,1419.73 1797.36,1419.73 1798.92,1419.73 1800.48,1419.73 1802.03,1419.73 1803.57,1419.73 1805.1,1419.73 1806.62,1419.73 1808.14,1419.73 1809.65,1419.73 1811.15,1419.73 1812.64,1419.73 1814.13,1419.73 1815.61,1419.73 1817.08,1419.73 1818.54,1419.73 1820,1419.73 1821.45,1419.73 1822.89,1419.73 1824.33,1419.73 1825.76,1419.73 1827.18,1419.73 1828.6,1419.73 1830,1419.73 1831.41,1419.73 1832.8,1419.73 1834.19,1419.73 1835.57,1419.73 1836.95,1419.73 1838.32,1419.73 1839.68,1419.73 1841.04,1419.73 1842.39,1419.73 1843.73,1419.73 1845.07,1419.73 1846.4,1419.73 1847.73,1419.73 1849.05,1419.73 1850.37,1419.73 1851.68,1419.73 1852.98,1419.73 1854.28,1419.73 1855.57,1419.73 1856.85,1419.73 1858.13,1419.73 1859.41,1419.73 1860.68,1419.73 1861.94,1419.73 1863.2,1419.73 1864.46,1419.73 1865.71,1419.73 1866.95,1419.73 1868.19,1419.73 1869.42,1419.73 1870.65,1419.73 1871.87,1419.73 1873.09,1419.73 1874.3,1419.73 1875.51,1419.73 1876.71,1419.73 1877.91,1419.73 1879.1,1419.73 1880.29,1419.73 1881.47,1419.73 1882.65,1419.73 1883.83,1419.73 1885,1419.73 1886.16,1419.73 1887.32,1419.73 1888.48,1419.73 1889.63,1419.73 1890.78,1419.73 1891.92,1419.73 1893.06,1419.73 1894.19,1419.73 1895.32,1419.73 1896.45,1419.73 1897.57,1419.73 1898.68,1419.73 1899.8,1419.73 1900.9,1419.73 1902.01,1419.73 1903.11,1419.73 1904.2,1419.73 1905.3,1419.73 1906.38,1419.73 1907.47,1419.73 1908.55,1419.73 1909.62,1419.73 1910.7,1419.73 1911.77,1419.73 1912.83,1419.73 1913.89,1419.73 1914.95,1419.73 1916,1419.73 1917.05,1419.73 1918.1,1419.73 1919.14,1419.73 1920.18,1419.73 1921.21,1419.73 1922.24,1419.73 1923.27,1419.73 1924.29,1419.73 1925.32,1419.73 1926.33,1419.73 1927.35,1419.73 1928.36,1419.73 1929.36,1419.73 1930.37,1419.73 1931.37,1419.73 1932.36,1419.73 1933.36,1419.73 1934.35,1419.73 1935.33,1419.73 1936.32,1419.73 1937.3,1419.73 1938.27,1419.73 1939.25,1419.73 1940.22,1419.73 1941.19,1419.73 1942.15,1419.73 1943.11,1419.73 1944.07,1419.73 1945.02,1419.73 1945.98,1419.73 1946.92,1419.73 1947.87,1419.73 1948.81,1419.73 1949.75,1419.73 1950.69,1419.73 1951.62,1419.73 1952.55,1419.73 1953.48,1419.73 1954.41,1419.73 1955.33,1419.73 1956.25,1419.73 1957.16,1419.73 1958.08,1419.73 1958.99,1419.73 1959.9,1419.73 1960.8,1419.73 1961.71,1419.73 1962.61,1419.73 1963.5,1419.73 1964.4,1419.73 1965.29,1419.73 1966.18,1419.73 1967.06,1419.73 1967.95,1419.73 1968.83,1419.73 1969.71,1419.73 1970.58,1419.73 1971.46,1419.73 1972.33,1419.73 1973.2,1419.73 1974.06,1419.73 1974.92,1419.73 1975.78,1419.73 1976.64,1419.73 1977.5,1419.73 1978.35,1419.73 1979.2,1419.73 1980.05,1419.73 1980.9,1419.73 1981.74,1419.73 1982.58,1419.73 1983.42,1419.73 1984.26,1419.73 1985.09,1419.73 1985.92,1419.73 1986.75,1419.73 1987.58,1419.73 1988.4,1419.73 1989.23,1419.73 1990.05,1419.73 1990.86,1419.73 1991.68,1419.73 1992.49,1419.73 1993.3,1419.73 1994.11,1419.73 1994.92,1419.73 1995.72,1419.73 1996.53,1419.73 1997.33,1419.73 1998.12,1419.73 1998.92,1419.73 1999.71,1419.73 2000.51,1419.73 2001.3,1419.73 2002.08,1419.73 2002.87,1419.73 2003.65,1419.73 2004.43,1419.73 2005.21,1419.73 2005.99,1419.73 2006.77,1419.73 2007.54,1419.73 2008.31,1419.73 2009.08,1419.73 2009.85,1419.73 2010.61,1419.73 2011.37,1419.73 2012.14,1419.73 2012.89,1419.73 2013.65,1419.73 2014.41,1419.73 2015.16,1419.73 2015.91,1419.73 2016.66,1419.73 2017.41,1419.73 2018.16,1419.73 2018.9,1419.73 2019.64,1419.73 2020.38,1419.73 2021.12,1419.73 2021.86,1419.73 2022.59,1419.73 2023.32,1419.73 2024.06,1419.73 2024.79,1419.73 2025.51,1419.73 2026.24,1419.73 2026.96,1419.73 2027.68,1419.73 2028.41,1419.73 2029.12,1419.73 2029.84,1419.73 2030.56,1419.73 2031.27,1419.73 2031.98,1419.73 2032.69,1419.73 2033.4,1419.73 2034.11,1419.73 2034.81,1419.73 2035.52,1419.73 2036.22,1419.73 2036.92,1419.73 2037.62,1419.73 2038.31,1419.73 2039.01,1419.73 2039.7,1419.73 2040.39,1419.73 2041.08,1419.73 2041.77,1419.73 2042.46,1419.73 2043.15,1419.73 2043.83,1419.73 2044.51,1419.73 2045.19,1419.73 2045.87,1419.73 2046.55,1419.73 2047.23,1419.73 2047.9,1419.73 2048.57,1419.73 2049.24,1419.73 2049.91,1419.73 2050.58,1419.73 2051.25,1419.73 2051.92,1419.73 2052.58,1419.73 2053.24,1419.73 2053.9,1419.73 2054.56,1419.73 2055.22,1419.73 2055.88,1419.73 2056.53,1419.73 2057.19,1419.73 2057.84,1419.73 2058.49,1419.73 2059.14,1419.73 2059.79,1419.73 2060.43,1419.73 2061.08,1419.73 2061.72,1419.73 2062.37,1419.73 2063.01,1419.73 2063.65,1419.73 2064.29,1419.73 2064.92,1419.73 2065.56,1419.73 2066.19,1419.73 2066.82,1419.73 2067.46,1419.73 2068.09,1419.73 2068.72,1419.73 2069.34,1419.73 2069.97,1419.73 2070.59,1419.73 2071.22,1419.73 2071.84,1419.73 2072.46,1419.73 2073.08,1419.73 2073.7,1419.73 2074.32,1419.73 2074.93,1419.73 2075.55,1419.73 2076.16,1419.73 2076.77,1419.73 2077.38,1419.73 2077.99,1419.73 2078.6,1419.73 2079.21,1419.73 2079.81,1419.73 2080.42,1419.73 2081.02,1419.73 2081.62,1419.73 2082.22,1419.73 2082.82,1419.73 2083.42,1419.73 2084.02,1419.73 2084.61,1419.73 2085.21,1419.73 2085.8,1419.73 2086.39,1419.73 2086.99,1419.73 2087.58,1419.73 2088.16,1419.73 2088.75,1419.73 2089.34,1419.73 2089.92,1419.73 2090.51,1419.73 2091.09,1419.73 2091.67,1419.73 2092.25,1419.73 2092.83,1419.73 2093.41,1419.73 2093.99,1419.73 2094.57,1419.73 2095.14,1419.73 2095.71,1419.73 2096.29,1419.73 2096.86,1419.73 2097.43,1419.73 2098,1419.73 2098.57,1419.73 2099.14,1419.73 2099.7,1419.73 2100.27,1419.73 2100.83,1419.73 2101.39,1419.73 2101.96,1419.73 2102.52,1419.73 2103.08,1419.73 2103.64,1419.73 2104.19,1419.73 2104.75,1419.73 2105.31,1419.73 2105.86,1419.73 2106.42,1419.73 2106.97,1419.73 2107.52,1419.73 2108.07,1419.73 2108.62,1419.73 2109.17,1419.73 2109.72,1419.73 2110.26,1419.73 2110.81,1419.73 2111.35,1419.73 2111.9,1419.73 2112.44,1419.73 2112.98,1419.73 2113.52,1419.73 2114.06,1419.73 2114.6,1419.73 2115.14,1419.73 2115.67,1419.73 2116.21,1419.73 2116.74,1419.73 2117.28,1419.73 2117.81,1419.73 2118.34,1419.73 2118.87,1419.73 2119.4,1419.73 2119.93,1419.73 2120.46,1419.73 2120.99,1419.73 2121.51,1419.73 2122.04,1419.73 2122.56,1419.73 2123.09,1419.73 2123.61,1419.73 2124.13,1419.73 2124.65,1419.73 2125.17,1419.73 2125.69,1419.73 2126.21,1419.73 2126.72,1419.73 2127.24,1419.73 2127.75,1419.73 2128.27,1419.73 2128.78,1419.73 2129.3,1419.73 2129.81,1419.73 2130.32,1419.73 2130.83,1419.73 2131.34,1419.73 2131.84,1419.73 2132.35,1419.73 2132.86,1419.73 2133.36,1419.73 2133.87,1419.73 2134.37,1419.73 2134.88,1419.73 2135.38,1419.73 2135.88,1419.73 2136.38,1419.73 2136.88,1419.73 2137.38,1419.73 2137.87,1419.73 2138.37,1419.73 2138.87,1419.73 2139.36,1419.73 2139.86,1419.73 2140.35,1419.73 2140.84,1419.73 2141.34,1419.73 2141.83,1419.73 2142.32,1419.73 2142.81,1419.73 2143.3,1419.73 2143.79,1419.73 2144.27,1419.73 2144.76,1419.73 2145.24,1419.73 2145.73,1419.73 2146.21,1419.73 2146.7,1419.73 2147.18,1419.73 2147.66,1419.73 2148.14,1419.73 2148.62,1419.73 2149.1,1419.73 2149.58,1419.73 2150.06,1419.73 2150.53,1419.73 2151.01,1419.73 2151.49,1419.73 2151.96,1419.73 2152.44,1419.73 2152.91,1419.73 2153.38,1419.73 2153.85,1419.73 2154.32,1419.73 2154.79,1419.73 2155.26,1419.73 2155.73,1419.73 2156.2,1419.73 2156.67,1419.73 2157.13,1419.73 2157.6,1419.73 2158.07,1419.73 2158.53,1419.73 2158.99,1419.73 2159.46,1419.73 2159.92,1419.73 2160.38,1419.73 2160.84,1419.73 2161.3,1419.73 2161.76,1419.73 2162.22,1419.73 2162.68,1419.73 2163.13,1419.73 2163.59,1419.73 2164.05,1419.73 2164.5,1419.73 2164.96,1419.73 2165.41,1419.73 2165.86,1419.73 2166.31,1419.73 2166.77,1419.73 2167.22,1419.73 2167.67,1419.73 2168.12,1419.73 2168.57,1419.73 2169.01,1419.73 2169.46,1419.73 2169.91,1419.73 2170.35,1419.73 2170.8,1419.73 2171.24,1419.73 2171.69,1419.73 2172.13,1419.73 2172.58,1419.73 2173.02,1419.73 2173.46,1419.73 2173.9,1419.73 2174.34,1419.73 2174.78,1419.73 2175.22,1419.73 2175.66,1419.73 2176.09,1419.73 2176.53,1419.73 2176.97,1419.73 2177.4,1419.73 2177.84,1419.73 2178.27,1419.73 2178.71,1419.73 2179.14,1419.73 2179.57,1419.73 2180,1419.73 2180.44,1419.73 2180.87,1419.73 2181.3,1419.73 2181.73,1419.73 2182.15,1419.73 2182.58,1419.73 2183.01,1419.73 2183.44,1419.73 2183.86,1419.73 2184.29,1419.73 2184.71,1419.73 2185.14,1419.73 2185.56,1419.73 2185.99,1419.73 2186.41,1419.73 2186.83,1419.73 2187.25,1419.73 2187.67,1419.73 2188.09,1419.73 2188.51,1419.73 2188.93,1419.73 2189.35,1419.73 2189.77,1419.73 2190.19,1419.73 2190.6,1419.73 2191.02,1419.73 2191.43,1419.73 2191.85,1419.73 2192.26,1419.73 2192.68,1419.73 2193.09,1419.73 2193.5,1419.73 2193.91,1419.73 2194.33,1419.73 2194.74,1419.73 2195.15,1419.73 2195.56,1419.73 2195.97,1419.73 2196.38,1419.73 2196.78,1419.73 2197.19,1419.73 2197.6,1419.73 2198,1419.73 2198.41,1419.73 2198.82,1419.73 2199.22,1419.73 2199.62,1419.73 2200.03,1419.73 2200.43,1419.73 2200.83,1419.73 2201.24,1419.73 2201.64,1419.73 2202.04,1419.73 2202.44,1419.73 2202.84,1419.73 2203.24,1419.73 2203.64,1419.73 2204.04,1419.73 2204.43,1419.73 2204.83,1419.73 2205.23,1419.73 2205.62,1419.73 2206.02,1419.73 2206.41,1419.73 2206.81,1419.73 2207.2,1419.73 2207.6,1419.73 2207.99,1419.73 2208.38,1419.73 2208.77,1419.73 2209.16,1419.73 2209.55,1419.73 2209.95,1419.73 2210.34,1419.73 2210.72,1419.73 2211.11,1419.73 2211.5,1419.73 2211.89,1419.73 2212.28,1419.73 2212.66,1419.73 2213.05,1419.73 2213.44,1419.73 2213.82,1419.73 2214.21,1419.73 2214.59,1419.73 2214.97,1419.73 2215.36,1419.73 2215.74,1419.73 2216.12,1419.73 2216.5,1419.73 2216.89,1419.73 2217.27,1419.73 2217.65,1419.73 2218.03,1419.73 2218.41,1419.73 2218.78,1419.73 2219.16,1419.73 2219.54,1419.73 2219.92,1419.73 2220.3,1419.73 2220.67,1419.73 2221.05,1419.73 2221.42,1419.73 2221.8,1419.73 2222.17,1419.73 2222.55,1419.73 2222.92,1419.73 2223.29,1419.73 2223.67,1419.73 2224.04,1419.73 2224.41,1419.73 2224.78,1419.73 2225.15,1419.73 2225.52,1419.73 2225.89,1419.73 2226.26,1419.73 2226.63,1419.73 2227,1419.73 2227.37,1419.73 2227.74,1419.73 2228.1,1419.73 2228.47,1419.73 2228.84,1419.73 2229.2,1419.73 2229.57,1419.73 2229.93,1419.73 2230.3,1419.73 2230.66,1419.73 2231.02,1419.73 2231.39,1419.73 2231.75,1419.73 2232.11,1419.73 2232.47,1419.73 2232.84,1419.73 2233.2,1419.73 2233.56,1419.73 2233.92,1419.73 2234.28,1419.73 2234.64,1419.73 2234.99,1419.73 2235.35,1419.73 2235.71,1419.73 2236.07,1419.73 2236.43,1419.73 2236.78,1419.73 2237.14,1419.73 2237.49,1419.73 2237.85,1419.73 2238.2,1419.73 2238.56,1419.73 2238.91,1419.73 2239.27,1419.73 2239.62,1419.73 2239.97,1419.73 2240.32,1419.73 2240.68,1419.73 2241.03,1419.73 2241.38,1419.73 2241.73,1419.73 2242.08,1419.73 2242.43,1419.73 2242.78,1419.73 2243.13,1419.73 2243.48,1419.73 2243.82,1419.73 2244.17,1419.73 2244.52,1419.73 2244.87,1419.73 2245.21,1419.73 2245.56,1419.73 2245.91,1419.73 2246.25,1419.73 2246.6,1419.73 2246.94,1419.73 2247.28,1419.73 2247.63,1419.73 2247.97,1419.73 2248.31,1419.73 2248.66,1419.73 2249,1419.73 2249.34,1419.73 2249.68,1419.73 2250.02,1419.73 2250.36,1419.73 2250.7,1419.73 2251.04,1419.73 2251.38,1419.73 2251.72,1419.73 2252.06,1419.73 2252.4,1419.73 2252.74,1419.73 2253.07,1419.73 2253.41,1419.73 2253.75,1419.73 2254.08,1419.73 2254.42,1419.73 2254.76,1419.73 2255.09,1419.73 2255.43,1419.73 2255.76,1419.73 2256.1,1419.73 2256.43,1419.73 2256.76,1419.73 2257.1,1419.73 2257.43,1419.73 2257.76,1419.73 2258.09,1419.73 2258.42,1419.73 2258.75,1419.73 2259.08,1419.73 2259.42,1419.73 2259.75,1419.73 2260.07,1419.73 2260.4,1419.73 2260.73,1419.73 2261.06,1419.73 2261.39,1419.73 2261.72,1419.73 2262.04,1419.73 2262.37,1419.73 2262.7,1419.73 2263.03,1419.73 2263.35,1419.73 2263.68,1419.73 2264,1419.73 2264.33,1419.73 2264.65,1419.73 2264.98,1419.73 2265.3,1419.73 2265.62,1419.73 2265.95,1419.73 2266.27,1419.73 2266.59,1419.73 2266.91,1419.73 2267.24,1419.73 2267.56,1419.73 2267.88,1419.73 2268.2,1419.73 2268.52,1419.73 2268.84,1419.73 2269.16,1419.73 2269.48,1419.73 2269.8,1419.73 2270.12,1419.73 2270.43,1419.73 2270.75,1419.73 2271.07,1419.73 2271.39,1419.73 2271.7,1419.73 2272.02,1419.73 2272.34,1419.73 2272.65,1419.73 2272.97,1419.73 2273.28,1419.73 2273.6,1419.73 2273.91,1419.73 2274.23,1419.73 2274.54,1419.73 2274.85,1419.73 2275.17,1419.73 2275.48,1419.73 2275.79,1419.73 2276.11,1419.73 2276.42,1419.73 2276.73,1419.73 2277.04,1419.73 2277.35,1419.73 2277.66,1419.73 2277.97,1419.73 2278.28,1419.73 2278.59,1419.73 2278.9,1419.73 2279.21,1419.73 2279.52,1419.73 2279.83,1419.73 2280.14,1419.73 2280.44,1419.73 2280.75,1419.73 2281.06,1419.73 2281.36,1419.73 2281.67,1419.73 2281.98,1419.73 2282.28,1419.73 2282.59,1419.73 2282.89,1419.73 2283.2,1419.73 2283.5,1419.73 2283.81,1419.73 2284.11,1419.73 2284.41,1419.73 2284.72,1419.73 2285.02,1419.73 2285.32,1419.73 2285.63,1419.73 2285.93,1419.73 2286.23,1419.73 2286.53,1419.73 2286.83,1419.73 2287.13,1419.73 2287.43,1419.73 2287.73,1419.73 2288.03,1419.73 2288.33,1419.73 2288.63,1419.73 2288.93,1419.73 2289.23,1419.73 2289.53,1419.73 2289.83,1419.73 2290.12,1419.73 2290.42,1419.73 2290.72,1419.73 2291.02,1419.73 2291.31,1419.73 \"/>\n",
       "<polyline clip-path=\"url(#clip772)\" style=\"stroke:#e26f46; stroke-linecap:round; stroke-linejoin:round; stroke-width:4; stroke-opacity:1; fill:none\" points=\"243.227,1068.76 448.739,1079.81 568.956,1093.8 654.251,1110.08 720.411,1128.21 774.468,1147.92 820.172,1168.98 859.763,1191.24 894.684,1214.57 925.923,1238.87 954.181,1264.05 979.979,1290.04 1003.71,1316.79 1025.68,1344.23 1046.14,1372.31 1065.27,1401.16 \"/>\n",
       "<polyline clip-path=\"url(#clip772)\" style=\"stroke:#e26f46; stroke-linecap:round; stroke-linejoin:round; stroke-width:4; stroke-opacity:1; fill:none\" points=\"1100.2,1433.78 1116.23,1433.78 1131.43,1433.78 1145.9,1433.78 1159.69,1433.78 1172.87,1433.78 1185.49,1433.78 1197.59,1433.78 1209.22,1433.78 1220.41,1433.78 1231.2,1433.78 1241.6,1433.78 1251.65,1433.78 1261.37,1433.78 1270.79,1433.78 1279.91,1433.78 1288.76,1433.78 1297.36,1433.78 1305.71,1433.78 1313.83,1433.78 1321.74,1433.78 1329.44,1433.78 1336.95,1433.78 1344.27,1433.78 1351.41,1433.78 1358.39,1433.78 1365.2,1433.78 1371.87,1433.78 1378.38,1433.78 1384.76,1433.78 1391,1433.78 1397.12,1433.78 1403.11,1433.78 1408.98,1433.78 1414.73,1433.78 1420.38,1433.78 1425.92,1433.78 1431.36,1433.78 1436.71,1433.78 1441.95,1433.78 1447.11,1433.78 1452.18,1433.78 1457.16,1433.78 1462.06,1433.78 1466.88,1433.78 1471.63,1433.78 1476.3,1433.78 1480.89,1433.78 1485.42,1433.78 1489.88,1433.78 1494.27,1433.78 1498.6,1433.78 1502.87,1433.78 1507.07,1433.78 1511.22,1433.78 1515.31,1433.78 1519.34,1433.78 1523.32,1433.78 1527.25,1433.78 1531.13,1433.78 1534.95,1433.78 1538.73,1433.78 1542.46,1433.78 1546.14,1433.78 1549.78,1433.78 1553.37,1433.78 1556.92,1433.78 1560.43,1433.78 1563.9,1433.78 1567.33,1433.78 1570.72,1433.78 1574.07,1433.78 1577.38,1433.78 1580.66,1433.78 1583.9,1433.78 1587.1,1433.78 1590.27,1433.78 1593.41,1433.78 1596.51,1433.78 1599.59,1433.78 1602.63,1433.78 1605.64,1433.78 1608.62,1433.78 1611.57,1433.78 1614.49,1433.78 1617.38,1433.78 1620.25,1433.78 1623.08,1433.78 1625.89,1433.78 1628.68,1433.78 1631.44,1433.78 1634.17,1433.78 1636.88,1433.78 1639.56,1433.78 1642.22,1433.78 1644.85,1433.78 1647.47,1433.78 1650.06,1433.78 1652.62,1433.78 1655.17,1433.78 1657.69,1433.78 1660.19,1433.78 1662.67,1433.78 1665.14,1433.78 1667.58,1433.78 1670,1433.78 1672.4,1433.78 1674.78,1433.78 1677.14,1433.78 1679.48,1433.78 1681.81,1433.78 1684.12,1433.78 1686.41,1433.78 1688.68,1433.78 1690.93,1433.78 1693.17,1433.78 1695.39,1433.78 1697.6,1433.78 1699.78,1433.78 1701.96,1433.78 1704.11,1433.78 1706.25,1433.78 1708.38,1433.78 1710.49,1433.78 1712.58,1433.78 1714.67,1433.78 1716.73,1433.78 1718.78,1433.78 1720.82,1433.78 1722.84,1433.78 1724.85,1433.78 1726.85,1433.78 1728.83,1433.78 1730.8,1433.78 1732.76,1433.78 1734.71,1433.78 1736.64,1433.78 1738.56,1433.78 1740.46,1433.78 1742.36,1433.78 1744.24,1433.78 1746.11,1433.78 1747.97,1433.78 1749.82,1433.78 1751.65,1433.78 1753.48,1433.78 1755.29,1433.78 1757.09,1433.78 1758.88,1433.78 1760.67,1433.78 1762.44,1433.78 1764.2,1433.78 1765.94,1433.78 1767.68,1433.78 1769.41,1433.78 1771.13,1433.78 1772.84,1433.78 1774.54,1433.78 1776.23,1433.78 1777.91,1433.78 1779.58,1433.78 1781.24,1433.78 1782.89,1433.78 1784.53,1433.78 1786.17,1433.78 1787.79,1433.78 1789.41,1433.78 1791.01,1433.78 1792.61,1433.78 1794.2,1433.78 1795.78,1433.78 1797.36,1433.78 1798.92,1433.78 1800.48,1433.78 1802.03,1433.78 1803.57,1433.78 1805.1,1433.78 1806.62,1433.78 1808.14,1433.78 1809.65,1433.78 1811.15,1433.78 1812.64,1433.78 1814.13,1433.78 1815.61,1433.78 1817.08,1433.78 1818.54,1433.78 1820,1433.78 1821.45,1433.78 1822.89,1433.78 1824.33,1433.78 1825.76,1433.78 1827.18,1433.78 1828.6,1433.78 1830,1433.78 1831.41,1433.78 1832.8,1433.78 1834.19,1433.78 1835.57,1433.78 1836.95,1433.78 1838.32,1433.78 1839.68,1433.78 1841.04,1433.78 1842.39,1433.78 1843.73,1433.78 1845.07,1433.78 1846.4,1433.78 1847.73,1433.78 1849.05,1433.78 1850.37,1433.78 1851.68,1433.78 1852.98,1433.78 1854.28,1433.78 1855.57,1433.78 1856.85,1433.78 1858.13,1433.78 1859.41,1433.78 1860.68,1433.78 1861.94,1433.78 1863.2,1433.78 1864.46,1433.78 1865.71,1433.78 1866.95,1433.78 1868.19,1433.78 1869.42,1433.78 1870.65,1433.78 1871.87,1433.78 1873.09,1433.78 1874.3,1433.78 1875.51,1433.78 1876.71,1433.78 1877.91,1433.78 1879.1,1433.78 1880.29,1433.78 1881.47,1433.78 1882.65,1433.78 1883.83,1433.78 1885,1433.78 1886.16,1433.78 1887.32,1433.78 1888.48,1433.78 1889.63,1433.78 1890.78,1433.78 1891.92,1433.78 1893.06,1433.78 1894.19,1433.78 1895.32,1433.78 1896.45,1433.78 1897.57,1433.78 1898.68,1433.78 1899.8,1433.78 1900.9,1433.78 1902.01,1433.78 1903.11,1433.78 1904.2,1433.78 1905.3,1433.78 1906.38,1433.78 1907.47,1433.78 1908.55,1433.78 1909.62,1433.78 1910.7,1433.78 1911.77,1433.78 1912.83,1433.78 1913.89,1433.78 1914.95,1433.78 1916,1433.78 1917.05,1433.78 1918.1,1433.78 1919.14,1433.78 1920.18,1433.78 1921.21,1433.78 1922.24,1433.78 1923.27,1433.78 1924.29,1433.78 1925.32,1433.78 1926.33,1433.78 1927.35,1433.78 1928.36,1433.78 1929.36,1433.78 1930.37,1433.78 1931.37,1433.78 1932.36,1433.78 1933.36,1433.78 1934.35,1433.78 1935.33,1433.78 1936.32,1433.78 1937.3,1433.78 1938.27,1433.78 1939.25,1433.78 1940.22,1433.78 1941.19,1433.78 1942.15,1433.78 1943.11,1433.78 1944.07,1433.78 1945.02,1433.78 1945.98,1433.78 1946.92,1433.78 1947.87,1433.78 1948.81,1433.78 1949.75,1433.78 1950.69,1433.78 1951.62,1433.78 1952.55,1433.78 1953.48,1433.78 1954.41,1433.78 1955.33,1433.78 1956.25,1433.78 1957.16,1433.78 1958.08,1433.78 1958.99,1433.78 1959.9,1433.78 1960.8,1433.78 1961.71,1433.78 1962.61,1433.78 1963.5,1433.78 1964.4,1433.78 1965.29,1433.78 1966.18,1433.78 1967.06,1433.78 1967.95,1433.78 1968.83,1433.78 1969.71,1433.78 1970.58,1433.78 1971.46,1433.78 1972.33,1433.78 1973.2,1433.78 1974.06,1433.78 1974.92,1433.78 1975.78,1433.78 1976.64,1433.78 1977.5,1433.78 1978.35,1433.78 1979.2,1433.78 1980.05,1433.78 1980.9,1433.78 1981.74,1433.78 1982.58,1433.78 1983.42,1433.78 1984.26,1433.78 1985.09,1433.78 1985.92,1433.78 1986.75,1433.78 1987.58,1433.78 1988.4,1433.78 1989.23,1433.78 1990.05,1433.78 1990.86,1433.78 1991.68,1433.78 1992.49,1433.78 1993.3,1433.78 1994.11,1433.78 1994.92,1433.78 1995.72,1433.78 1996.53,1433.78 1997.33,1433.78 1998.12,1433.78 1998.92,1433.78 1999.71,1433.78 2000.51,1433.78 2001.3,1433.78 2002.08,1433.78 2002.87,1433.78 2003.65,1433.78 2004.43,1433.78 2005.21,1433.78 2005.99,1433.78 2006.77,1433.78 2007.54,1433.78 2008.31,1433.78 2009.08,1433.78 2009.85,1433.78 2010.61,1433.78 2011.37,1433.78 2012.14,1433.78 2012.89,1433.78 2013.65,1433.78 2014.41,1433.78 2015.16,1433.78 2015.91,1433.78 2016.66,1433.78 2017.41,1433.78 2018.16,1433.78 2018.9,1433.78 2019.64,1433.78 2020.38,1433.78 2021.12,1433.78 2021.86,1433.78 2022.59,1433.78 2023.32,1433.78 2024.06,1433.78 2024.79,1433.78 2025.51,1433.78 2026.24,1433.78 2026.96,1433.78 2027.68,1433.78 2028.41,1433.78 2029.12,1433.78 2029.84,1433.78 2030.56,1433.78 2031.27,1433.78 2031.98,1433.78 2032.69,1433.78 2033.4,1433.78 2034.11,1433.78 2034.81,1433.78 2035.52,1433.78 2036.22,1433.78 2036.92,1433.78 2037.62,1433.78 2038.31,1433.78 2039.01,1433.78 2039.7,1433.78 2040.39,1433.78 2041.08,1433.78 2041.77,1433.78 2042.46,1433.78 2043.15,1433.78 2043.83,1433.78 2044.51,1433.78 2045.19,1433.78 2045.87,1433.78 2046.55,1433.78 2047.23,1433.78 2047.9,1433.78 2048.57,1433.78 2049.24,1433.78 2049.91,1433.78 2050.58,1433.78 2051.25,1433.78 2051.92,1433.78 2052.58,1433.78 2053.24,1433.78 2053.9,1433.78 2054.56,1433.78 2055.22,1433.78 2055.88,1433.78 2056.53,1433.78 2057.19,1433.78 2057.84,1433.78 2058.49,1433.78 2059.14,1433.78 2059.79,1433.78 2060.43,1433.78 2061.08,1433.78 2061.72,1433.78 2062.37,1433.78 2063.01,1433.78 2063.65,1433.78 2064.29,1433.78 2064.92,1433.78 2065.56,1433.78 2066.19,1433.78 2066.82,1433.78 2067.46,1433.78 2068.09,1433.78 2068.72,1433.78 2069.34,1433.78 2069.97,1433.78 2070.59,1433.78 2071.22,1433.78 2071.84,1433.78 2072.46,1433.78 2073.08,1433.78 2073.7,1433.78 2074.32,1433.78 2074.93,1433.78 2075.55,1433.78 2076.16,1433.78 2076.77,1433.78 2077.38,1433.78 2077.99,1433.78 2078.6,1433.78 2079.21,1433.78 2079.81,1433.78 2080.42,1433.78 2081.02,1433.78 2081.62,1433.78 2082.22,1433.78 2082.82,1433.78 2083.42,1433.78 2084.02,1433.78 2084.61,1433.78 2085.21,1433.78 2085.8,1433.78 2086.39,1433.78 2086.99,1433.78 2087.58,1433.78 2088.16,1433.78 2088.75,1433.78 2089.34,1433.78 2089.92,1433.78 2090.51,1433.78 2091.09,1433.78 2091.67,1433.78 2092.25,1433.78 2092.83,1433.78 2093.41,1433.78 2093.99,1433.78 2094.57,1433.78 2095.14,1433.78 2095.71,1433.78 2096.29,1433.78 2096.86,1433.78 2097.43,1433.78 2098,1433.78 2098.57,1433.78 2099.14,1433.78 2099.7,1433.78 2100.27,1433.78 2100.83,1433.78 2101.39,1433.78 2101.96,1433.78 2102.52,1433.78 2103.08,1433.78 2103.64,1433.78 2104.19,1433.78 2104.75,1433.78 2105.31,1433.78 2105.86,1433.78 2106.42,1433.78 2106.97,1433.78 2107.52,1433.78 2108.07,1433.78 2108.62,1433.78 2109.17,1433.78 2109.72,1433.78 2110.26,1433.78 2110.81,1433.78 2111.35,1433.78 2111.9,1433.78 2112.44,1433.78 2112.98,1433.78 2113.52,1433.78 2114.06,1433.78 2114.6,1433.78 2115.14,1433.78 2115.67,1433.78 2116.21,1433.78 2116.74,1433.78 2117.28,1433.78 2117.81,1433.78 2118.34,1433.78 2118.87,1433.78 2119.4,1433.78 2119.93,1433.78 2120.46,1433.78 2120.99,1433.78 2121.51,1433.78 2122.04,1433.78 2122.56,1433.78 2123.09,1433.78 2123.61,1433.78 2124.13,1433.78 2124.65,1433.78 2125.17,1433.78 2125.69,1433.78 2126.21,1433.78 2126.72,1433.78 2127.24,1433.78 2127.75,1433.78 2128.27,1433.78 2128.78,1433.78 2129.3,1433.78 2129.81,1433.78 2130.32,1433.78 2130.83,1433.78 2131.34,1433.78 2131.84,1433.78 2132.35,1433.78 2132.86,1433.78 2133.36,1433.78 2133.87,1433.78 2134.37,1433.78 2134.88,1433.78 2135.38,1433.78 2135.88,1433.78 2136.38,1433.78 2136.88,1433.78 2137.38,1433.78 2137.87,1433.78 2138.37,1433.78 2138.87,1433.78 2139.36,1433.78 2139.86,1433.78 2140.35,1433.78 2140.84,1433.78 2141.34,1433.78 2141.83,1433.78 2142.32,1433.78 2142.81,1433.78 2143.3,1433.78 2143.79,1433.78 2144.27,1433.78 2144.76,1433.78 2145.24,1433.78 2145.73,1433.78 2146.21,1433.78 2146.7,1433.78 2147.18,1433.78 2147.66,1433.78 2148.14,1433.78 2148.62,1433.78 2149.1,1433.78 2149.58,1433.78 2150.06,1433.78 2150.53,1433.78 2151.01,1433.78 2151.49,1433.78 2151.96,1433.78 2152.44,1433.78 2152.91,1433.78 2153.38,1433.78 2153.85,1433.78 2154.32,1433.78 2154.79,1433.78 2155.26,1433.78 2155.73,1433.78 2156.2,1433.78 2156.67,1433.78 2157.13,1433.78 2157.6,1433.78 2158.07,1433.78 2158.53,1433.78 2158.99,1433.78 2159.46,1433.78 2159.92,1433.78 2160.38,1433.78 2160.84,1433.78 2161.3,1433.78 2161.76,1433.78 2162.22,1433.78 2162.68,1433.78 2163.13,1433.78 2163.59,1433.78 2164.05,1433.78 2164.5,1433.78 2164.96,1433.78 2165.41,1433.78 2165.86,1433.78 2166.31,1433.78 2166.77,1433.78 2167.22,1433.78 2167.67,1433.78 2168.12,1433.78 2168.57,1433.78 2169.01,1433.78 2169.46,1433.78 2169.91,1433.78 2170.35,1433.78 2170.8,1433.78 2171.24,1433.78 2171.69,1433.78 2172.13,1433.78 2172.58,1433.78 2173.02,1433.78 2173.46,1433.78 2173.9,1433.78 2174.34,1433.78 2174.78,1433.78 2175.22,1433.78 2175.66,1433.78 2176.09,1433.78 2176.53,1433.78 2176.97,1433.78 2177.4,1433.78 2177.84,1433.78 2178.27,1433.78 2178.71,1433.78 2179.14,1433.78 2179.57,1433.78 2180,1433.78 2180.44,1433.78 2180.87,1433.78 2181.3,1433.78 2181.73,1433.78 2182.15,1433.78 2182.58,1433.78 2183.01,1433.78 2183.44,1433.78 2183.86,1433.78 2184.29,1433.78 2184.71,1433.78 2185.14,1433.78 2185.56,1433.78 2185.99,1433.78 2186.41,1433.78 2186.83,1433.78 2187.25,1433.78 2187.67,1433.78 2188.09,1433.78 2188.51,1433.78 2188.93,1433.78 2189.35,1433.78 2189.77,1433.78 2190.19,1433.78 2190.6,1433.78 2191.02,1433.78 2191.43,1433.78 2191.85,1433.78 2192.26,1433.78 2192.68,1433.78 2193.09,1433.78 2193.5,1433.78 2193.91,1433.78 2194.33,1433.78 2194.74,1433.78 2195.15,1433.78 2195.56,1433.78 2195.97,1433.78 2196.38,1433.78 2196.78,1433.78 2197.19,1433.78 2197.6,1433.78 2198,1433.78 2198.41,1433.78 2198.82,1433.78 2199.22,1433.78 2199.62,1433.78 2200.03,1433.78 2200.43,1433.78 2200.83,1433.78 2201.24,1433.78 2201.64,1433.78 2202.04,1433.78 2202.44,1433.78 2202.84,1433.78 2203.24,1433.78 2203.64,1433.78 2204.04,1433.78 2204.43,1433.78 2204.83,1433.78 2205.23,1433.78 2205.62,1433.78 2206.02,1433.78 2206.41,1433.78 2206.81,1433.78 2207.2,1433.78 2207.6,1433.78 2207.99,1433.78 2208.38,1433.78 2208.77,1433.78 2209.16,1433.78 2209.55,1433.78 2209.95,1433.78 2210.34,1433.78 2210.72,1433.78 2211.11,1433.78 2211.5,1433.78 2211.89,1433.78 2212.28,1433.78 2212.66,1433.78 2213.05,1433.78 2213.44,1433.78 2213.82,1433.78 2214.21,1433.78 2214.59,1433.78 2214.97,1433.78 2215.36,1433.78 2215.74,1433.78 2216.12,1433.78 2216.5,1433.78 2216.89,1433.78 2217.27,1433.78 2217.65,1433.78 2218.03,1433.78 2218.41,1433.78 2218.78,1433.78 2219.16,1433.78 2219.54,1433.78 2219.92,1433.78 2220.3,1433.78 2220.67,1433.78 2221.05,1433.78 2221.42,1433.78 2221.8,1433.78 2222.17,1433.78 2222.55,1433.78 2222.92,1433.78 2223.29,1433.78 2223.67,1433.78 2224.04,1433.78 2224.41,1433.78 2224.78,1433.78 2225.15,1433.78 2225.52,1433.78 2225.89,1433.78 2226.26,1433.78 2226.63,1433.78 2227,1433.78 2227.37,1433.78 2227.74,1433.78 2228.1,1433.78 2228.47,1433.78 2228.84,1433.78 2229.2,1433.78 2229.57,1433.78 2229.93,1433.78 2230.3,1433.78 2230.66,1433.78 2231.02,1433.78 2231.39,1433.78 2231.75,1433.78 2232.11,1433.78 2232.47,1433.78 2232.84,1433.78 2233.2,1433.78 2233.56,1433.78 2233.92,1433.78 2234.28,1433.78 2234.64,1433.78 2234.99,1433.78 2235.35,1433.78 2235.71,1433.78 2236.07,1433.78 2236.43,1433.78 2236.78,1433.78 2237.14,1433.78 2237.49,1433.78 2237.85,1433.78 2238.2,1433.78 2238.56,1433.78 2238.91,1433.78 2239.27,1433.78 2239.62,1433.78 2239.97,1433.78 2240.32,1433.78 2240.68,1433.78 2241.03,1433.78 2241.38,1433.78 2241.73,1433.78 2242.08,1433.78 2242.43,1433.78 2242.78,1433.78 2243.13,1433.78 2243.48,1433.78 2243.82,1433.78 2244.17,1433.78 2244.52,1433.78 2244.87,1433.78 2245.21,1433.78 2245.56,1433.78 2245.91,1433.78 2246.25,1433.78 2246.6,1433.78 2246.94,1433.78 2247.28,1433.78 2247.63,1433.78 2247.97,1433.78 2248.31,1433.78 2248.66,1433.78 2249,1433.78 2249.34,1433.78 2249.68,1433.78 2250.02,1433.78 2250.36,1433.78 2250.7,1433.78 2251.04,1433.78 2251.38,1433.78 2251.72,1433.78 2252.06,1433.78 2252.4,1433.78 2252.74,1433.78 2253.07,1433.78 2253.41,1433.78 2253.75,1433.78 2254.08,1433.78 2254.42,1433.78 2254.76,1433.78 2255.09,1433.78 2255.43,1433.78 2255.76,1433.78 2256.1,1433.78 2256.43,1433.78 2256.76,1433.78 2257.1,1433.78 2257.43,1433.78 2257.76,1433.78 2258.09,1433.78 2258.42,1433.78 2258.75,1433.78 2259.08,1433.78 2259.42,1433.78 2259.75,1433.78 2260.07,1433.78 2260.4,1433.78 2260.73,1433.78 2261.06,1433.78 2261.39,1433.78 2261.72,1433.78 2262.04,1433.78 2262.37,1433.78 2262.7,1433.78 2263.03,1433.78 2263.35,1433.78 2263.68,1433.78 2264,1433.78 2264.33,1433.78 2264.65,1433.78 2264.98,1433.78 2265.3,1433.78 2265.62,1433.78 2265.95,1433.78 2266.27,1433.78 2266.59,1433.78 2266.91,1433.78 2267.24,1433.78 2267.56,1433.78 2267.88,1433.78 2268.2,1433.78 2268.52,1433.78 2268.84,1433.78 2269.16,1433.78 2269.48,1433.78 2269.8,1433.78 2270.12,1433.78 2270.43,1433.78 2270.75,1433.78 2271.07,1433.78 2271.39,1433.78 2271.7,1433.78 2272.02,1433.78 2272.34,1433.78 2272.65,1433.78 2272.97,1433.78 2273.28,1433.78 2273.6,1433.78 2273.91,1433.78 2274.23,1433.78 2274.54,1433.78 2274.85,1433.78 2275.17,1433.78 2275.48,1433.78 2275.79,1433.78 2276.11,1433.78 2276.42,1433.78 2276.73,1433.78 2277.04,1433.78 2277.35,1433.78 2277.66,1433.78 2277.97,1433.78 2278.28,1433.78 2278.59,1433.78 2278.9,1433.78 2279.21,1433.78 2279.52,1433.78 2279.83,1433.78 2280.14,1433.78 2280.44,1433.78 2280.75,1433.78 2281.06,1433.78 2281.36,1433.78 2281.67,1433.78 2281.98,1433.78 2282.28,1433.78 2282.59,1433.78 2282.89,1433.78 2283.2,1433.78 2283.5,1433.78 2283.81,1433.78 2284.11,1433.78 2284.41,1433.78 2284.72,1433.78 2285.02,1433.78 2285.32,1433.78 2285.63,1433.78 2285.93,1433.78 2286.23,1433.78 2286.53,1433.78 2286.83,1433.78 2287.13,1433.78 2287.43,1433.78 2287.73,1433.78 2288.03,1433.78 2288.33,1433.78 2288.63,1433.78 2288.93,1433.78 2289.23,1433.78 2289.53,1433.78 2289.83,1433.78 2290.12,1433.78 2290.42,1433.78 2290.72,1433.78 2291.02,1433.78 2291.31,1433.78 \"/>\n",
       "<polyline clip-path=\"url(#clip772)\" style=\"stroke:#3da44d; stroke-linecap:round; stroke-linejoin:round; stroke-width:4; stroke-opacity:1; fill:none\" points=\"243.227,1047.39 448.739,1039.78 568.956,1035.99 654.251,1034.93 720.411,1035.99 774.468,1038.79 820.172,1043.07 859.763,1048.62 894.684,1055.31 925.923,1063.02 954.181,1071.65 979.979,1081.12 1003.71,1091.36 1025.68,1102.33 1046.14,1113.97 1065.27,1126.24 1083.25,1139.11 1100.2,1152.53 1116.23,1166.48 1131.43,1180.93 1145.9,1195.86 1159.69,1211.25 1172.87,1227.08 1185.49,1243.32 1197.59,1259.97 1209.22,1277 1220.41,1294.41 1231.2,1312.18 1241.6,1330.28 1251.65,1348.75 1261.37,1367.4 1270.79,1387.34 1279.91,1402 1288.76,1416.99 1297.36,1412.99 1305.71,1413.45 1313.83,1413.39 1321.74,1413.4 1329.44,1413.4 1336.95,1413.4 1344.27,1413.4 1351.41,1413.4 1358.39,1413.4 1365.2,1413.4 1371.87,1413.4 1378.38,1413.4 1384.76,1413.4 1391,1413.4 1397.12,1413.4 1403.11,1413.4 1408.98,1413.4 1414.73,1413.4 1420.38,1413.4 1425.92,1413.4 1431.36,1413.4 1436.71,1413.4 1441.95,1413.4 1447.11,1413.4 1452.18,1413.4 1457.16,1413.4 1462.06,1413.4 1466.88,1413.4 1471.63,1413.4 1476.3,1413.4 1480.89,1413.4 1485.42,1413.4 1489.88,1413.4 1494.27,1413.4 1498.6,1413.4 1502.87,1413.4 1507.07,1413.4 1511.22,1413.4 1515.31,1413.4 1519.34,1413.4 1523.32,1413.4 1527.25,1413.4 1531.13,1413.4 1534.95,1413.4 1538.73,1413.4 1542.46,1413.4 1546.14,1413.4 1549.78,1413.4 1553.37,1413.4 1556.92,1413.4 1560.43,1413.4 1563.9,1413.4 1567.33,1413.4 1570.72,1413.4 1574.07,1413.4 1577.38,1413.4 1580.66,1413.4 1583.9,1413.4 1587.1,1413.4 1590.27,1413.4 1593.41,1413.4 1596.51,1413.4 1599.59,1413.4 1602.63,1413.4 1605.64,1413.4 1608.62,1413.4 1611.57,1413.4 1614.49,1413.4 1617.38,1413.4 1620.25,1413.4 1623.08,1413.4 1625.89,1413.4 1628.68,1413.4 1631.44,1413.4 1634.17,1413.4 1636.88,1413.4 1639.56,1413.4 1642.22,1413.4 1644.85,1413.4 1647.47,1413.4 1650.06,1413.4 1652.62,1413.4 1655.17,1413.4 1657.69,1413.4 1660.19,1413.4 1662.67,1413.4 1665.14,1413.4 1667.58,1413.4 1670,1413.4 1672.4,1413.4 1674.78,1413.4 1677.14,1413.4 1679.48,1413.4 1681.81,1413.4 1684.12,1413.4 1686.41,1413.4 1688.68,1413.4 1690.93,1413.4 1693.17,1413.4 1695.39,1413.4 1697.6,1413.4 1699.78,1413.4 1701.96,1413.4 1704.11,1413.4 1706.25,1413.4 1708.38,1413.4 1710.49,1413.4 1712.58,1413.4 1714.67,1413.4 1716.73,1413.4 1718.78,1413.4 1720.82,1413.4 1722.84,1413.4 1724.85,1413.4 1726.85,1413.4 1728.83,1413.4 1730.8,1413.4 1732.76,1413.4 1734.71,1413.4 1736.64,1413.4 1738.56,1413.4 1740.46,1413.4 1742.36,1413.4 1744.24,1413.4 1746.11,1413.4 1747.97,1413.4 1749.82,1413.4 1751.65,1413.4 1753.48,1413.4 1755.29,1413.4 1757.09,1413.4 1758.88,1413.4 1760.67,1413.4 1762.44,1413.4 1764.2,1413.4 1765.94,1413.4 1767.68,1413.4 1769.41,1413.4 1771.13,1413.4 1772.84,1413.4 1774.54,1413.4 1776.23,1413.4 1777.91,1413.4 1779.58,1413.4 1781.24,1413.4 1782.89,1413.4 1784.53,1413.4 1786.17,1413.4 1787.79,1413.4 1789.41,1413.4 1791.01,1413.4 1792.61,1413.4 1794.2,1413.4 1795.78,1413.4 1797.36,1413.4 1798.92,1413.4 1800.48,1413.4 1802.03,1413.4 1803.57,1413.4 1805.1,1413.4 1806.62,1413.4 1808.14,1413.4 1809.65,1413.4 1811.15,1413.4 1812.64,1413.4 1814.13,1413.4 1815.61,1413.4 1817.08,1413.4 1818.54,1413.4 1820,1413.4 1821.45,1413.4 1822.89,1413.4 1824.33,1413.4 1825.76,1413.4 1827.18,1413.4 1828.6,1413.4 1830,1413.4 1831.41,1413.4 1832.8,1413.4 1834.19,1413.4 1835.57,1413.4 1836.95,1413.4 1838.32,1413.4 1839.68,1413.4 1841.04,1413.4 1842.39,1413.4 1843.73,1413.4 1845.07,1413.4 1846.4,1413.4 1847.73,1413.4 1849.05,1413.4 1850.37,1413.4 1851.68,1413.4 1852.98,1413.4 1854.28,1413.4 1855.57,1413.4 1856.85,1413.4 1858.13,1413.4 1859.41,1413.4 1860.68,1413.4 1861.94,1413.4 1863.2,1413.4 1864.46,1413.4 1865.71,1413.4 1866.95,1413.4 1868.19,1413.4 1869.42,1413.4 1870.65,1413.4 1871.87,1413.4 1873.09,1413.4 1874.3,1413.4 1875.51,1413.4 1876.71,1413.4 1877.91,1413.4 1879.1,1413.4 1880.29,1413.4 1881.47,1413.4 1882.65,1413.4 1883.83,1413.4 1885,1413.4 1886.16,1413.4 1887.32,1413.4 1888.48,1413.4 1889.63,1413.4 1890.78,1413.4 1891.92,1413.4 1893.06,1413.4 1894.19,1413.4 1895.32,1413.4 1896.45,1413.4 1897.57,1413.4 1898.68,1413.4 1899.8,1413.4 1900.9,1413.4 1902.01,1413.4 1903.11,1413.4 1904.2,1413.4 1905.3,1413.4 1906.38,1413.4 1907.47,1413.4 1908.55,1413.4 1909.62,1413.4 1910.7,1413.4 1911.77,1413.4 1912.83,1413.4 1913.89,1413.4 1914.95,1413.4 1916,1413.4 1917.05,1413.4 1918.1,1413.4 1919.14,1413.4 1920.18,1413.4 1921.21,1413.4 1922.24,1413.4 1923.27,1413.4 1924.29,1413.4 1925.32,1413.4 1926.33,1413.4 1927.35,1413.4 1928.36,1413.4 1929.36,1413.4 1930.37,1413.4 1931.37,1413.4 1932.36,1413.4 1933.36,1413.4 1934.35,1413.4 1935.33,1413.4 1936.32,1413.4 1937.3,1413.4 1938.27,1413.4 1939.25,1413.4 1940.22,1413.4 1941.19,1413.4 1942.15,1413.4 1943.11,1413.4 1944.07,1413.4 1945.02,1413.4 1945.98,1413.4 1946.92,1413.4 1947.87,1413.4 1948.81,1413.4 1949.75,1413.4 1950.69,1413.4 1951.62,1413.4 1952.55,1413.4 1953.48,1413.4 1954.41,1413.4 1955.33,1413.4 1956.25,1413.4 1957.16,1413.4 1958.08,1413.4 1958.99,1413.4 1959.9,1413.4 1960.8,1413.4 1961.71,1413.4 1962.61,1413.4 1963.5,1413.4 1964.4,1413.4 1965.29,1413.4 1966.18,1413.4 1967.06,1413.4 1967.95,1413.4 1968.83,1413.4 1969.71,1413.4 1970.58,1413.4 1971.46,1413.4 1972.33,1413.4 1973.2,1413.4 1974.06,1413.4 1974.92,1413.4 1975.78,1413.4 1976.64,1413.4 1977.5,1413.4 1978.35,1413.4 1979.2,1413.4 1980.05,1413.4 1980.9,1413.4 1981.74,1413.4 1982.58,1413.4 1983.42,1413.4 1984.26,1413.4 1985.09,1413.4 1985.92,1413.4 1986.75,1413.4 1987.58,1413.4 1988.4,1413.4 1989.23,1413.4 1990.05,1413.4 1990.86,1413.4 1991.68,1413.4 1992.49,1413.4 1993.3,1413.4 1994.11,1413.4 1994.92,1413.4 1995.72,1413.4 1996.53,1413.4 1997.33,1413.4 1998.12,1413.4 1998.92,1413.4 1999.71,1413.4 2000.51,1413.4 2001.3,1413.4 2002.08,1413.4 2002.87,1413.4 2003.65,1413.4 2004.43,1413.4 2005.21,1413.4 2005.99,1413.4 2006.77,1413.4 2007.54,1413.4 2008.31,1413.4 2009.08,1413.4 2009.85,1413.4 2010.61,1413.4 2011.37,1413.4 2012.14,1413.4 2012.89,1413.4 2013.65,1413.4 2014.41,1413.4 2015.16,1413.4 2015.91,1413.4 2016.66,1413.4 2017.41,1413.4 2018.16,1413.4 2018.9,1413.4 2019.64,1413.4 2020.38,1413.4 2021.12,1413.4 2021.86,1413.4 2022.59,1413.4 2023.32,1413.4 2024.06,1413.4 2024.79,1413.4 2025.51,1413.4 2026.24,1413.4 2026.96,1413.4 2027.68,1413.4 2028.41,1413.4 2029.12,1413.4 2029.84,1413.4 2030.56,1413.4 2031.27,1413.4 2031.98,1413.4 2032.69,1413.4 2033.4,1413.4 2034.11,1413.4 2034.81,1413.4 2035.52,1413.4 2036.22,1413.4 2036.92,1413.4 2037.62,1413.4 2038.31,1413.4 2039.01,1413.4 2039.7,1413.4 2040.39,1413.4 2041.08,1413.4 2041.77,1413.4 2042.46,1413.4 2043.15,1413.4 2043.83,1413.4 2044.51,1413.4 2045.19,1413.4 2045.87,1413.4 2046.55,1413.4 2047.23,1413.4 2047.9,1413.4 2048.57,1413.4 2049.24,1413.4 2049.91,1413.4 2050.58,1413.4 2051.25,1413.4 2051.92,1413.4 2052.58,1413.4 2053.24,1413.4 2053.9,1413.4 2054.56,1413.4 2055.22,1413.4 2055.88,1413.4 2056.53,1413.4 2057.19,1413.4 2057.84,1413.4 2058.49,1413.4 2059.14,1413.4 2059.79,1413.4 2060.43,1413.4 2061.08,1413.4 2061.72,1413.4 2062.37,1413.4 2063.01,1413.4 2063.65,1413.4 2064.29,1413.4 2064.92,1413.4 2065.56,1413.4 2066.19,1413.4 2066.82,1413.4 2067.46,1413.4 2068.09,1413.4 2068.72,1413.4 2069.34,1413.4 2069.97,1413.4 2070.59,1413.4 2071.22,1413.4 2071.84,1413.4 2072.46,1413.4 2073.08,1413.4 2073.7,1413.4 2074.32,1413.4 2074.93,1413.4 2075.55,1413.4 2076.16,1413.4 2076.77,1413.4 2077.38,1413.4 2077.99,1413.4 2078.6,1413.4 2079.21,1413.4 2079.81,1413.4 2080.42,1413.4 2081.02,1413.4 2081.62,1413.4 2082.22,1413.4 2082.82,1413.4 2083.42,1413.4 2084.02,1413.4 2084.61,1413.4 2085.21,1413.4 2085.8,1413.4 2086.39,1413.4 2086.99,1413.4 2087.58,1413.4 2088.16,1413.4 2088.75,1413.4 2089.34,1413.4 2089.92,1413.4 2090.51,1413.4 2091.09,1413.4 2091.67,1413.4 2092.25,1413.4 2092.83,1413.4 2093.41,1413.4 2093.99,1413.4 2094.57,1413.4 2095.14,1413.4 2095.71,1413.4 2096.29,1413.4 2096.86,1413.4 2097.43,1413.4 2098,1413.4 2098.57,1413.4 2099.14,1413.4 2099.7,1413.4 2100.27,1413.4 2100.83,1413.4 2101.39,1413.4 2101.96,1413.4 2102.52,1413.4 2103.08,1413.4 2103.64,1413.4 2104.19,1413.4 2104.75,1413.4 2105.31,1413.4 2105.86,1413.4 2106.42,1413.4 2106.97,1413.4 2107.52,1413.4 2108.07,1413.4 2108.62,1413.4 2109.17,1413.4 2109.72,1413.4 2110.26,1413.4 2110.81,1413.4 2111.35,1413.4 2111.9,1413.4 2112.44,1413.4 2112.98,1413.4 2113.52,1413.4 2114.06,1413.4 2114.6,1413.4 2115.14,1413.4 2115.67,1413.4 2116.21,1413.4 2116.74,1413.4 2117.28,1413.4 2117.81,1413.4 2118.34,1413.4 2118.87,1413.4 2119.4,1413.4 2119.93,1413.4 2120.46,1413.4 2120.99,1413.4 2121.51,1413.4 2122.04,1413.4 2122.56,1413.4 2123.09,1413.4 2123.61,1413.4 2124.13,1413.4 2124.65,1413.4 2125.17,1413.4 2125.69,1413.4 2126.21,1413.4 2126.72,1413.4 2127.24,1413.4 2127.75,1413.4 2128.27,1413.4 2128.78,1413.4 2129.3,1413.4 2129.81,1413.4 2130.32,1413.4 2130.83,1413.4 2131.34,1413.4 2131.84,1413.4 2132.35,1413.4 2132.86,1413.4 2133.36,1413.4 2133.87,1413.4 2134.37,1413.4 2134.88,1413.4 2135.38,1413.4 2135.88,1413.4 2136.38,1413.4 2136.88,1413.4 2137.38,1413.4 2137.87,1413.4 2138.37,1413.4 2138.87,1413.4 2139.36,1413.4 2139.86,1413.4 2140.35,1413.4 2140.84,1413.4 2141.34,1413.4 2141.83,1413.4 2142.32,1413.4 2142.81,1413.4 2143.3,1413.4 2143.79,1413.4 2144.27,1413.4 2144.76,1413.4 2145.24,1413.4 2145.73,1413.4 2146.21,1413.4 2146.7,1413.4 2147.18,1413.4 2147.66,1413.4 2148.14,1413.4 2148.62,1413.4 2149.1,1413.4 2149.58,1413.4 2150.06,1413.4 2150.53,1413.4 2151.01,1413.4 2151.49,1413.4 2151.96,1413.4 2152.44,1413.4 2152.91,1413.4 2153.38,1413.4 2153.85,1413.4 2154.32,1413.4 2154.79,1413.4 2155.26,1413.4 2155.73,1413.4 2156.2,1413.4 2156.67,1413.4 2157.13,1413.4 2157.6,1413.4 2158.07,1413.4 2158.53,1413.4 2158.99,1413.4 2159.46,1413.4 2159.92,1413.4 2160.38,1413.4 2160.84,1413.4 2161.3,1413.4 2161.76,1413.4 2162.22,1413.4 2162.68,1413.4 2163.13,1413.4 2163.59,1413.4 2164.05,1413.4 2164.5,1413.4 2164.96,1413.4 2165.41,1413.4 2165.86,1413.4 2166.31,1413.4 2166.77,1413.4 2167.22,1413.4 2167.67,1413.4 2168.12,1413.4 2168.57,1413.4 2169.01,1413.4 2169.46,1413.4 2169.91,1413.4 2170.35,1413.4 2170.8,1413.4 2171.24,1413.4 2171.69,1413.4 2172.13,1413.4 2172.58,1413.4 2173.02,1413.4 2173.46,1413.4 2173.9,1413.4 2174.34,1413.4 2174.78,1413.4 2175.22,1413.4 2175.66,1413.4 2176.09,1413.4 2176.53,1413.4 2176.97,1413.4 2177.4,1413.4 2177.84,1413.4 2178.27,1413.4 2178.71,1413.4 2179.14,1413.4 2179.57,1413.4 2180,1413.4 2180.44,1413.4 2180.87,1413.4 2181.3,1413.4 2181.73,1413.4 2182.15,1413.4 2182.58,1413.4 2183.01,1413.4 2183.44,1413.4 2183.86,1413.4 2184.29,1413.4 2184.71,1413.4 2185.14,1413.4 2185.56,1413.4 2185.99,1413.4 2186.41,1413.4 2186.83,1413.4 2187.25,1413.4 2187.67,1413.4 2188.09,1413.4 2188.51,1413.4 2188.93,1413.4 2189.35,1413.4 2189.77,1413.4 2190.19,1413.4 2190.6,1413.4 2191.02,1413.4 2191.43,1413.4 2191.85,1413.4 2192.26,1413.4 2192.68,1413.4 2193.09,1413.4 2193.5,1413.4 2193.91,1413.4 2194.33,1413.4 2194.74,1413.4 2195.15,1413.4 2195.56,1413.4 2195.97,1413.4 2196.38,1413.4 2196.78,1413.4 2197.19,1413.4 2197.6,1413.4 2198,1413.4 2198.41,1413.4 2198.82,1413.4 2199.22,1413.4 2199.62,1413.4 2200.03,1413.4 2200.43,1413.4 2200.83,1413.4 2201.24,1413.4 2201.64,1413.4 2202.04,1413.4 2202.44,1413.4 2202.84,1413.4 2203.24,1413.4 2203.64,1413.4 2204.04,1413.4 2204.43,1413.4 2204.83,1413.4 2205.23,1413.4 2205.62,1413.4 2206.02,1413.4 2206.41,1413.4 2206.81,1413.4 2207.2,1413.4 2207.6,1413.4 2207.99,1413.4 2208.38,1413.4 2208.77,1413.4 2209.16,1413.4 2209.55,1413.4 2209.95,1413.4 2210.34,1413.4 2210.72,1413.4 2211.11,1413.4 2211.5,1413.4 2211.89,1413.4 2212.28,1413.4 2212.66,1413.4 2213.05,1413.4 2213.44,1413.4 2213.82,1413.4 2214.21,1413.4 2214.59,1413.4 2214.97,1413.4 2215.36,1413.4 2215.74,1413.4 2216.12,1413.4 2216.5,1413.4 2216.89,1413.4 2217.27,1413.4 2217.65,1413.4 2218.03,1413.4 2218.41,1413.4 2218.78,1413.4 2219.16,1413.4 2219.54,1413.4 2219.92,1413.4 2220.3,1413.4 2220.67,1413.4 2221.05,1413.4 2221.42,1413.4 2221.8,1413.4 2222.17,1413.4 2222.55,1413.4 2222.92,1413.4 2223.29,1413.4 2223.67,1413.4 2224.04,1413.4 2224.41,1413.4 2224.78,1413.4 2225.15,1413.4 2225.52,1413.4 2225.89,1413.4 2226.26,1413.4 2226.63,1413.4 2227,1413.4 2227.37,1413.4 2227.74,1413.4 2228.1,1413.4 2228.47,1413.4 2228.84,1413.4 2229.2,1413.4 2229.57,1413.4 2229.93,1413.4 2230.3,1413.4 2230.66,1413.4 2231.02,1413.4 2231.39,1413.4 2231.75,1413.4 2232.11,1413.4 2232.47,1413.4 2232.84,1413.4 2233.2,1413.4 2233.56,1413.4 2233.92,1413.4 2234.28,1413.4 2234.64,1413.4 2234.99,1413.4 2235.35,1413.4 2235.71,1413.4 2236.07,1413.4 2236.43,1413.4 2236.78,1413.4 2237.14,1413.4 2237.49,1413.4 2237.85,1413.4 2238.2,1413.4 2238.56,1413.4 2238.91,1413.4 2239.27,1413.4 2239.62,1413.4 2239.97,1413.4 2240.32,1413.4 2240.68,1413.4 2241.03,1413.4 2241.38,1413.4 2241.73,1413.4 2242.08,1413.4 2242.43,1413.4 2242.78,1413.4 2243.13,1413.4 2243.48,1413.4 2243.82,1413.4 2244.17,1413.4 2244.52,1413.4 2244.87,1413.4 2245.21,1413.4 2245.56,1413.4 2245.91,1413.4 2246.25,1413.4 2246.6,1413.4 2246.94,1413.4 2247.28,1413.4 2247.63,1413.4 2247.97,1413.4 2248.31,1413.4 2248.66,1413.4 2249,1413.4 2249.34,1413.4 2249.68,1413.4 2250.02,1413.4 2250.36,1413.4 2250.7,1413.4 2251.04,1413.4 2251.38,1413.4 2251.72,1413.4 2252.06,1413.4 2252.4,1413.4 2252.74,1413.4 2253.07,1413.4 2253.41,1413.4 2253.75,1413.4 2254.08,1413.4 2254.42,1413.4 2254.76,1413.4 2255.09,1413.4 2255.43,1413.4 2255.76,1413.4 2256.1,1413.4 2256.43,1413.4 2256.76,1413.4 2257.1,1413.4 2257.43,1413.4 2257.76,1413.4 2258.09,1413.4 2258.42,1413.4 2258.75,1413.4 2259.08,1413.4 2259.42,1413.4 2259.75,1413.4 2260.07,1413.4 2260.4,1413.4 2260.73,1413.4 2261.06,1413.4 2261.39,1413.4 2261.72,1413.4 2262.04,1413.4 2262.37,1413.4 2262.7,1413.4 2263.03,1413.4 2263.35,1413.4 2263.68,1413.4 2264,1413.4 2264.33,1413.4 2264.65,1413.4 2264.98,1413.4 2265.3,1413.4 2265.62,1413.4 2265.95,1413.4 2266.27,1413.4 2266.59,1413.4 2266.91,1413.4 2267.24,1413.4 2267.56,1413.4 2267.88,1413.4 2268.2,1413.4 2268.52,1413.4 2268.84,1413.4 2269.16,1413.4 2269.48,1413.4 2269.8,1413.4 2270.12,1413.4 2270.43,1413.4 2270.75,1413.4 2271.07,1413.4 2271.39,1413.4 2271.7,1413.4 2272.02,1413.4 2272.34,1413.4 2272.65,1413.4 2272.97,1413.4 2273.28,1413.4 2273.6,1413.4 2273.91,1413.4 2274.23,1413.4 2274.54,1413.4 2274.85,1413.4 2275.17,1413.4 2275.48,1413.4 2275.79,1413.4 2276.11,1413.4 2276.42,1413.4 2276.73,1413.4 2277.04,1413.4 2277.35,1413.4 2277.66,1413.4 2277.97,1413.4 2278.28,1413.4 2278.59,1413.4 2278.9,1413.4 2279.21,1413.4 2279.52,1413.4 2279.83,1413.4 2280.14,1413.4 2280.44,1413.4 2280.75,1413.4 2281.06,1413.4 2281.36,1413.4 2281.67,1413.4 2281.98,1413.4 2282.28,1413.4 2282.59,1413.4 2282.89,1413.4 2283.2,1413.4 2283.5,1413.4 2283.81,1413.4 2284.11,1413.4 2284.41,1413.4 2284.72,1413.4 2285.02,1413.4 2285.32,1413.4 2285.63,1413.4 2285.93,1413.4 2286.23,1413.4 2286.53,1413.4 2286.83,1413.4 2287.13,1413.4 2287.43,1413.4 2287.73,1413.4 2288.03,1413.4 2288.33,1413.4 2288.63,1413.4 2288.93,1413.4 2289.23,1413.4 2289.53,1413.4 2289.83,1413.4 2290.12,1413.4 2290.42,1413.4 2290.72,1413.4 2291.02,1413.4 2291.31,1413.4 \"/>\n",
       "<polyline clip-path=\"url(#clip772)\" style=\"stroke:#c271d2; stroke-linecap:round; stroke-linejoin:round; stroke-width:4; stroke-opacity:1; fill:none\" points=\"243.227,1014.89 448.739,975.34 568.956,939.901 654.251,907.377 720.411,877.113 774.468,848.697 820.172,821.841 859.763,796.339 894.684,772.029 925.923,748.785 954.181,726.507 979.979,705.11 1003.71,684.524 1025.68,664.687 1046.14,645.549 1065.27,627.065 1083.25,609.194 1100.2,591.901 1116.23,575.156 1131.43,558.93 1145.9,543.197 1159.69,527.936 1172.87,513.124 1185.49,498.743 1197.59,484.775 1209.22,471.203 1220.41,458.014 1231.2,445.192 1241.6,432.726 1251.65,420.602 1261.37,408.811 1270.79,397.34 1279.91,386.181 1288.76,375.323 1297.36,364.759 1305.71,354.48 1313.83,344.478 1321.74,334.745 1329.44,325.276 1336.95,316.062 1344.27,307.098 1351.41,298.378 1358.39,289.896 1365.2,281.646 1371.87,273.624 1378.38,265.823 1384.76,258.241 1391,250.871 1397.12,243.71 1403.11,236.753 1408.98,229.996 1414.73,223.435 1420.38,217.068 1425.92,210.889 1431.36,204.896 1436.71,199.084 1441.95,193.452 1447.11,187.996 1452.18,182.713 1457.16,177.599 1462.06,172.653 1466.88,167.871 1471.63,163.251 1476.3,158.79 1480.89,154.485 1485.42,150.335 1489.88,146.338 1494.27,142.49 1498.6,138.789 1502.87,135.234 1507.07,131.822 1511.22,128.552 1515.31,125.422 1519.34,122.428 1523.32,119.571 1527.25,116.847 1531.13,114.256 1534.95,111.795 1538.73,109.463 1542.46,107.258 1546.14,105.178 1549.78,103.223 1553.37,101.39 1556.92,99.6781 1560.43,98.0859 1563.9,96.612 1567.33,95.255 1570.72,94.0135 1574.07,92.8862 1577.38,91.8719 1580.66,90.9693 1583.9,90.1772 1587.1,89.4943 1590.27,88.9196 1593.41,88.4519 1596.51,88.09 1599.59,87.8329 1602.63,87.6794 1605.64,87.6286 1608.62,87.6794 1611.57,87.8308 1614.49,88.0818 1617.38,88.4314 1620.25,88.8787 1623.08,89.4228 1625.89,90.0626 1628.68,90.7974 1631.44,91.6262 1634.17,92.5482 1636.88,93.5626 1639.56,94.6684 1642.22,95.8648 1644.85,97.1512 1647.47,98.5266 1650.06,99.9903 1652.62,101.542 1655.17,103.18 1657.69,104.904 1660.19,106.713 1662.67,108.607 1665.14,110.585 1667.58,112.646 1670,114.789 1672.4,117.015 1674.78,119.321 1677.14,121.709 1679.48,124.176 1681.81,126.722 1684.12,129.347 1686.41,132.05 1688.68,134.831 1690.93,137.689 1693.17,140.622 1695.39,143.632 1697.6,146.717 1699.78,149.876 1701.96,153.109 1704.11,156.416 1706.25,159.796 1708.38,163.249 1710.49,166.773 1712.58,170.369 1714.67,174.036 1716.73,177.773 1718.78,181.58 1720.82,185.457 1722.84,189.402 1724.85,193.416 1726.85,197.499 1728.83,201.649 1730.8,205.866 1732.76,210.15 1734.71,214.5 1736.64,218.916 1738.56,223.397 1740.46,227.944 1742.36,232.555 1744.24,237.23 1746.11,241.969 1747.97,246.771 1749.82,251.637 1751.65,256.565 1753.48,261.555 1755.29,266.607 1757.09,271.721 1758.88,276.896 1760.67,282.131 1762.44,287.427 1764.2,292.782 1765.94,298.198 1767.68,303.673 1769.41,309.206 1771.13,314.799 1772.84,320.449 1774.54,326.158 1776.23,331.924 1777.91,337.747 1779.58,343.627 1781.24,349.565 1782.89,355.558 1784.53,361.608 1786.17,367.711 1787.79,373.876 1789.41,380.083 1791.01,386.369 1792.61,392.666 1794.2,399.097 1795.78,405.432 1797.36,412.105 1798.92,418.293 1800.48,425.571 1802.03,430.939 1803.57,440.274 1805.1,442.405 1806.62,461.932 1808.14,450.752 1809.65,462.176 1811.15,454.881 1812.64,457.903 1814.13,456.28 1815.61,457.055 1817.08,456.664 1818.54,456.854 1820,456.761 1821.45,456.806 1822.89,456.784 1824.33,456.795 1825.76,456.79 1827.18,456.792 1828.6,456.791 1830,456.791 1831.41,456.791 1832.8,456.791 1834.19,456.791 1835.57,456.791 1836.95,456.791 1838.32,456.791 1839.68,456.791 1841.04,456.791 1842.39,456.791 1843.73,456.791 1845.07,456.791 1846.4,456.791 1847.73,456.791 1849.05,456.791 1850.37,456.791 1851.68,456.791 1852.98,456.791 1854.28,456.791 1855.57,456.791 1856.85,456.791 1858.13,456.791 1859.41,456.791 1860.68,456.791 1861.94,456.791 1863.2,456.791 1864.46,456.791 1865.71,456.791 1866.95,456.791 1868.19,456.791 1869.42,456.791 1870.65,456.791 1871.87,456.791 1873.09,456.791 1874.3,456.791 1875.51,456.791 1876.71,456.791 1877.91,456.791 1879.1,456.791 1880.29,456.791 1881.47,456.791 1882.65,456.791 1883.83,456.791 1885,456.791 1886.16,456.791 1887.32,456.791 1888.48,456.791 1889.63,456.791 1890.78,456.791 1891.92,456.791 1893.06,456.791 1894.19,456.791 1895.32,456.791 1896.45,456.791 1897.57,456.791 1898.68,456.791 1899.8,456.791 1900.9,456.791 1902.01,456.791 1903.11,456.791 1904.2,456.791 1905.3,456.791 1906.38,456.791 1907.47,456.791 1908.55,456.791 1909.62,456.791 1910.7,456.791 1911.77,456.791 1912.83,456.791 1913.89,456.791 1914.95,456.791 1916,456.791 1917.05,456.791 1918.1,456.791 1919.14,456.791 1920.18,456.791 1921.21,456.791 1922.24,456.791 1923.27,456.791 1924.29,456.791 1925.32,456.791 1926.33,456.791 1927.35,456.791 1928.36,456.791 1929.36,456.791 1930.37,456.791 1931.37,456.791 1932.36,456.791 1933.36,456.791 1934.35,456.791 1935.33,456.791 1936.32,456.791 1937.3,456.791 1938.27,456.791 1939.25,456.791 1940.22,456.791 1941.19,456.791 1942.15,456.791 1943.11,456.791 1944.07,456.791 1945.02,456.791 1945.98,456.791 1946.92,456.791 1947.87,456.791 1948.81,456.791 1949.75,456.791 1950.69,456.791 1951.62,456.791 1952.55,456.791 1953.48,456.791 1954.41,456.791 1955.33,456.791 1956.25,456.791 1957.16,456.791 1958.08,456.791 1958.99,456.791 1959.9,456.791 1960.8,456.791 1961.71,456.791 1962.61,456.791 1963.5,456.791 1964.4,456.791 1965.29,456.791 1966.18,456.791 1967.06,456.791 1967.95,456.791 1968.83,456.791 1969.71,456.791 1970.58,456.791 1971.46,456.791 1972.33,456.791 1973.2,456.791 1974.06,456.791 1974.92,456.791 1975.78,456.791 1976.64,456.791 1977.5,456.791 1978.35,456.791 1979.2,456.791 1980.05,456.791 1980.9,456.791 1981.74,456.791 1982.58,456.791 1983.42,456.791 1984.26,456.791 1985.09,456.791 1985.92,456.791 1986.75,456.791 1987.58,456.791 1988.4,456.791 1989.23,456.791 1990.05,456.791 1990.86,456.791 1991.68,456.791 1992.49,456.791 1993.3,456.791 1994.11,456.791 1994.92,456.791 1995.72,456.791 1996.53,456.791 1997.33,456.791 1998.12,456.791 1998.92,456.791 1999.71,456.791 2000.51,456.791 2001.3,456.791 2002.08,456.791 2002.87,456.791 2003.65,456.791 2004.43,456.791 2005.21,456.791 2005.99,456.791 2006.77,456.791 2007.54,456.791 2008.31,456.791 2009.08,456.791 2009.85,456.791 2010.61,456.791 2011.37,456.791 2012.14,456.791 2012.89,456.791 2013.65,456.791 2014.41,456.791 2015.16,456.791 2015.91,456.791 2016.66,456.791 2017.41,456.791 2018.16,456.791 2018.9,456.791 2019.64,456.791 2020.38,456.791 2021.12,456.791 2021.86,456.791 2022.59,456.791 2023.32,456.791 2024.06,456.791 2024.79,456.791 2025.51,456.791 2026.24,456.791 2026.96,456.791 2027.68,456.791 2028.41,456.791 2029.12,456.791 2029.84,456.791 2030.56,456.791 2031.27,456.791 2031.98,456.791 2032.69,456.791 2033.4,456.791 2034.11,456.791 2034.81,456.791 2035.52,456.791 2036.22,456.791 2036.92,456.791 2037.62,456.791 2038.31,456.791 2039.01,456.791 2039.7,456.791 2040.39,456.791 2041.08,456.791 2041.77,456.791 2042.46,456.791 2043.15,456.791 2043.83,456.791 2044.51,456.791 2045.19,456.791 2045.87,456.791 2046.55,456.791 2047.23,456.791 2047.9,456.791 2048.57,456.791 2049.24,456.791 2049.91,456.791 2050.58,456.791 2051.25,456.791 2051.92,456.791 2052.58,456.791 2053.24,456.791 2053.9,456.791 2054.56,456.791 2055.22,456.791 2055.88,456.791 2056.53,456.791 2057.19,456.791 2057.84,456.791 2058.49,456.791 2059.14,456.791 2059.79,456.791 2060.43,456.791 2061.08,456.791 2061.72,456.791 2062.37,456.791 2063.01,456.791 2063.65,456.791 2064.29,456.791 2064.92,456.791 2065.56,456.791 2066.19,456.791 2066.82,456.791 2067.46,456.791 2068.09,456.791 2068.72,456.791 2069.34,456.791 2069.97,456.791 2070.59,456.791 2071.22,456.791 2071.84,456.791 2072.46,456.791 2073.08,456.791 2073.7,456.791 2074.32,456.791 2074.93,456.791 2075.55,456.791 2076.16,456.791 2076.77,456.791 2077.38,456.791 2077.99,456.791 2078.6,456.791 2079.21,456.791 2079.81,456.791 2080.42,456.791 2081.02,456.791 2081.62,456.791 2082.22,456.791 2082.82,456.791 2083.42,456.791 2084.02,456.791 2084.61,456.791 2085.21,456.791 2085.8,456.791 2086.39,456.791 2086.99,456.791 2087.58,456.791 2088.16,456.791 2088.75,456.791 2089.34,456.791 2089.92,456.791 2090.51,456.791 2091.09,456.791 2091.67,456.791 2092.25,456.791 2092.83,456.791 2093.41,456.791 2093.99,456.791 2094.57,456.791 2095.14,456.791 2095.71,456.791 2096.29,456.791 2096.86,456.791 2097.43,456.791 2098,456.791 2098.57,456.791 2099.14,456.791 2099.7,456.791 2100.27,456.791 2100.83,456.791 2101.39,456.791 2101.96,456.791 2102.52,456.791 2103.08,456.791 2103.64,456.791 2104.19,456.791 2104.75,456.791 2105.31,456.791 2105.86,456.791 2106.42,456.791 2106.97,456.791 2107.52,456.791 2108.07,456.791 2108.62,456.791 2109.17,456.791 2109.72,456.791 2110.26,456.791 2110.81,456.791 2111.35,456.791 2111.9,456.791 2112.44,456.791 2112.98,456.791 2113.52,456.791 2114.06,456.791 2114.6,456.791 2115.14,456.791 2115.67,456.791 2116.21,456.791 2116.74,456.791 2117.28,456.791 2117.81,456.791 2118.34,456.791 2118.87,456.791 2119.4,456.791 2119.93,456.791 2120.46,456.791 2120.99,456.791 2121.51,456.791 2122.04,456.791 2122.56,456.791 2123.09,456.791 2123.61,456.791 2124.13,456.791 2124.65,456.791 2125.17,456.791 2125.69,456.791 2126.21,456.791 2126.72,456.791 2127.24,456.791 2127.75,456.791 2128.27,456.791 2128.78,456.791 2129.3,456.791 2129.81,456.791 2130.32,456.791 2130.83,456.791 2131.34,456.791 2131.84,456.791 2132.35,456.791 2132.86,456.791 2133.36,456.791 2133.87,456.791 2134.37,456.791 2134.88,456.791 2135.38,456.791 2135.88,456.791 2136.38,456.791 2136.88,456.791 2137.38,456.791 2137.87,456.791 2138.37,456.791 2138.87,456.791 2139.36,456.791 2139.86,456.791 2140.35,456.791 2140.84,456.791 2141.34,456.791 2141.83,456.791 2142.32,456.791 2142.81,456.791 2143.3,456.791 2143.79,456.791 2144.27,456.791 2144.76,456.791 2145.24,456.791 2145.73,456.791 2146.21,456.791 2146.7,456.791 2147.18,456.791 2147.66,456.791 2148.14,456.791 2148.62,456.791 2149.1,456.791 2149.58,456.791 2150.06,456.791 2150.53,456.791 2151.01,456.791 2151.49,456.791 2151.96,456.791 2152.44,456.791 2152.91,456.791 2153.38,456.791 2153.85,456.791 2154.32,456.791 2154.79,456.791 2155.26,456.791 2155.73,456.791 2156.2,456.791 2156.67,456.791 2157.13,456.791 2157.6,456.791 2158.07,456.791 2158.53,456.791 2158.99,456.791 2159.46,456.791 2159.92,456.791 2160.38,456.791 2160.84,456.791 2161.3,456.791 2161.76,456.791 2162.22,456.791 2162.68,456.791 2163.13,456.791 2163.59,456.791 2164.05,456.791 2164.5,456.791 2164.96,456.791 2165.41,456.791 2165.86,456.791 2166.31,456.791 2166.77,456.791 2167.22,456.791 2167.67,456.791 2168.12,456.791 2168.57,456.791 2169.01,456.791 2169.46,456.791 2169.91,456.791 2170.35,456.791 2170.8,456.791 2171.24,456.791 2171.69,456.791 2172.13,456.791 2172.58,456.791 2173.02,456.791 2173.46,456.791 2173.9,456.791 2174.34,456.791 2174.78,456.791 2175.22,456.791 2175.66,456.791 2176.09,456.791 2176.53,456.791 2176.97,456.791 2177.4,456.791 2177.84,456.791 2178.27,456.791 2178.71,456.791 2179.14,456.791 2179.57,456.791 2180,456.791 2180.44,456.791 2180.87,456.791 2181.3,456.791 2181.73,456.791 2182.15,456.791 2182.58,456.791 2183.01,456.791 2183.44,456.791 2183.86,456.791 2184.29,456.791 2184.71,456.791 2185.14,456.791 2185.56,456.791 2185.99,456.791 2186.41,456.791 2186.83,456.791 2187.25,456.791 2187.67,456.791 2188.09,456.791 2188.51,456.791 2188.93,456.791 2189.35,456.791 2189.77,456.791 2190.19,456.791 2190.6,456.791 2191.02,456.791 2191.43,456.791 2191.85,456.791 2192.26,456.791 2192.68,456.791 2193.09,456.791 2193.5,456.791 2193.91,456.791 2194.33,456.791 2194.74,456.791 2195.15,456.791 2195.56,456.791 2195.97,456.791 2196.38,456.791 2196.78,456.791 2197.19,456.791 2197.6,456.791 2198,456.791 2198.41,456.791 2198.82,456.791 2199.22,456.791 2199.62,456.791 2200.03,456.791 2200.43,456.791 2200.83,456.791 2201.24,456.791 2201.64,456.791 2202.04,456.791 2202.44,456.791 2202.84,456.791 2203.24,456.791 2203.64,456.791 2204.04,456.791 2204.43,456.791 2204.83,456.791 2205.23,456.791 2205.62,456.791 2206.02,456.791 2206.41,456.791 2206.81,456.791 2207.2,456.791 2207.6,456.791 2207.99,456.791 2208.38,456.791 2208.77,456.791 2209.16,456.791 2209.55,456.791 2209.95,456.791 2210.34,456.791 2210.72,456.791 2211.11,456.791 2211.5,456.791 2211.89,456.791 2212.28,456.791 2212.66,456.791 2213.05,456.791 2213.44,456.791 2213.82,456.791 2214.21,456.791 2214.59,456.791 2214.97,456.791 2215.36,456.791 2215.74,456.791 2216.12,456.791 2216.5,456.791 2216.89,456.791 2217.27,456.791 2217.65,456.791 2218.03,456.791 2218.41,456.791 2218.78,456.791 2219.16,456.791 2219.54,456.791 2219.92,456.791 2220.3,456.791 2220.67,456.791 2221.05,456.791 2221.42,456.791 2221.8,456.791 2222.17,456.791 2222.55,456.791 2222.92,456.791 2223.29,456.791 2223.67,456.791 2224.04,456.791 2224.41,456.791 2224.78,456.791 2225.15,456.791 2225.52,456.791 2225.89,456.791 2226.26,456.791 2226.63,456.791 2227,456.791 2227.37,456.791 2227.74,456.791 2228.1,456.791 2228.47,456.791 2228.84,456.791 2229.2,456.791 2229.57,456.791 2229.93,456.791 2230.3,456.791 2230.66,456.791 2231.02,456.791 2231.39,456.791 2231.75,456.791 2232.11,456.791 2232.47,456.791 2232.84,456.791 2233.2,456.791 2233.56,456.791 2233.92,456.791 2234.28,456.791 2234.64,456.791 2234.99,456.791 2235.35,456.791 2235.71,456.791 2236.07,456.791 2236.43,456.791 2236.78,456.791 2237.14,456.791 2237.49,456.791 2237.85,456.791 2238.2,456.791 2238.56,456.791 2238.91,456.791 2239.27,456.791 2239.62,456.791 2239.97,456.791 2240.32,456.791 2240.68,456.791 2241.03,456.791 2241.38,456.791 2241.73,456.791 2242.08,456.791 2242.43,456.791 2242.78,456.791 2243.13,456.791 2243.48,456.791 2243.82,456.791 2244.17,456.791 2244.52,456.791 2244.87,456.791 2245.21,456.791 2245.56,456.791 2245.91,456.791 2246.25,456.791 2246.6,456.791 2246.94,456.791 2247.28,456.791 2247.63,456.791 2247.97,456.791 2248.31,456.791 2248.66,456.791 2249,456.791 2249.34,456.791 2249.68,456.791 2250.02,456.791 2250.36,456.791 2250.7,456.791 2251.04,456.791 2251.38,456.791 2251.72,456.791 2252.06,456.791 2252.4,456.791 2252.74,456.791 2253.07,456.791 2253.41,456.791 2253.75,456.791 2254.08,456.791 2254.42,456.791 2254.76,456.791 2255.09,456.791 2255.43,456.791 2255.76,456.791 2256.1,456.791 2256.43,456.791 2256.76,456.791 2257.1,456.791 2257.43,456.791 2257.76,456.791 2258.09,456.791 2258.42,456.791 2258.75,456.791 2259.08,456.791 2259.42,456.791 2259.75,456.791 2260.07,456.791 2260.4,456.791 2260.73,456.791 2261.06,456.791 2261.39,456.791 2261.72,456.791 2262.04,456.791 2262.37,456.791 2262.7,456.791 2263.03,456.791 2263.35,456.791 2263.68,456.791 2264,456.791 2264.33,456.791 2264.65,456.791 2264.98,456.791 2265.3,456.791 2265.62,456.791 2265.95,456.791 2266.27,456.791 2266.59,456.791 2266.91,456.791 2267.24,456.791 2267.56,456.791 2267.88,456.791 2268.2,456.791 2268.52,456.791 2268.84,456.791 2269.16,456.791 2269.48,456.791 2269.8,456.791 2270.12,456.791 2270.43,456.791 2270.75,456.791 2271.07,456.791 2271.39,456.791 2271.7,456.791 2272.02,456.791 2272.34,456.791 2272.65,456.791 2272.97,456.791 2273.28,456.791 2273.6,456.791 2273.91,456.791 2274.23,456.791 2274.54,456.791 2274.85,456.791 2275.17,456.791 2275.48,456.791 2275.79,456.791 2276.11,456.791 2276.42,456.791 2276.73,456.791 2277.04,456.791 2277.35,456.791 2277.66,456.791 2277.97,456.791 2278.28,456.791 2278.59,456.791 2278.9,456.791 2279.21,456.791 2279.52,456.791 2279.83,456.791 2280.14,456.791 2280.44,456.791 2280.75,456.791 2281.06,456.791 2281.36,456.791 2281.67,456.791 2281.98,456.791 2282.28,456.791 2282.59,456.791 2282.89,456.791 2283.2,456.791 2283.5,456.791 2283.81,456.791 2284.11,456.791 2284.41,456.791 2284.72,456.791 2285.02,456.791 2285.32,456.791 2285.63,456.791 2285.93,456.791 2286.23,456.791 2286.53,456.791 2286.83,456.791 2287.13,456.791 2287.43,456.791 2287.73,456.791 2288.03,456.791 2288.33,456.791 2288.63,456.791 2288.93,456.791 2289.23,456.791 2289.53,456.791 2289.83,456.791 2290.12,456.791 2290.42,456.791 2290.72,456.791 2291.02,456.791 2291.31,456.791 \"/>\n",
       "<path clip-path=\"url(#clip770)\" d=\"M2038.11 354.008 L2280.39 354.008 L2280.39 94.8081 L2038.11 94.8081  Z\" fill=\"#ffffff\" fill-rule=\"evenodd\" fill-opacity=\"1\"/>\n",
       "<polyline clip-path=\"url(#clip770)\" style=\"stroke:#000000; stroke-linecap:round; stroke-linejoin:round; stroke-width:4; stroke-opacity:1; fill:none\" points=\"2038.11,354.008 2280.39,354.008 2280.39,94.8081 2038.11,94.8081 2038.11,354.008 \"/>\n",
       "<polyline clip-path=\"url(#clip770)\" style=\"stroke:#009af9; stroke-linecap:round; stroke-linejoin:round; stroke-width:4; stroke-opacity:1; fill:none\" points=\"2062.23,146.648 2206.96,146.648 \"/>\n",
       "<path clip-path=\"url(#clip770)\" d=\"M2231.75 159.993 L2239.39 159.993 L2239.39 133.627 L2231.08 135.294 L2231.08 131.035 L2239.35 129.368 L2244.02 129.368 L2244.02 159.993 L2251.66 159.993 L2251.66 163.928 L2231.75 163.928 L2231.75 159.993 Z\" fill=\"#000000\" fill-rule=\"nonzero\" fill-opacity=\"1\" /><polyline clip-path=\"url(#clip770)\" style=\"stroke:#e26f46; stroke-linecap:round; stroke-linejoin:round; stroke-width:4; stroke-opacity:1; fill:none\" points=\"2062.23,198.488 2206.96,198.488 \"/>\n",
       "<path clip-path=\"url(#clip770)\" d=\"M2236.71 211.833 L2253.03 211.833 L2253.03 215.768 L2231.08 215.768 L2231.08 211.833 Q2233.75 209.078 2238.33 204.449 Q2242.94 199.796 2244.12 198.453 Q2246.36 195.93 2247.24 194.194 Q2248.14 192.435 2248.14 190.745 Q2248.14 187.99 2246.2 186.254 Q2244.28 184.518 2241.18 184.518 Q2238.98 184.518 2236.52 185.282 Q2234.09 186.046 2231.31 187.597 L2231.31 182.875 Q2234.14 181.741 2236.59 181.162 Q2239.05 180.583 2241.08 180.583 Q2246.45 180.583 2249.65 183.268 Q2252.84 185.953 2252.84 190.444 Q2252.84 192.574 2252.03 194.495 Q2251.25 196.393 2249.14 198.986 Q2248.56 199.657 2245.46 202.875 Q2242.36 206.069 2236.71 211.833 Z\" fill=\"#000000\" fill-rule=\"nonzero\" fill-opacity=\"1\" /><polyline clip-path=\"url(#clip770)\" style=\"stroke:#3da44d; stroke-linecap:round; stroke-linejoin:round; stroke-width:4; stroke-opacity:1; fill:none\" points=\"2062.23,250.328 2206.96,250.328 \"/>\n",
       "<path clip-path=\"url(#clip770)\" d=\"M2246.71 248.974 Q2250.06 249.692 2251.94 251.96 Q2253.84 254.229 2253.84 257.562 Q2253.84 262.678 2250.32 265.478 Q2246.8 268.279 2240.32 268.279 Q2238.14 268.279 2235.83 267.84 Q2233.54 267.423 2231.08 266.566 L2231.08 262.053 Q2233.03 263.187 2235.34 263.766 Q2237.66 264.344 2240.18 264.344 Q2244.58 264.344 2246.87 262.608 Q2249.19 260.872 2249.19 257.562 Q2249.19 254.506 2247.03 252.793 Q2244.9 251.057 2241.08 251.057 L2237.06 251.057 L2237.06 247.215 L2241.27 247.215 Q2244.72 247.215 2246.55 245.849 Q2248.37 244.46 2248.37 241.868 Q2248.37 239.205 2246.48 237.793 Q2244.6 236.358 2241.08 236.358 Q2239.16 236.358 2236.96 236.775 Q2234.76 237.192 2232.12 238.071 L2232.12 233.905 Q2234.79 233.164 2237.1 232.793 Q2239.44 232.423 2241.5 232.423 Q2246.82 232.423 2249.93 234.854 Q2253.03 237.261 2253.03 241.381 Q2253.03 244.252 2251.38 246.242 Q2249.74 248.21 2246.71 248.974 Z\" fill=\"#000000\" fill-rule=\"nonzero\" fill-opacity=\"1\" /><polyline clip-path=\"url(#clip770)\" style=\"stroke:#c271d2; stroke-linecap:round; stroke-linejoin:round; stroke-width:4; stroke-opacity:1; fill:none\" points=\"2062.23,302.168 2206.96,302.168 \"/>\n",
       "<path clip-path=\"url(#clip770)\" d=\"M2246.69 288.962 L2234.88 307.411 L2246.69 307.411 L2246.69 288.962 M2245.46 284.888 L2251.34 284.888 L2251.34 307.411 L2256.27 307.411 L2256.27 311.3 L2251.34 311.3 L2251.34 319.448 L2246.69 319.448 L2246.69 311.3 L2231.08 311.3 L2231.08 306.786 L2245.46 284.888 Z\" fill=\"#000000\" fill-rule=\"nonzero\" fill-opacity=\"1\" /></svg>\n"
      ]
     },
     "execution_count": 63,
     "metadata": {},
     "output_type": "execute_result"
    }
   ],
   "source": [
    "# TODO: plot the error for the Taylor series approximation.\n",
    "using Plots\n",
    "N = 1000\n",
    "err = [nanabs(exp_t(1, n) - exp(1)) for n=1:N]\n",
    "plot(1:N, err, xscale=:log10, yscale=:log10, label=\"1\")\n",
    "\n",
    "err2 = [nanabs(exp_t(im, n) - exp(im)) for n=1:N]\n",
    "plot!(1:N, err2, xscale=:log10, yscale=:log10, label=\"2\")\n",
    "\n",
    "err3 = [nanabs(exp_t(-5, n) - exp(-5)) for n=1:N]\n",
    "plot!(1:N, err3, xscale=:log10, yscale=:log10, label=\"3\")\n",
    "\n",
    "err4 = [nanabs(exp_t(-100, n) - exp(-100)) for n=1:N]\n",
    "plot!(1:N, err4, xscale=:log10, yscale=:log10, label=\"4\")\n"
   ]
  },
  {
   "cell_type": "code",
   "execution_count": null,
   "metadata": {},
   "outputs": [],
   "source": []
  },
  {
   "cell_type": "markdown",
   "metadata": {},
   "source": [
    "------"
   ]
  },
  {
   "cell_type": "markdown",
   "metadata": {},
   "source": [
    "One of the powerful features of Julia is that it's very easy to make our own types. Let's begin with a simple\n",
    "implementation of a rational function $p/q$ where $p$ and $q$ are `Int`s.  Thus we want to create a new\n",
    "type called `Rat` with two fields `p` and `q` to represent the numerator and denominator, respectively.\n",
    "(For simplicity  we won't worry about restricting $p$ and $q$ to be `Int`.)\n",
    "We can construct such a type using the `struct` keyword:"
   ]
  },
  {
   "cell_type": "code",
   "execution_count": 71,
   "metadata": {},
   "outputs": [],
   "source": [
    "struct Rat\n",
    "    p\n",
    "    q\n",
    "end"
   ]
  },
  {
   "cell_type": "markdown",
   "metadata": {},
   "source": [
    "A new instance of `Rat` is created via e.g. `Rat(1, 2)` represents `1/2`\n",
    "where the first argument specifies `p` and the second argument `q`.\n",
    "The fields are accessed by `.`:"
   ]
  },
  {
   "cell_type": "code",
   "execution_count": 72,
   "metadata": {},
   "outputs": [
    {
     "data": {
      "text/plain": [
       "\u001b[32m\u001b[1mTest Passed\u001b[22m\u001b[39m"
      ]
     },
     "execution_count": 72,
     "metadata": {},
     "output_type": "execute_result"
    }
   ],
   "source": [
    "x = Rat(1, 2) # Rat(1, 2) creates an instance with fields equal to the input\n",
    "@test x.p == 1\n",
    "@test x.q == 2"
   ]
  },
  {
   "cell_type": "markdown",
   "metadata": {},
   "source": [
    "Unfortunately we can't actually do anything with this type, yet:"
   ]
  },
  {
   "cell_type": "code",
   "execution_count": 73,
   "metadata": {},
   "outputs": [
    {
     "data": {
      "text/plain": [
       "Rat(4, 4)"
      ]
     },
     "execution_count": 73,
     "metadata": {},
     "output_type": "execute_result"
    }
   ],
   "source": [
    "x + x"
   ]
  },
  {
   "cell_type": "markdown",
   "metadata": {},
   "source": [
    "The error is telling us to overload the `+` function when the inputs are both `Rat`.\n",
    "To do this we need to \"import\" the `+` function and then we can overload it like any\n",
    "other function:"
   ]
  },
  {
   "cell_type": "code",
   "execution_count": 74,
   "metadata": {},
   "outputs": [
    {
     "data": {
      "text/plain": [
       "Rat(10, 8)"
      ]
     },
     "execution_count": 74,
     "metadata": {},
     "output_type": "execute_result"
    }
   ],
   "source": [
    "import Base: + # allows us to overload +\n",
    "\n",
    "# Here putting ::Rat after both x and y means this version of +\n",
    "# is only called if both arguments are Rat\n",
    "function +(x::Rat, y::Rat)\n",
    "    p,q = x.p,x.q # x represents p/q\n",
    "    r,s = y.p,y.q # y represents r/s\n",
    "    Rat(p * s + r * q, q * s)\n",
    "end\n",
    "\n",
    "Rat(1,2) + Rat(3,4) # 1/2 + 3/4 == 10/8 (== 5/4) which is represented\n",
    "                    # as Rat(10, 8)"
   ]
  },
  {
   "cell_type": "markdown",
   "metadata": {},
   "source": [
    "We can support mixing `Rat` and `Int` by adding additional functionality:"
   ]
  },
  {
   "cell_type": "code",
   "execution_count": 75,
   "metadata": {},
   "outputs": [
    {
     "data": {
      "text/plain": [
       "Rat(3, 2)"
      ]
     },
     "execution_count": 75,
     "metadata": {},
     "output_type": "execute_result"
    }
   ],
   "source": [
    "Rat(p::Int) = Rat(p,1) # an Int is converted to p/1\n",
    "+(x::Rat, y::Int) = x + Rat(y) # To add a Rat to an Int we convert the Int into a Rat and use the previously defined +\n",
    "\n",
    "Rat(1,2) + 1  # 1 + 1/2 == 3/2"
   ]
  },
  {
   "cell_type": "markdown",
   "metadata": {},
   "source": [
    "-----"
   ]
  },
  {
   "cell_type": "markdown",
   "metadata": {},
   "source": [
    "**Problem 3** Support `*`, `-`, `/`, and `==` for `Rat` and `Int`."
   ]
  },
  {
   "cell_type": "code",
   "execution_count": 90,
   "metadata": {
    "scrolled": true
   },
   "outputs": [
    {
     "data": {
      "text/plain": [
       "\u001b[32m\u001b[1mTest Passed\u001b[22m\u001b[39m"
      ]
     },
     "execution_count": 90,
     "metadata": {},
     "output_type": "execute_result"
    }
   ],
   "source": [
    "# We import +, -, *, / so we can \"overload\" these operations\n",
    "# specifically for Rat.\n",
    "import Base: +, -, *, /, ==\n",
    "\n",
    "\n",
    "function *(x::Rat, y::Rat)\n",
    "    p,q = x.p,x.q # x represents p/q\n",
    "    r,s = y.p,y.q # y represents r/s\n",
    "    Rat(p * r, q * s)\n",
    "end\n",
    "\n",
    "function -(x::Rat, y::Rat)\n",
    "    p,q = x.p,x.q # x represents p/q\n",
    "    r,s = y.p,y.q # y represents r/s\n",
    "    Rat(p * s - r * q, q * s)\n",
    "end\n",
    "\n",
    "function /(x::Rat, y::Rat)\n",
    "    p,q = x.p,x.q # x represents p/q\n",
    "    r,s = y.p,y.q # y represents r/s\n",
    "    Rat(p * s, q * r)\n",
    "end\n",
    "\n",
    "# The ::Rat means the following version of == is only called if both\n",
    "# arguments are Rat.\n",
    "function ==(x::Rat, y::Rat)\n",
    "    # TODO: implement equality, making sure to check the case where\n",
    "    # the numerator/denominator are possibly reducible\n",
    "    # Hint: gcd and div may be useful. Use ? to find out what they do\n",
    "    p,q = x.p,x.q # x represents p/q\n",
    "    r,s = y.p,y.q # y represents r/s\n",
    "\n",
    "    p*s == q*r\n",
    "end\n",
    "\n",
    "# We can also support equality when x is a Rat and y is an Int\n",
    "function ==(x::Rat, y::Int)\n",
    "    p,q = x.p,x.q\n",
    "    p == q*y\n",
    "end\n",
    "\n",
    "function ==(x::Int, y::Rat)\n",
    "    y == x\n",
    "end\n",
    "\n",
    "# TODO: implement ==(x::Int, y::Rat)\n",
    "\n",
    "\n",
    "@test Rat(1, 2) == Rat(2, 4)\n",
    "@test Rat(1, 2) ≠ Rat(1, 3)\n",
    "@test Rat(2,2) == 1\n",
    "@test 1 == Rat(2,2)\n",
    "\n",
    "# TODO: implement +, -, *, and /,\n",
    "\n",
    "\n",
    "@test Rat(1, 2) + Rat(1, 3) == Rat(5, 6)\n",
    "@test Rat(1, 3) - Rat(1, 2) == Rat(-1, 6)\n",
    "@test Rat(2, 3) * Rat(3, 4) == Rat(1, 2)\n",
    "@test Rat(2, 3) / Rat(3, 4) == Rat(8, 9)"
   ]
  },
  {
   "cell_type": "markdown",
   "metadata": {},
   "source": [
    "------"
   ]
  },
  {
   "cell_type": "markdown",
   "metadata": {},
   "source": [
    "## I.3 Dual Numbers\n",
    "\n",
    "We now consider implementing a type `Dual` to represent the dual number $a + bϵ$,\n",
    "in a way similar to `Complex` or `Rat`. For simplicity we don't restrict the types of `a` and `b`\n",
    "but for us they will usually be `Float64`. We create this type very similar to `Rat` above:"
   ]
  },
  {
   "cell_type": "code",
   "execution_count": 91,
   "metadata": {},
   "outputs": [],
   "source": [
    "struct Dual\n",
    "    a\n",
    "    b\n",
    "end"
   ]
  },
  {
   "cell_type": "markdown",
   "metadata": {},
   "source": [
    "We can easily support addition of dual numbers as in `Rat` using the formula\n",
    "$$\n",
    "(a+bϵ) + (c+dϵ) = (a+c) + (b+d)ϵ\n",
    "$$"
   ]
  },
  {
   "cell_type": "code",
   "execution_count": 92,
   "metadata": {},
   "outputs": [
    {
     "data": {
      "text/plain": [
       "Dual(4, 6)"
      ]
     },
     "execution_count": 92,
     "metadata": {},
     "output_type": "execute_result"
    }
   ],
   "source": [
    "function +(x::Dual, y::Dual)\n",
    "    a,b = x.a, x.b # x == a+bϵ. This gets out a and b\n",
    "    c,d = y.a, y.b # y == c+dϵ. This gets out c and d\n",
    "    Dual(a+c, b+d)\n",
    "end\n",
    "\n",
    "Dual(1,2) + Dual(3,4) # just adds each argument"
   ]
  },
  {
   "cell_type": "markdown",
   "metadata": {},
   "source": [
    "For multiplication we used the fact that $ϵ^2 = 0$ to derive the formula\n",
    "$$\n",
    "(a+bϵ)*(c+dϵ) = ac +(bc+ad)ϵ.\n",
    "$$\n",
    "Here we support this operation by overloading `*` when the inputs are both\n",
    "`Dual`:"
   ]
  },
  {
   "cell_type": "code",
   "execution_count": 93,
   "metadata": {},
   "outputs": [
    {
     "data": {
      "text/plain": [
       "* (generic function with 300 methods)"
      ]
     },
     "execution_count": 93,
     "metadata": {},
     "output_type": "execute_result"
    }
   ],
   "source": [
    "import Base: * # we want to also overload *\n",
    "\n",
    "function *(x::Dual, y::Dual)\n",
    "    a,b = x.a, x.b # x == a+bϵ. This gets out a and b\n",
    "    c,d = y.a, y.b # y == c+dϵ. This gets out c and d\n",
    "    Dual(a*c, b*c + a*d)\n",
    "end"
   ]
  },
  {
   "cell_type": "markdown",
   "metadata": {},
   "source": [
    "### I.3.1 Differentiating polynomials"
   ]
  },
  {
   "cell_type": "markdown",
   "metadata": {},
   "source": [
    "Dual numbers allow us to differentiate functions provided they are composed of\n",
    "operations overloaded for `Dual`. In particular, we have that\n",
    "$$\n",
    "f(x + b ϵ) = f(x) + bf'(x)ϵ\n",
    "$$\n",
    "and thus if we set `b = 1` the \"dual part\" is equal to the derivative.\n",
    "We can use this fact to differentiate simple polynomials that only use `+`\n",
    "and `*`:"
   ]
  },
  {
   "cell_type": "code",
   "execution_count": 94,
   "metadata": {},
   "outputs": [
    {
     "data": {
      "text/plain": [
       "Dual(10, 13)"
      ]
     },
     "execution_count": 94,
     "metadata": {},
     "output_type": "execute_result"
    }
   ],
   "source": [
    "f = x -> x*x*x + x\n",
    "f(Dual(2,1)) # (2^3 + 2) + (3*2^2+1)*ϵ"
   ]
  },
  {
   "cell_type": "markdown",
   "metadata": {},
   "source": [
    "A polynomial like `x^3 + 1` is not yet supported.\n",
    "To support this we need to add addition of `Dual` with `Int` or `Float64`.\n",
    "Note that both of these are \"subtypes\" of `Real` and so restricting on `Real`\n",
    "will support both at the same time.\n",
    "We can overload the appropriate functions as follows:"
   ]
  },
  {
   "cell_type": "code",
   "execution_count": 95,
   "metadata": {},
   "outputs": [
    {
     "data": {
      "text/plain": [
       "Dual(9, 12)"
      ]
     },
     "execution_count": 95,
     "metadata": {},
     "output_type": "execute_result"
    }
   ],
   "source": [
    "import Base: ^\n",
    "\n",
    "Dual(a::Real) = Dual(a, 0) # converts a real number to a dual number with no ϵ\n",
    "\n",
    "+(x::Real, y::Dual) = Dual(x) + y\n",
    "+(x::Dual, y::Real) = x + Dual(y)\n",
    "\n",
    "# a simple recursive function to support x^2, x^3, etc.\n",
    "function ^(x::Dual, n::Int)\n",
    "    if n < 0\n",
    "        error(\"Not implemented\") # don't support negative n, yet\n",
    "    end\n",
    "    if n == 1\n",
    "        x # Just return the input\n",
    "    else\n",
    "        ret = x\n",
    "        for k = 1:n-1\n",
    "            ret = ret*x\n",
    "        end\n",
    "        ret # returns the last argument\n",
    "    end\n",
    "end\n",
    "\n",
    "f = x -> x^3 + 1\n",
    "f(Dual(2,1))  # 2^3+1 + 3*2^2*ϵ"
   ]
  },
  {
   "cell_type": "markdown",
   "metadata": {},
   "source": [
    "### I.3.2 Differentiating functions"
   ]
  },
  {
   "cell_type": "markdown",
   "metadata": {},
   "source": [
    "We can also overload functions like `exp` so that they satisfy the rules of\n",
    "a _dual extension_, that is, are consistent with the formula $f(a+bϵ) = f(a) + bf'(a)ϵ$\n",
    "as follows:"
   ]
  },
  {
   "cell_type": "code",
   "execution_count": 96,
   "metadata": {},
   "outputs": [
    {
     "data": {
      "text/plain": [
       "exp (generic function with 15 methods)"
      ]
     },
     "execution_count": 96,
     "metadata": {},
     "output_type": "execute_result"
    }
   ],
   "source": [
    "import Base: exp\n",
    "exp(x::Dual) = Dual(exp(x.a), exp(x.a) * x.b)"
   ]
  },
  {
   "cell_type": "markdown",
   "metadata": {},
   "source": [
    "We can use this to differentiate a function that composes these basic operations:"
   ]
  },
  {
   "cell_type": "code",
   "execution_count": 97,
   "metadata": {},
   "outputs": [
    {
     "data": {
      "text/plain": [
       "Dual(41.193555674716116, 194.362805189629)"
      ]
     },
     "execution_count": 97,
     "metadata": {},
     "output_type": "execute_result"
    }
   ],
   "source": [
    "f = x -> exp(x*x + exp(x))\n",
    "f(Dual(1, 1))"
   ]
  },
  {
   "cell_type": "markdown",
   "metadata": {},
   "source": [
    "What makes dual numbers so effective is that, unlike divided differences, they are not\n",
    "prone to disasterous growth due to round-off errors: the above approximation\n",
    "matches the true answer to roughly 16 digits of accuracy."
   ]
  },
  {
   "cell_type": "markdown",
   "metadata": {},
   "source": [
    "------"
   ]
  },
  {
   "cell_type": "markdown",
   "metadata": {},
   "source": [
    "**Problem 4(a)** Add support for `-`, `cos`, `sin`, and `/` to the type `Dual`\n",
    "by replacing the `# TODO`s in the below code."
   ]
  },
  {
   "cell_type": "code",
   "execution_count": 147,
   "metadata": {},
   "outputs": [
    {
     "data": {
      "text/plain": [
       "\u001b[32m\u001b[1mTest Passed\u001b[22m\u001b[39m"
      ]
     },
     "execution_count": 147,
     "metadata": {},
     "output_type": "execute_result"
    }
   ],
   "source": [
    "import Base: -, cos, sin, /\n",
    "\n",
    "# The following supports negation -(a+bϵ)\n",
    "-(x::Dual) = Dual(-x.a, -x.b)\n",
    "\n",
    "# TODO: implement -(::Dual, ::Dual)\n",
    "-(x::Dual, y::Dual) = x+(-y)\n",
    "\n",
    "-(x::Dual, y::Real) = Dual(x.a-y, x.b)\n",
    "\n",
    "*(x::Real, y::Dual) = Dual(x*y.a, x*y.b)\n",
    "\n",
    "function cos(x::Dual)\n",
    "    # TODO: implement cos for Duals\n",
    "    Dual(cos(x.a), -sin(x.a) * x.b)\n",
    "end\n",
    "\n",
    "function sin(x::Dual)\n",
    "    # TODO: implement sin for Duals\n",
    "    Dual(sin(x.a), cos(x.a) * x.b)\n",
    "end\n",
    "\n",
    "function /(x::Dual, y::Dual)\n",
    "    # TODO: implement division for Duals.\n",
    "    # Hint: think of this as x * (1/y)\n",
    "    x*Dual(1/y.a, -y.b/y.a^2)\n",
    "end\n",
    "\n",
    "function /(x::Dual, y::Real)\n",
    "    Dual(x.a/y, x.b/y)\n",
    "end\n",
    "\n",
    "/(x::Real, y::Dual) = Dual(x,0)/y\n",
    "\n",
    "\n",
    "\n",
    "x = 0.1\n",
    "ϵ = Dual(0,1)\n",
    "@test cos(sin(x+ϵ)/(x+ϵ)).b ≈ -((cos(x)/x - sin(x)/x^2)sin(sin(x)/x))"
   ]
  },
  {
   "cell_type": "markdown",
   "metadata": {},
   "source": [
    "**Problem 4(b)** Use dual numbers to compute the derivatives to\n",
    "1. $\\exp(\\exp x \\cos x + \\sin x)$\n",
    "2. $∏_{k=1}^{1000} \\left({x \\over k}-1\\right)$\n",
    "3. $f^{\\rm s}_{1000}(x)$ where, as in Lab 1 Problem 3(d), $f^{\\rm s}_n(x)$ corresponds to $n$-terms of the following continued fraction:\n",
    "$$\n",
    "1 + {x-1 \\over 2 + {x-1 \\over 2 + {x-1 \\over 2 + ⋱}}}.\n",
    "$$\n",
    "at the point $x = 0.1$. Compare with divided differences to give evidence that your implementation is correct."
   ]
  },
  {
   "cell_type": "code",
   "execution_count": 148,
   "metadata": {},
   "outputs": [
    {
     "data": {
      "text/plain": [
       "f3 (generic function with 1 method)"
      ]
     },
     "execution_count": 148,
     "metadata": {},
     "output_type": "execute_result"
    }
   ],
   "source": [
    "# TODO: Use dual numbers to compute the derivatives of the 3 functions above.\n",
    "function f1(x)\n",
    "    exp(exp(x)*cos(x)+sin(x))\n",
    "end\n",
    "\n",
    "function f2(x)\n",
    "    prod = 1\n",
    "    for i = 1:1000\n",
    "        prod = prod*((x/i)-1)\n",
    "    end\n",
    "    prod\n",
    "end\n",
    "\n",
    "function f3(x)\n",
    "    # Start from the \"innermost\" term, which for n=1 is just 2.\n",
    "    val = 2.0\n",
    "\n",
    "    # Build the denominator from inside out n-1 more times.\n",
    "    for i in 2:1000\n",
    "        val = 2 + (x - 1) / val\n",
    "    end\n",
    "\n",
    "    # Finally, wrap in \"1 + (x-1)/(...)\"\n",
    "    return 1 + (x - 1) / val\n",
    "end"
   ]
  },
  {
   "cell_type": "code",
   "execution_count": 149,
   "metadata": {},
   "outputs": [
    {
     "data": {
      "text/plain": [
       "Dual(3.3184011429340323, 6.5847725546108276)"
      ]
     },
     "execution_count": 149,
     "metadata": {},
     "output_type": "execute_result"
    }
   ],
   "source": [
    "f1(Dual(0.1,1))"
   ]
  },
  {
   "cell_type": "code",
   "execution_count": 150,
   "metadata": {},
   "outputs": [
    {
     "data": {
      "text/plain": [
       "Dual(0.4689792466949583, -3.593826513101571)"
      ]
     },
     "execution_count": 150,
     "metadata": {},
     "output_type": "execute_result"
    }
   ],
   "source": [
    "f2(Dual(0.1,1))"
   ]
  },
  {
   "cell_type": "code",
   "execution_count": 151,
   "metadata": {},
   "outputs": [
    {
     "data": {
      "text/plain": [
       "Dual(0.3162277660168379, 1.5811388300841895)"
      ]
     },
     "execution_count": 151,
     "metadata": {},
     "output_type": "execute_result"
    }
   ],
   "source": [
    "f3(Dual(0.1,1))"
   ]
  },
  {
   "cell_type": "markdown",
   "metadata": {},
   "source": [
    "------\n",
    "## I.4 Newton's method"
   ]
  },
  {
   "cell_type": "markdown",
   "metadata": {},
   "source": [
    "Newton's method is a simple algorithmic approach that you may have seen before in school for computing roots (or zeros)\n",
    "of functions. The basic idea is given an initial guess $x_0$,\n",
    "find the first-order Taylor approximation $p(x)$ (i.e., find the line that matches the slope of the function at the point)\n",
    "$$\n",
    "f(x) ≈ \\underbrace{f(x_0) + f'(x_0) (x- x_0)}_{p(x)}.\n",
    "$$\n",
    "We can then solve the root finding problem for $p(x)$ exactly:\n",
    "$$\n",
    "p(x) = 0 ⇔ x = x_0 - {f(x_0) \\over f'(x_0)}\n",
    "$$\n",
    "We take this root of $p(x)$ as the new initial guess and repeat. In other words, we have a simple sequence\n",
    "defined by\n",
    "$$\n",
    "x_{k+1} = x_k - {f(x_k) \\over f'(x_k)}\n",
    "$$\n",
    "If the initial guess is \"close enough\" to a root $r$ of $f$ (ie $f(r) = 0$)\n",
    "then we have proven that $x_k → r$. Thus for large $N$ we have $x_N ≈ r$."
   ]
  },
  {
   "cell_type": "markdown",
   "metadata": {},
   "source": [
    "Dual numbers as implemented by `Dual` gives us a powerful tool to compute derivatives and get a simple implementation\n",
    "of Newton's method working:"
   ]
  },
  {
   "cell_type": "code",
   "execution_count": 152,
   "metadata": {},
   "outputs": [
    {
     "data": {
      "text/plain": [
       "-1.193859111321223"
      ]
     },
     "execution_count": 152,
     "metadata": {},
     "output_type": "execute_result"
    }
   ],
   "source": [
    "# derivative(f, x) computes the derivative at a point x using Dual\n",
    "derivative(f, x) = f(Dual(x,1)).b\n",
    "\n",
    "function newton(f, x, N) # x = x_0 is the initial guess\n",
    "    for k = 1:N\n",
    "        x = x - f(x)/derivative(f,x)\n",
    "    end\n",
    "    x\n",
    "end\n",
    "\n",
    "f = x -> x^5 + x^2 + 1\n",
    "r = newton(f, 0.1, 100)"
   ]
  },
  {
   "cell_type": "markdown",
   "metadata": {},
   "source": [
    "We can test that we have indeed found a root:"
   ]
  },
  {
   "cell_type": "code",
   "execution_count": 153,
   "metadata": {},
   "outputs": [
    {
     "data": {
      "text/plain": [
       "6.661338147750939e-16"
      ]
     },
     "execution_count": 153,
     "metadata": {},
     "output_type": "execute_result"
    }
   ],
   "source": [
    "f(r)"
   ]
  },
  {
   "cell_type": "markdown",
   "metadata": {},
   "source": [
    "-----"
   ]
  },
  {
   "cell_type": "markdown",
   "metadata": {},
   "source": [
    "**Problem 5(a)** For $f(x) = x^5 + x^2 + 1$, plot the error of $x_k$ for `k = 1:15` where the\n",
    "y-axis is scaled logarithmically and chosen $x_0 = 0.1$ You may\n",
    "use the computed `r` as the \"exact\" root. What do you think the convergence rate is?"
   ]
  },
  {
   "cell_type": "code",
   "execution_count": 154,
   "metadata": {},
   "outputs": [
    {
     "data": {
      "image/png": "[encoded data removed]",
      "image/svg+xml": [
       "<?xml version=\"1.0\" encoding=\"utf-8\"?>\n",
       "<svg xmlns=\"http://www.w3.org/2000/svg\" xmlns:xlink=\"http://www.w3.org/1999/xlink\" width=\"600\" height=\"400\" viewBox=\"0 0 2400 1600\">\n",
       "<defs>\n",
       "  <clipPath id=\"clip990\">\n",
       "    <rect x=\"0\" y=\"0\" width=\"2400\" height=\"1600\"/>\n",
       "  </clipPath>\n",
       "</defs>\n",
       "<path clip-path=\"url(#clip990)\" d=\"M0 1600 L2400 1600 L2400 0 L0 0  Z\" fill=\"#ffffff\" fill-rule=\"evenodd\" fill-opacity=\"1\"/>\n",
       "<defs>\n",
       "  <clipPath id=\"clip991\">\n",
       "    <rect x=\"480\" y=\"0\" width=\"1681\" height=\"1600\"/>\n",
       "  </clipPath>\n",
       "</defs>\n",
       "<path clip-path=\"url(#clip990)\" d=\"M219.626 1486.45 L2352.76 1486.45 L2352.76 47.2441 L219.626 47.2441  Z\" fill=\"#ffffff\" fill-rule=\"evenodd\" fill-opacity=\"1\"/>\n",
       "<defs>\n",
       "  <clipPath id=\"clip992\">\n",
       "    <rect x=\"219\" y=\"47\" width=\"2134\" height=\"1440\"/>\n",
       "  </clipPath>\n",
       "</defs>\n",
       "<polyline clip-path=\"url(#clip992)\" style=\"stroke:#000000; stroke-linecap:round; stroke-linejoin:round; stroke-width:2; stroke-opacity:0.1; fill:none\" points=\"423.739,1486.45 423.739,47.2441 \"/>\n",
       "<polyline clip-path=\"url(#clip992)\" style=\"stroke:#000000; stroke-linecap:round; stroke-linejoin:round; stroke-width:2; stroke-opacity:0.1; fill:none\" points=\"711.223,1486.45 711.223,47.2441 \"/>\n",
       "<polyline clip-path=\"url(#clip992)\" style=\"stroke:#000000; stroke-linecap:round; stroke-linejoin:round; stroke-width:2; stroke-opacity:0.1; fill:none\" points=\"998.707,1486.45 998.707,47.2441 \"/>\n",
       "<polyline clip-path=\"url(#clip992)\" style=\"stroke:#000000; stroke-linecap:round; stroke-linejoin:round; stroke-width:2; stroke-opacity:0.1; fill:none\" points=\"1286.19,1486.45 1286.19,47.2441 \"/>\n",
       "<polyline clip-path=\"url(#clip992)\" style=\"stroke:#000000; stroke-linecap:round; stroke-linejoin:round; stroke-width:2; stroke-opacity:0.1; fill:none\" points=\"1573.67,1486.45 1573.67,47.2441 \"/>\n",
       "<polyline clip-path=\"url(#clip992)\" style=\"stroke:#000000; stroke-linecap:round; stroke-linejoin:round; stroke-width:2; stroke-opacity:0.1; fill:none\" points=\"1861.16,1486.45 1861.16,47.2441 \"/>\n",
       "<polyline clip-path=\"url(#clip992)\" style=\"stroke:#000000; stroke-linecap:round; stroke-linejoin:round; stroke-width:2; stroke-opacity:0.1; fill:none\" points=\"2148.64,1486.45 2148.64,47.2441 \"/>\n",
       "<polyline clip-path=\"url(#clip992)\" style=\"stroke:#000000; stroke-linecap:round; stroke-linejoin:round; stroke-width:2; stroke-opacity:0.1; fill:none\" points=\"219.626,1064.64 2352.76,1064.64 \"/>\n",
       "<polyline clip-path=\"url(#clip992)\" style=\"stroke:#000000; stroke-linecap:round; stroke-linejoin:round; stroke-width:2; stroke-opacity:0.1; fill:none\" points=\"219.626,514.101 2352.76,514.101 \"/>\n",
       "<polyline clip-path=\"url(#clip990)\" style=\"stroke:#000000; stroke-linecap:round; stroke-linejoin:round; stroke-width:4; stroke-opacity:1; fill:none\" points=\"219.626,1486.45 2352.76,1486.45 \"/>\n",
       "<polyline clip-path=\"url(#clip990)\" style=\"stroke:#000000; stroke-linecap:round; stroke-linejoin:round; stroke-width:4; stroke-opacity:1; fill:none\" points=\"423.739,1486.45 423.739,1467.55 \"/>\n",
       "<polyline clip-path=\"url(#clip990)\" style=\"stroke:#000000; stroke-linecap:round; stroke-linejoin:round; stroke-width:4; stroke-opacity:1; fill:none\" points=\"711.223,1486.45 711.223,1467.55 \"/>\n",
       "<polyline clip-path=\"url(#clip990)\" style=\"stroke:#000000; stroke-linecap:round; stroke-linejoin:round; stroke-width:4; stroke-opacity:1; fill:none\" points=\"998.707,1486.45 998.707,1467.55 \"/>\n",
       "<polyline clip-path=\"url(#clip990)\" style=\"stroke:#000000; stroke-linecap:round; stroke-linejoin:round; stroke-width:4; stroke-opacity:1; fill:none\" points=\"1286.19,1486.45 1286.19,1467.55 \"/>\n",
       "<polyline clip-path=\"url(#clip990)\" style=\"stroke:#000000; stroke-linecap:round; stroke-linejoin:round; stroke-width:4; stroke-opacity:1; fill:none\" points=\"1573.67,1486.45 1573.67,1467.55 \"/>\n",
       "<polyline clip-path=\"url(#clip990)\" style=\"stroke:#000000; stroke-linecap:round; stroke-linejoin:round; stroke-width:4; stroke-opacity:1; fill:none\" points=\"1861.16,1486.45 1861.16,1467.55 \"/>\n",
       "<polyline clip-path=\"url(#clip990)\" style=\"stroke:#000000; stroke-linecap:round; stroke-linejoin:round; stroke-width:4; stroke-opacity:1; fill:none\" points=\"2148.64,1486.45 2148.64,1467.55 \"/>\n",
       "<path clip-path=\"url(#clip990)\" d=\"M418.392 1544.91 L434.712 1544.91 L434.712 1548.85 L412.767 1548.85 L412.767 1544.91 Q415.429 1542.16 420.013 1537.53 Q424.619 1532.88 425.8 1531.53 Q428.045 1529.01 428.925 1527.27 Q429.827 1525.51 429.827 1523.82 Q429.827 1521.07 427.883 1519.33 Q425.962 1517.6 422.86 1517.6 Q420.661 1517.6 418.207 1518.36 Q415.777 1519.13 412.999 1520.68 L412.999 1515.95 Q415.823 1514.82 418.277 1514.24 Q420.73 1513.66 422.767 1513.66 Q428.138 1513.66 431.332 1516.35 Q434.526 1519.03 434.526 1523.52 Q434.526 1525.65 433.716 1527.57 Q432.929 1529.47 430.823 1532.07 Q430.244 1532.74 427.142 1535.95 Q424.04 1539.15 418.392 1544.91 Z\" fill=\"#000000\" fill-rule=\"nonzero\" fill-opacity=\"1\" /><path clip-path=\"url(#clip990)\" d=\"M714.233 1518.36 L702.427 1536.81 L714.233 1536.81 L714.233 1518.36 M713.006 1514.29 L718.885 1514.29 L718.885 1536.81 L723.816 1536.81 L723.816 1540.7 L718.885 1540.7 L718.885 1548.85 L714.233 1548.85 L714.233 1540.7 L698.631 1540.7 L698.631 1536.19 L713.006 1514.29 Z\" fill=\"#000000\" fill-rule=\"nonzero\" fill-opacity=\"1\" /><path clip-path=\"url(#clip990)\" d=\"M999.112 1529.7 Q995.964 1529.7 994.112 1531.86 Q992.284 1534.01 992.284 1537.76 Q992.284 1541.49 994.112 1543.66 Q995.964 1545.82 999.112 1545.82 Q1002.26 1545.82 1004.09 1543.66 Q1005.94 1541.49 1005.94 1537.76 Q1005.94 1534.01 1004.09 1531.86 Q1002.26 1529.7 999.112 1529.7 M1008.39 1515.05 L1008.39 1519.31 Q1006.64 1518.48 1004.83 1518.04 Q1003.05 1517.6 1001.29 1517.6 Q996.659 1517.6 994.205 1520.72 Q991.774 1523.85 991.427 1530.17 Q992.793 1528.15 994.853 1527.09 Q996.913 1526 999.39 1526 Q1004.6 1526 1007.61 1529.17 Q1010.64 1532.32 1010.64 1537.76 Q1010.64 1543.08 1007.49 1546.3 Q1004.34 1549.52 999.112 1549.52 Q993.117 1549.52 989.946 1544.94 Q986.774 1540.33 986.774 1531.6 Q986.774 1523.41 990.663 1518.55 Q994.552 1513.66 1001.1 1513.66 Q1002.86 1513.66 1004.64 1514.01 Q1006.45 1514.36 1008.39 1515.05 Z\" fill=\"#000000\" fill-rule=\"nonzero\" fill-opacity=\"1\" /><path clip-path=\"url(#clip990)\" d=\"M1286.19 1532.44 Q1282.86 1532.44 1280.94 1534.22 Q1279.04 1536 1279.04 1539.13 Q1279.04 1542.25 1280.94 1544.03 Q1282.86 1545.82 1286.19 1545.82 Q1289.52 1545.82 1291.45 1544.03 Q1293.37 1542.23 1293.37 1539.13 Q1293.37 1536 1291.45 1534.22 Q1289.55 1532.44 1286.19 1532.44 M1281.52 1530.45 Q1278.51 1529.7 1276.82 1527.64 Q1275.15 1525.58 1275.15 1522.62 Q1275.15 1518.48 1278.09 1516.07 Q1281.05 1513.66 1286.19 1513.66 Q1291.35 1513.66 1294.29 1516.07 Q1297.23 1518.48 1297.23 1522.62 Q1297.23 1525.58 1295.54 1527.64 Q1293.88 1529.7 1290.89 1530.45 Q1294.27 1531.23 1296.14 1533.52 Q1298.04 1535.82 1298.04 1539.13 Q1298.04 1544.15 1294.96 1546.83 Q1291.91 1549.52 1286.19 1549.52 Q1280.47 1549.52 1277.39 1546.83 Q1274.34 1544.15 1274.34 1539.13 Q1274.34 1535.82 1276.24 1533.52 Q1278.14 1531.23 1281.52 1530.45 M1279.8 1523.06 Q1279.8 1525.75 1281.47 1527.25 Q1283.16 1528.76 1286.19 1528.76 Q1289.2 1528.76 1290.89 1527.25 Q1292.6 1525.75 1292.6 1523.06 Q1292.6 1520.38 1290.89 1518.87 Q1289.2 1517.37 1286.19 1517.37 Q1283.16 1517.37 1281.47 1518.87 Q1279.8 1520.38 1279.8 1523.06 Z\" fill=\"#000000\" fill-rule=\"nonzero\" fill-opacity=\"1\" /><path clip-path=\"url(#clip990)\" d=\"M1548.36 1544.91 L1556 1544.91 L1556 1518.55 L1547.69 1520.21 L1547.69 1515.95 L1555.95 1514.29 L1560.63 1514.29 L1560.63 1544.91 L1568.27 1544.91 L1568.27 1548.85 L1548.36 1548.85 L1548.36 1544.91 Z\" fill=\"#000000\" fill-rule=\"nonzero\" fill-opacity=\"1\" /><path clip-path=\"url(#clip990)\" d=\"M1587.71 1517.37 Q1584.1 1517.37 1582.27 1520.93 Q1580.47 1524.47 1580.47 1531.6 Q1580.47 1538.71 1582.27 1542.27 Q1584.1 1545.82 1587.71 1545.82 Q1591.35 1545.82 1593.15 1542.27 Q1594.98 1538.71 1594.98 1531.6 Q1594.98 1524.47 1593.15 1520.93 Q1591.35 1517.37 1587.71 1517.37 M1587.71 1513.66 Q1593.52 1513.66 1596.58 1518.27 Q1599.66 1522.85 1599.66 1531.6 Q1599.66 1540.33 1596.58 1544.94 Q1593.52 1549.52 1587.71 1549.52 Q1581.9 1549.52 1578.83 1544.94 Q1575.77 1540.33 1575.77 1531.6 Q1575.77 1522.85 1578.83 1518.27 Q1581.9 1513.66 1587.71 1513.66 Z\" fill=\"#000000\" fill-rule=\"nonzero\" fill-opacity=\"1\" /><path clip-path=\"url(#clip990)\" d=\"M1836.64 1544.91 L1844.28 1544.91 L1844.28 1518.55 L1835.97 1520.21 L1835.97 1515.95 L1844.24 1514.29 L1848.91 1514.29 L1848.91 1544.91 L1856.55 1544.91 L1856.55 1548.85 L1836.64 1548.85 L1836.64 1544.91 Z\" fill=\"#000000\" fill-rule=\"nonzero\" fill-opacity=\"1\" /><path clip-path=\"url(#clip990)\" d=\"M1870.02 1544.91 L1886.34 1544.91 L1886.34 1548.85 L1864.4 1548.85 L1864.4 1544.91 Q1867.06 1542.16 1871.64 1537.53 Q1876.25 1532.88 1877.43 1531.53 Q1879.68 1529.01 1880.56 1527.27 Q1881.46 1525.51 1881.46 1523.82 Q1881.46 1521.07 1879.51 1519.33 Q1877.59 1517.6 1874.49 1517.6 Q1872.29 1517.6 1869.84 1518.36 Q1867.41 1519.13 1864.63 1520.68 L1864.63 1515.95 Q1867.45 1514.82 1869.91 1514.24 Q1872.36 1513.66 1874.4 1513.66 Q1879.77 1513.66 1882.96 1516.35 Q1886.16 1519.03 1886.16 1523.52 Q1886.16 1525.65 1885.35 1527.57 Q1884.56 1529.47 1882.45 1532.07 Q1881.88 1532.74 1878.77 1535.95 Q1875.67 1539.15 1870.02 1544.91 Z\" fill=\"#000000\" fill-rule=\"nonzero\" fill-opacity=\"1\" /><path clip-path=\"url(#clip990)\" d=\"M2123.09 1544.91 L2130.73 1544.91 L2130.73 1518.55 L2122.42 1520.21 L2122.42 1515.95 L2130.68 1514.29 L2135.36 1514.29 L2135.36 1544.91 L2142.99 1544.91 L2142.99 1548.85 L2123.09 1548.85 L2123.09 1544.91 Z\" fill=\"#000000\" fill-rule=\"nonzero\" fill-opacity=\"1\" /><path clip-path=\"url(#clip990)\" d=\"M2165.29 1518.36 L2153.48 1536.81 L2165.29 1536.81 L2165.29 1518.36 M2164.06 1514.29 L2169.94 1514.29 L2169.94 1536.81 L2174.87 1536.81 L2174.87 1540.7 L2169.94 1540.7 L2169.94 1548.85 L2165.29 1548.85 L2165.29 1540.7 L2149.68 1540.7 L2149.68 1536.19 L2164.06 1514.29 Z\" fill=\"#000000\" fill-rule=\"nonzero\" fill-opacity=\"1\" /><polyline clip-path=\"url(#clip990)\" style=\"stroke:#000000; stroke-linecap:round; stroke-linejoin:round; stroke-width:4; stroke-opacity:1; fill:none\" points=\"219.626,1486.45 219.626,47.2441 \"/>\n",
       "<polyline clip-path=\"url(#clip990)\" style=\"stroke:#000000; stroke-linecap:round; stroke-linejoin:round; stroke-width:4; stroke-opacity:1; fill:none\" points=\"219.626,1064.64 238.524,1064.64 \"/>\n",
       "<polyline clip-path=\"url(#clip990)\" style=\"stroke:#000000; stroke-linecap:round; stroke-linejoin:round; stroke-width:4; stroke-opacity:1; fill:none\" points=\"219.626,514.101 238.524,514.101 \"/>\n",
       "<path clip-path=\"url(#clip990)\" d=\"M52.4722 1084.43 L60.111 1084.43 L60.111 1058.07 L51.8009 1059.73 L51.8009 1055.47 L60.0647 1053.81 L64.7406 1053.81 L64.7406 1084.43 L72.3795 1084.43 L72.3795 1088.37 L52.4722 1088.37 L52.4722 1084.43 Z\" fill=\"#000000\" fill-rule=\"nonzero\" fill-opacity=\"1\" /><path clip-path=\"url(#clip990)\" d=\"M91.8238 1056.89 Q88.2127 1056.89 86.384 1060.45 Q84.5785 1063.99 84.5785 1071.12 Q84.5785 1078.23 86.384 1081.79 Q88.2127 1085.33 91.8238 1085.33 Q95.458 1085.33 97.2636 1081.79 Q99.0923 1078.23 99.0923 1071.12 Q99.0923 1063.99 97.2636 1060.45 Q95.458 1056.89 91.8238 1056.89 M91.8238 1053.18 Q97.6339 1053.18 100.689 1057.79 Q103.768 1062.37 103.768 1071.12 Q103.768 1079.85 100.689 1084.46 Q97.6339 1089.04 91.8238 1089.04 Q86.0136 1089.04 82.935 1084.46 Q79.8794 1079.85 79.8794 1071.12 Q79.8794 1062.37 82.935 1057.79 Q86.0136 1053.18 91.8238 1053.18 Z\" fill=\"#000000\" fill-rule=\"nonzero\" fill-opacity=\"1\" /><path clip-path=\"url(#clip990)\" d=\"M113.473 1035.38 Q110.539 1035.38 109.053 1038.27 Q107.586 1041.15 107.586 1046.94 Q107.586 1052.72 109.053 1055.62 Q110.539 1058.49 113.473 1058.49 Q116.426 1058.49 117.893 1055.62 Q119.379 1052.72 119.379 1046.94 Q119.379 1041.15 117.893 1038.27 Q116.426 1035.38 113.473 1035.38 M113.473 1032.37 Q118.194 1032.37 120.676 1036.11 Q123.178 1039.84 123.178 1046.94 Q123.178 1054.04 120.676 1057.78 Q118.194 1061.5 113.473 1061.5 Q108.752 1061.5 106.251 1057.78 Q103.768 1054.04 103.768 1046.94 Q103.768 1039.84 106.251 1036.11 Q108.752 1032.37 113.473 1032.37 Z\" fill=\"#000000\" fill-rule=\"nonzero\" fill-opacity=\"1\" /><path clip-path=\"url(#clip990)\" d=\"M129.855 1056.18 L133.823 1056.18 L133.823 1060.96 L129.855 1060.96 L129.855 1056.18 Z\" fill=\"#000000\" fill-rule=\"nonzero\" fill-opacity=\"1\" /><path clip-path=\"url(#clip990)\" d=\"M145.371 1057.76 L158.63 1057.76 L158.63 1060.96 L140.801 1060.96 L140.801 1057.76 Q142.964 1055.52 146.688 1051.76 Q150.43 1047.98 151.389 1046.89 Q153.214 1044.84 153.928 1043.43 Q154.662 1042 154.662 1040.63 Q154.662 1038.39 153.082 1036.98 Q151.521 1035.57 149.001 1035.57 Q147.214 1035.57 145.22 1036.19 Q143.246 1036.81 140.989 1038.07 L140.989 1034.23 Q143.283 1033.31 145.277 1032.84 Q147.271 1032.37 148.926 1032.37 Q153.289 1032.37 155.885 1034.55 Q158.48 1036.73 158.48 1040.38 Q158.48 1042.11 157.822 1043.67 Q157.182 1045.21 155.471 1047.32 Q155.001 1047.87 152.48 1050.48 Q149.96 1053.08 145.371 1057.76 Z\" fill=\"#000000\" fill-rule=\"nonzero\" fill-opacity=\"1\" /><path clip-path=\"url(#clip990)\" d=\"M166.643 1032.88 L181.557 1032.88 L181.557 1036.07 L170.122 1036.07 L170.122 1042.96 Q170.95 1042.68 171.777 1042.54 Q172.605 1042.39 173.432 1042.39 Q178.134 1042.39 180.88 1044.97 Q183.626 1047.55 183.626 1051.95 Q183.626 1056.48 180.805 1059 Q177.984 1061.5 172.849 1061.5 Q171.081 1061.5 169.238 1061.2 Q167.414 1060.9 165.458 1060.3 L165.458 1056.48 Q167.15 1057.4 168.956 1057.85 Q170.761 1058.3 172.774 1058.3 Q176.028 1058.3 177.927 1056.59 Q179.827 1054.88 179.827 1051.95 Q179.827 1049.01 177.927 1047.3 Q176.028 1045.59 172.774 1045.59 Q171.25 1045.59 169.727 1045.93 Q168.222 1046.27 166.643 1046.98 L166.643 1032.88 Z\" fill=\"#000000\" fill-rule=\"nonzero\" fill-opacity=\"1\" /><path clip-path=\"url(#clip990)\" d=\"M51.6634 533.893 L59.3023 533.893 L59.3023 507.527 L50.9921 509.194 L50.9921 504.935 L59.256 503.268 L63.9319 503.268 L63.9319 533.893 L71.5707 533.893 L71.5707 537.828 L51.6634 537.828 L51.6634 533.893 Z\" fill=\"#000000\" fill-rule=\"nonzero\" fill-opacity=\"1\" /><path clip-path=\"url(#clip990)\" d=\"M91.0151 506.347 Q87.404 506.347 85.5753 509.912 Q83.7697 513.453 83.7697 520.583 Q83.7697 527.689 85.5753 531.254 Q87.404 534.796 91.0151 534.796 Q94.6493 534.796 96.4548 531.254 Q98.2835 527.689 98.2835 520.583 Q98.2835 513.453 96.4548 509.912 Q94.6493 506.347 91.0151 506.347 M91.0151 502.643 Q96.8252 502.643 99.8808 507.25 Q102.959 511.833 102.959 520.583 Q102.959 529.31 99.8808 533.916 Q96.8252 538.499 91.0151 538.499 Q85.2049 538.499 82.1262 533.916 Q79.0707 529.31 79.0707 520.583 Q79.0707 511.833 82.1262 507.25 Q85.2049 502.643 91.0151 502.643 Z\" fill=\"#000000\" fill-rule=\"nonzero\" fill-opacity=\"1\" /><path clip-path=\"url(#clip990)\" d=\"M112.664 484.839 Q109.73 484.839 108.244 487.736 Q106.777 490.613 106.777 496.406 Q106.777 502.18 108.244 505.076 Q109.73 507.954 112.664 507.954 Q115.617 507.954 117.084 505.076 Q118.57 502.18 118.57 496.406 Q118.57 490.613 117.084 487.736 Q115.617 484.839 112.664 484.839 M112.664 481.83 Q117.385 481.83 119.868 485.573 Q122.369 489.297 122.369 496.406 Q122.369 503.497 119.868 507.239 Q117.385 510.963 112.664 510.963 Q107.943 510.963 105.442 507.239 Q102.959 503.497 102.959 496.406 Q102.959 489.297 105.442 485.573 Q107.943 481.83 112.664 481.83 Z\" fill=\"#000000\" fill-rule=\"nonzero\" fill-opacity=\"1\" /><path clip-path=\"url(#clip990)\" d=\"M129.046 505.641 L133.014 505.641 L133.014 510.418 L129.046 510.418 L129.046 505.641 Z\" fill=\"#000000\" fill-rule=\"nonzero\" fill-opacity=\"1\" /><path clip-path=\"url(#clip990)\" d=\"M141.327 482.338 L156.242 482.338 L156.242 485.535 L144.807 485.535 L144.807 492.419 Q145.634 492.137 146.462 492.005 Q147.289 491.855 148.117 491.855 Q152.819 491.855 155.565 494.431 Q158.311 497.008 158.311 501.409 Q158.311 505.942 155.49 508.462 Q152.668 510.963 147.534 510.963 Q145.766 510.963 143.923 510.662 Q142.098 510.361 140.142 509.76 L140.142 505.942 Q141.835 506.863 143.641 507.314 Q145.446 507.766 147.459 507.766 Q150.712 507.766 152.612 506.054 Q154.512 504.343 154.512 501.409 Q154.512 498.475 152.612 496.763 Q150.712 495.052 147.459 495.052 Q145.935 495.052 144.412 495.39 Q142.907 495.729 141.327 496.444 L141.327 482.338 Z\" fill=\"#000000\" fill-rule=\"nonzero\" fill-opacity=\"1\" /><path clip-path=\"url(#clip990)\" d=\"M173.921 484.839 Q170.987 484.839 169.501 487.736 Q168.034 490.613 168.034 496.406 Q168.034 502.18 169.501 505.076 Q170.987 507.954 173.921 507.954 Q176.874 507.954 178.341 505.076 Q179.827 502.18 179.827 496.406 Q179.827 490.613 178.341 487.736 Q176.874 484.839 173.921 484.839 M173.921 481.83 Q178.642 481.83 181.125 485.573 Q183.626 489.297 183.626 496.406 Q183.626 503.497 181.125 507.239 Q178.642 510.963 173.921 510.963 Q169.2 510.963 166.699 507.239 Q164.216 503.497 164.216 496.406 Q164.216 489.297 166.699 485.573 Q169.2 481.83 173.921 481.83 Z\" fill=\"#000000\" fill-rule=\"nonzero\" fill-opacity=\"1\" /><polyline clip-path=\"url(#clip992)\" style=\"stroke:#009af9; stroke-linecap:round; stroke-linejoin:round; stroke-width:4; stroke-opacity:1; fill:none\" points=\"279.998,87.9763 423.739,300.11 567.481,510.943 711.223,719.066 854.965,921.438 998.707,1111.42 1142.45,1275.23 1286.19,1389.77 1429.93,1438.44 1573.67,1445.58 1717.42,1445.72 1861.16,1445.72 2004.9,1445.72 2148.64,1445.72 2292.38,1445.72 \"/>\n",
       "<path clip-path=\"url(#clip990)\" d=\"M2047.76 198.898 L2281.65 198.898 L2281.65 95.2176 L2047.76 95.2176  Z\" fill=\"#ffffff\" fill-rule=\"evenodd\" fill-opacity=\"1\"/>\n",
       "<polyline clip-path=\"url(#clip990)\" style=\"stroke:#000000; stroke-linecap:round; stroke-linejoin:round; stroke-width:4; stroke-opacity:1; fill:none\" points=\"2047.76,198.898 2281.65,198.898 2281.65,95.2176 2047.76,95.2176 2047.76,198.898 \"/>\n",
       "<polyline clip-path=\"url(#clip990)\" style=\"stroke:#009af9; stroke-linecap:round; stroke-linejoin:round; stroke-width:4; stroke-opacity:1; fill:none\" points=\"2071.46,147.058 2213.67,147.058 \"/>\n",
       "<path clip-path=\"url(#clip990)\" d=\"M2238.04 160.402 L2245.68 160.402 L2245.68 134.037 L2237.37 135.703 L2237.37 131.444 L2245.64 129.778 L2250.31 129.778 L2250.31 160.402 L2257.95 160.402 L2257.95 164.338 L2238.04 164.338 L2238.04 160.402 Z\" fill=\"#000000\" fill-rule=\"nonzero\" fill-opacity=\"1\" /></svg>\n"
      ],
      "text/html": [
       "<?xml version=\"1.0\" encoding=\"utf-8\"?>\n",
       "<svg xmlns=\"http://www.w3.org/2000/svg\" xmlns:xlink=\"http://www.w3.org/1999/xlink\" width=\"600\" height=\"400\" viewBox=\"0 0 2400 1600\">\n",
       "<defs>\n",
       "  <clipPath id=\"clip040\">\n",
       "    <rect x=\"0\" y=\"0\" width=\"2400\" height=\"1600\"/>\n",
       "  </clipPath>\n",
       "</defs>\n",
       "<path clip-path=\"url(#clip040)\" d=\"M0 1600 L2400 1600 L2400 0 L0 0  Z\" fill=\"#ffffff\" fill-rule=\"evenodd\" fill-opacity=\"1\"/>\n",
       "<defs>\n",
       "  <clipPath id=\"clip041\">\n",
       "    <rect x=\"480\" y=\"0\" width=\"1681\" height=\"1600\"/>\n",
       "  </clipPath>\n",
       "</defs>\n",
       "<path clip-path=\"url(#clip040)\" d=\"M219.626 1486.45 L2352.76 1486.45 L2352.76 47.2441 L219.626 47.2441  Z\" fill=\"#ffffff\" fill-rule=\"evenodd\" fill-opacity=\"1\"/>\n",
       "<defs>\n",
       "  <clipPath id=\"clip042\">\n",
       "    <rect x=\"219\" y=\"47\" width=\"2134\" height=\"1440\"/>\n",
       "  </clipPath>\n",
       "</defs>\n",
       "<polyline clip-path=\"url(#clip042)\" style=\"stroke:#000000; stroke-linecap:round; stroke-linejoin:round; stroke-width:2; stroke-opacity:0.1; fill:none\" points=\"423.739,1486.45 423.739,47.2441 \"/>\n",
       "<polyline clip-path=\"url(#clip042)\" style=\"stroke:#000000; stroke-linecap:round; stroke-linejoin:round; stroke-width:2; stroke-opacity:0.1; fill:none\" points=\"711.223,1486.45 711.223,47.2441 \"/>\n",
       "<polyline clip-path=\"url(#clip042)\" style=\"stroke:#000000; stroke-linecap:round; stroke-linejoin:round; stroke-width:2; stroke-opacity:0.1; fill:none\" points=\"998.707,1486.45 998.707,47.2441 \"/>\n",
       "<polyline clip-path=\"url(#clip042)\" style=\"stroke:#000000; stroke-linecap:round; stroke-linejoin:round; stroke-width:2; stroke-opacity:0.1; fill:none\" points=\"1286.19,1486.45 1286.19,47.2441 \"/>\n",
       "<polyline clip-path=\"url(#clip042)\" style=\"stroke:#000000; stroke-linecap:round; stroke-linejoin:round; stroke-width:2; stroke-opacity:0.1; fill:none\" points=\"1573.67,1486.45 1573.67,47.2441 \"/>\n",
       "<polyline clip-path=\"url(#clip042)\" style=\"stroke:#000000; stroke-linecap:round; stroke-linejoin:round; stroke-width:2; stroke-opacity:0.1; fill:none\" points=\"1861.16,1486.45 1861.16,47.2441 \"/>\n",
       "<polyline clip-path=\"url(#clip042)\" style=\"stroke:#000000; stroke-linecap:round; stroke-linejoin:round; stroke-width:2; stroke-opacity:0.1; fill:none\" points=\"2148.64,1486.45 2148.64,47.2441 \"/>\n",
       "<polyline clip-path=\"url(#clip042)\" style=\"stroke:#000000; stroke-linecap:round; stroke-linejoin:round; stroke-width:2; stroke-opacity:0.1; fill:none\" points=\"219.626,1064.64 2352.76,1064.64 \"/>\n",
       "<polyline clip-path=\"url(#clip042)\" style=\"stroke:#000000; stroke-linecap:round; stroke-linejoin:round; stroke-width:2; stroke-opacity:0.1; fill:none\" points=\"219.626,514.101 2352.76,514.101 \"/>\n",
       "<polyline clip-path=\"url(#clip040)\" style=\"stroke:#000000; stroke-linecap:round; stroke-linejoin:round; stroke-width:4; stroke-opacity:1; fill:none\" points=\"219.626,1486.45 2352.76,1486.45 \"/>\n",
       "<polyline clip-path=\"url(#clip040)\" style=\"stroke:#000000; stroke-linecap:round; stroke-linejoin:round; stroke-width:4; stroke-opacity:1; fill:none\" points=\"423.739,1486.45 423.739,1467.55 \"/>\n",
       "<polyline clip-path=\"url(#clip040)\" style=\"stroke:#000000; stroke-linecap:round; stroke-linejoin:round; stroke-width:4; stroke-opacity:1; fill:none\" points=\"711.223,1486.45 711.223,1467.55 \"/>\n",
       "<polyline clip-path=\"url(#clip040)\" style=\"stroke:#000000; stroke-linecap:round; stroke-linejoin:round; stroke-width:4; stroke-opacity:1; fill:none\" points=\"998.707,1486.45 998.707,1467.55 \"/>\n",
       "<polyline clip-path=\"url(#clip040)\" style=\"stroke:#000000; stroke-linecap:round; stroke-linejoin:round; stroke-width:4; stroke-opacity:1; fill:none\" points=\"1286.19,1486.45 1286.19,1467.55 \"/>\n",
       "<polyline clip-path=\"url(#clip040)\" style=\"stroke:#000000; stroke-linecap:round; stroke-linejoin:round; stroke-width:4; stroke-opacity:1; fill:none\" points=\"1573.67,1486.45 1573.67,1467.55 \"/>\n",
       "<polyline clip-path=\"url(#clip040)\" style=\"stroke:#000000; stroke-linecap:round; stroke-linejoin:round; stroke-width:4; stroke-opacity:1; fill:none\" points=\"1861.16,1486.45 1861.16,1467.55 \"/>\n",
       "<polyline clip-path=\"url(#clip040)\" style=\"stroke:#000000; stroke-linecap:round; stroke-linejoin:round; stroke-width:4; stroke-opacity:1; fill:none\" points=\"2148.64,1486.45 2148.64,1467.55 \"/>\n",
       "<path clip-path=\"url(#clip040)\" d=\"M418.392 1544.91 L434.712 1544.91 L434.712 1548.85 L412.767 1548.85 L412.767 1544.91 Q415.429 1542.16 420.013 1537.53 Q424.619 1532.88 425.8 1531.53 Q428.045 1529.01 428.925 1527.27 Q429.827 1525.51 429.827 1523.82 Q429.827 1521.07 427.883 1519.33 Q425.962 1517.6 422.86 1517.6 Q420.661 1517.6 418.207 1518.36 Q415.777 1519.13 412.999 1520.68 L412.999 1515.95 Q415.823 1514.82 418.277 1514.24 Q420.73 1513.66 422.767 1513.66 Q428.138 1513.66 431.332 1516.35 Q434.526 1519.03 434.526 1523.52 Q434.526 1525.65 433.716 1527.57 Q432.929 1529.47 430.823 1532.07 Q430.244 1532.74 427.142 1535.95 Q424.04 1539.15 418.392 1544.91 Z\" fill=\"#000000\" fill-rule=\"nonzero\" fill-opacity=\"1\" /><path clip-path=\"url(#clip040)\" d=\"M714.233 1518.36 L702.427 1536.81 L714.233 1536.81 L714.233 1518.36 M713.006 1514.29 L718.885 1514.29 L718.885 1536.81 L723.816 1536.81 L723.816 1540.7 L718.885 1540.7 L718.885 1548.85 L714.233 1548.85 L714.233 1540.7 L698.631 1540.7 L698.631 1536.19 L713.006 1514.29 Z\" fill=\"#000000\" fill-rule=\"nonzero\" fill-opacity=\"1\" /><path clip-path=\"url(#clip040)\" d=\"M999.112 1529.7 Q995.964 1529.7 994.112 1531.86 Q992.284 1534.01 992.284 1537.76 Q992.284 1541.49 994.112 1543.66 Q995.964 1545.82 999.112 1545.82 Q1002.26 1545.82 1004.09 1543.66 Q1005.94 1541.49 1005.94 1537.76 Q1005.94 1534.01 1004.09 1531.86 Q1002.26 1529.7 999.112 1529.7 M1008.39 1515.05 L1008.39 1519.31 Q1006.64 1518.48 1004.83 1518.04 Q1003.05 1517.6 1001.29 1517.6 Q996.659 1517.6 994.205 1520.72 Q991.774 1523.85 991.427 1530.17 Q992.793 1528.15 994.853 1527.09 Q996.913 1526 999.39 1526 Q1004.6 1526 1007.61 1529.17 Q1010.64 1532.32 1010.64 1537.76 Q1010.64 1543.08 1007.49 1546.3 Q1004.34 1549.52 999.112 1549.52 Q993.117 1549.52 989.946 1544.94 Q986.774 1540.33 986.774 1531.6 Q986.774 1523.41 990.663 1518.55 Q994.552 1513.66 1001.1 1513.66 Q1002.86 1513.66 1004.64 1514.01 Q1006.45 1514.36 1008.39 1515.05 Z\" fill=\"#000000\" fill-rule=\"nonzero\" fill-opacity=\"1\" /><path clip-path=\"url(#clip040)\" d=\"M1286.19 1532.44 Q1282.86 1532.44 1280.94 1534.22 Q1279.04 1536 1279.04 1539.13 Q1279.04 1542.25 1280.94 1544.03 Q1282.86 1545.82 1286.19 1545.82 Q1289.52 1545.82 1291.45 1544.03 Q1293.37 1542.23 1293.37 1539.13 Q1293.37 1536 1291.45 1534.22 Q1289.55 1532.44 1286.19 1532.44 M1281.52 1530.45 Q1278.51 1529.7 1276.82 1527.64 Q1275.15 1525.58 1275.15 1522.62 Q1275.15 1518.48 1278.09 1516.07 Q1281.05 1513.66 1286.19 1513.66 Q1291.35 1513.66 1294.29 1516.07 Q1297.23 1518.48 1297.23 1522.62 Q1297.23 1525.58 1295.54 1527.64 Q1293.88 1529.7 1290.89 1530.45 Q1294.27 1531.23 1296.14 1533.52 Q1298.04 1535.82 1298.04 1539.13 Q1298.04 1544.15 1294.96 1546.83 Q1291.91 1549.52 1286.19 1549.52 Q1280.47 1549.52 1277.39 1546.83 Q1274.34 1544.15 1274.34 1539.13 Q1274.34 1535.82 1276.24 1533.52 Q1278.14 1531.23 1281.52 1530.45 M1279.8 1523.06 Q1279.8 1525.75 1281.47 1527.25 Q1283.16 1528.76 1286.19 1528.76 Q1289.2 1528.76 1290.89 1527.25 Q1292.6 1525.75 1292.6 1523.06 Q1292.6 1520.38 1290.89 1518.87 Q1289.2 1517.37 1286.19 1517.37 Q1283.16 1517.37 1281.47 1518.87 Q1279.8 1520.38 1279.8 1523.06 Z\" fill=\"#000000\" fill-rule=\"nonzero\" fill-opacity=\"1\" /><path clip-path=\"url(#clip040)\" d=\"M1548.36 1544.91 L1556 1544.91 L1556 1518.55 L1547.69 1520.21 L1547.69 1515.95 L1555.95 1514.29 L1560.63 1514.29 L1560.63 1544.91 L1568.27 1544.91 L1568.27 1548.85 L1548.36 1548.85 L1548.36 1544.91 Z\" fill=\"#000000\" fill-rule=\"nonzero\" fill-opacity=\"1\" /><path clip-path=\"url(#clip040)\" d=\"M1587.71 1517.37 Q1584.1 1517.37 1582.27 1520.93 Q1580.47 1524.47 1580.47 1531.6 Q1580.47 1538.71 1582.27 1542.27 Q1584.1 1545.82 1587.71 1545.82 Q1591.35 1545.82 1593.15 1542.27 Q1594.98 1538.71 1594.98 1531.6 Q1594.98 1524.47 1593.15 1520.93 Q1591.35 1517.37 1587.71 1517.37 M1587.71 1513.66 Q1593.52 1513.66 1596.58 1518.27 Q1599.66 1522.85 1599.66 1531.6 Q1599.66 1540.33 1596.58 1544.94 Q1593.52 1549.52 1587.71 1549.52 Q1581.9 1549.52 1578.83 1544.94 Q1575.77 1540.33 1575.77 1531.6 Q1575.77 1522.85 1578.83 1518.27 Q1581.9 1513.66 1587.71 1513.66 Z\" fill=\"#000000\" fill-rule=\"nonzero\" fill-opacity=\"1\" /><path clip-path=\"url(#clip040)\" d=\"M1836.64 1544.91 L1844.28 1544.91 L1844.28 1518.55 L1835.97 1520.21 L1835.97 1515.95 L1844.24 1514.29 L1848.91 1514.29 L1848.91 1544.91 L1856.55 1544.91 L1856.55 1548.85 L1836.64 1548.85 L1836.64 1544.91 Z\" fill=\"#000000\" fill-rule=\"nonzero\" fill-opacity=\"1\" /><path clip-path=\"url(#clip040)\" d=\"M1870.02 1544.91 L1886.34 1544.91 L1886.34 1548.85 L1864.4 1548.85 L1864.4 1544.91 Q1867.06 1542.16 1871.64 1537.53 Q1876.25 1532.88 1877.43 1531.53 Q1879.68 1529.01 1880.56 1527.27 Q1881.46 1525.51 1881.46 1523.82 Q1881.46 1521.07 1879.51 1519.33 Q1877.59 1517.6 1874.49 1517.6 Q1872.29 1517.6 1869.84 1518.36 Q1867.41 1519.13 1864.63 1520.68 L1864.63 1515.95 Q1867.45 1514.82 1869.91 1514.24 Q1872.36 1513.66 1874.4 1513.66 Q1879.77 1513.66 1882.96 1516.35 Q1886.16 1519.03 1886.16 1523.52 Q1886.16 1525.65 1885.35 1527.57 Q1884.56 1529.47 1882.45 1532.07 Q1881.88 1532.74 1878.77 1535.95 Q1875.67 1539.15 1870.02 1544.91 Z\" fill=\"#000000\" fill-rule=\"nonzero\" fill-opacity=\"1\" /><path clip-path=\"url(#clip040)\" d=\"M2123.09 1544.91 L2130.73 1544.91 L2130.73 1518.55 L2122.42 1520.21 L2122.42 1515.95 L2130.68 1514.29 L2135.36 1514.29 L2135.36 1544.91 L2142.99 1544.91 L2142.99 1548.85 L2123.09 1548.85 L2123.09 1544.91 Z\" fill=\"#000000\" fill-rule=\"nonzero\" fill-opacity=\"1\" /><path clip-path=\"url(#clip040)\" d=\"M2165.29 1518.36 L2153.48 1536.81 L2165.29 1536.81 L2165.29 1518.36 M2164.06 1514.29 L2169.94 1514.29 L2169.94 1536.81 L2174.87 1536.81 L2174.87 1540.7 L2169.94 1540.7 L2169.94 1548.85 L2165.29 1548.85 L2165.29 1540.7 L2149.68 1540.7 L2149.68 1536.19 L2164.06 1514.29 Z\" fill=\"#000000\" fill-rule=\"nonzero\" fill-opacity=\"1\" /><polyline clip-path=\"url(#clip040)\" style=\"stroke:#000000; stroke-linecap:round; stroke-linejoin:round; stroke-width:4; stroke-opacity:1; fill:none\" points=\"219.626,1486.45 219.626,47.2441 \"/>\n",
       "<polyline clip-path=\"url(#clip040)\" style=\"stroke:#000000; stroke-linecap:round; stroke-linejoin:round; stroke-width:4; stroke-opacity:1; fill:none\" points=\"219.626,1064.64 238.524,1064.64 \"/>\n",
       "<polyline clip-path=\"url(#clip040)\" style=\"stroke:#000000; stroke-linecap:round; stroke-linejoin:round; stroke-width:4; stroke-opacity:1; fill:none\" points=\"219.626,514.101 238.524,514.101 \"/>\n",
       "<path clip-path=\"url(#clip040)\" d=\"M52.4722 1084.43 L60.111 1084.43 L60.111 1058.07 L51.8009 1059.73 L51.8009 1055.47 L60.0647 1053.81 L64.7406 1053.81 L64.7406 1084.43 L72.3795 1084.43 L72.3795 1088.37 L52.4722 1088.37 L52.4722 1084.43 Z\" fill=\"#000000\" fill-rule=\"nonzero\" fill-opacity=\"1\" /><path clip-path=\"url(#clip040)\" d=\"M91.8238 1056.89 Q88.2127 1056.89 86.384 1060.45 Q84.5785 1063.99 84.5785 1071.12 Q84.5785 1078.23 86.384 1081.79 Q88.2127 1085.33 91.8238 1085.33 Q95.458 1085.33 97.2636 1081.79 Q99.0923 1078.23 99.0923 1071.12 Q99.0923 1063.99 97.2636 1060.45 Q95.458 1056.89 91.8238 1056.89 M91.8238 1053.18 Q97.6339 1053.18 100.689 1057.79 Q103.768 1062.37 103.768 1071.12 Q103.768 1079.85 100.689 1084.46 Q97.6339 1089.04 91.8238 1089.04 Q86.0136 1089.04 82.935 1084.46 Q79.8794 1079.85 79.8794 1071.12 Q79.8794 1062.37 82.935 1057.79 Q86.0136 1053.18 91.8238 1053.18 Z\" fill=\"#000000\" fill-rule=\"nonzero\" fill-opacity=\"1\" /><path clip-path=\"url(#clip040)\" d=\"M113.473 1035.38 Q110.539 1035.38 109.053 1038.27 Q107.586 1041.15 107.586 1046.94 Q107.586 1052.72 109.053 1055.62 Q110.539 1058.49 113.473 1058.49 Q116.426 1058.49 117.893 1055.62 Q119.379 1052.72 119.379 1046.94 Q119.379 1041.15 117.893 1038.27 Q116.426 1035.38 113.473 1035.38 M113.473 1032.37 Q118.194 1032.37 120.676 1036.11 Q123.178 1039.84 123.178 1046.94 Q123.178 1054.04 120.676 1057.78 Q118.194 1061.5 113.473 1061.5 Q108.752 1061.5 106.251 1057.78 Q103.768 1054.04 103.768 1046.94 Q103.768 1039.84 106.251 1036.11 Q108.752 1032.37 113.473 1032.37 Z\" fill=\"#000000\" fill-rule=\"nonzero\" fill-opacity=\"1\" /><path clip-path=\"url(#clip040)\" d=\"M129.855 1056.18 L133.823 1056.18 L133.823 1060.96 L129.855 1060.96 L129.855 1056.18 Z\" fill=\"#000000\" fill-rule=\"nonzero\" fill-opacity=\"1\" /><path clip-path=\"url(#clip040)\" d=\"M145.371 1057.76 L158.63 1057.76 L158.63 1060.96 L140.801 1060.96 L140.801 1057.76 Q142.964 1055.52 146.688 1051.76 Q150.43 1047.98 151.389 1046.89 Q153.214 1044.84 153.928 1043.43 Q154.662 1042 154.662 1040.63 Q154.662 1038.39 153.082 1036.98 Q151.521 1035.57 149.001 1035.57 Q147.214 1035.57 145.22 1036.19 Q143.246 1036.81 140.989 1038.07 L140.989 1034.23 Q143.283 1033.31 145.277 1032.84 Q147.271 1032.37 148.926 1032.37 Q153.289 1032.37 155.885 1034.55 Q158.48 1036.73 158.48 1040.38 Q158.48 1042.11 157.822 1043.67 Q157.182 1045.21 155.471 1047.32 Q155.001 1047.87 152.48 1050.48 Q149.96 1053.08 145.371 1057.76 Z\" fill=\"#000000\" fill-rule=\"nonzero\" fill-opacity=\"1\" /><path clip-path=\"url(#clip040)\" d=\"M166.643 1032.88 L181.557 1032.88 L181.557 1036.07 L170.122 1036.07 L170.122 1042.96 Q170.95 1042.68 171.777 1042.54 Q172.605 1042.39 173.432 1042.39 Q178.134 1042.39 180.88 1044.97 Q183.626 1047.55 183.626 1051.95 Q183.626 1056.48 180.805 1059 Q177.984 1061.5 172.849 1061.5 Q171.081 1061.5 169.238 1061.2 Q167.414 1060.9 165.458 1060.3 L165.458 1056.48 Q167.15 1057.4 168.956 1057.85 Q170.761 1058.3 172.774 1058.3 Q176.028 1058.3 177.927 1056.59 Q179.827 1054.88 179.827 1051.95 Q179.827 1049.01 177.927 1047.3 Q176.028 1045.59 172.774 1045.59 Q171.25 1045.59 169.727 1045.93 Q168.222 1046.27 166.643 1046.98 L166.643 1032.88 Z\" fill=\"#000000\" fill-rule=\"nonzero\" fill-opacity=\"1\" /><path clip-path=\"url(#clip040)\" d=\"M51.6634 533.893 L59.3023 533.893 L59.3023 507.527 L50.9921 509.194 L50.9921 504.935 L59.256 503.268 L63.9319 503.268 L63.9319 533.893 L71.5707 533.893 L71.5707 537.828 L51.6634 537.828 L51.6634 533.893 Z\" fill=\"#000000\" fill-rule=\"nonzero\" fill-opacity=\"1\" /><path clip-path=\"url(#clip040)\" d=\"M91.0151 506.347 Q87.404 506.347 85.5753 509.912 Q83.7697 513.453 83.7697 520.583 Q83.7697 527.689 85.5753 531.254 Q87.404 534.796 91.0151 534.796 Q94.6493 534.796 96.4548 531.254 Q98.2835 527.689 98.2835 520.583 Q98.2835 513.453 96.4548 509.912 Q94.6493 506.347 91.0151 506.347 M91.0151 502.643 Q96.8252 502.643 99.8808 507.25 Q102.959 511.833 102.959 520.583 Q102.959 529.31 99.8808 533.916 Q96.8252 538.499 91.0151 538.499 Q85.2049 538.499 82.1262 533.916 Q79.0707 529.31 79.0707 520.583 Q79.0707 511.833 82.1262 507.25 Q85.2049 502.643 91.0151 502.643 Z\" fill=\"#000000\" fill-rule=\"nonzero\" fill-opacity=\"1\" /><path clip-path=\"url(#clip040)\" d=\"M112.664 484.839 Q109.73 484.839 108.244 487.736 Q106.777 490.613 106.777 496.406 Q106.777 502.18 108.244 505.076 Q109.73 507.954 112.664 507.954 Q115.617 507.954 117.084 505.076 Q118.57 502.18 118.57 496.406 Q118.57 490.613 117.084 487.736 Q115.617 484.839 112.664 484.839 M112.664 481.83 Q117.385 481.83 119.868 485.573 Q122.369 489.297 122.369 496.406 Q122.369 503.497 119.868 507.239 Q117.385 510.963 112.664 510.963 Q107.943 510.963 105.442 507.239 Q102.959 503.497 102.959 496.406 Q102.959 489.297 105.442 485.573 Q107.943 481.83 112.664 481.83 Z\" fill=\"#000000\" fill-rule=\"nonzero\" fill-opacity=\"1\" /><path clip-path=\"url(#clip040)\" d=\"M129.046 505.641 L133.014 505.641 L133.014 510.418 L129.046 510.418 L129.046 505.641 Z\" fill=\"#000000\" fill-rule=\"nonzero\" fill-opacity=\"1\" /><path clip-path=\"url(#clip040)\" d=\"M141.327 482.338 L156.242 482.338 L156.242 485.535 L144.807 485.535 L144.807 492.419 Q145.634 492.137 146.462 492.005 Q147.289 491.855 148.117 491.855 Q152.819 491.855 155.565 494.431 Q158.311 497.008 158.311 501.409 Q158.311 505.942 155.49 508.462 Q152.668 510.963 147.534 510.963 Q145.766 510.963 143.923 510.662 Q142.098 510.361 140.142 509.76 L140.142 505.942 Q141.835 506.863 143.641 507.314 Q145.446 507.766 147.459 507.766 Q150.712 507.766 152.612 506.054 Q154.512 504.343 154.512 501.409 Q154.512 498.475 152.612 496.763 Q150.712 495.052 147.459 495.052 Q145.935 495.052 144.412 495.39 Q142.907 495.729 141.327 496.444 L141.327 482.338 Z\" fill=\"#000000\" fill-rule=\"nonzero\" fill-opacity=\"1\" /><path clip-path=\"url(#clip040)\" d=\"M173.921 484.839 Q170.987 484.839 169.501 487.736 Q168.034 490.613 168.034 496.406 Q168.034 502.18 169.501 505.076 Q170.987 507.954 173.921 507.954 Q176.874 507.954 178.341 505.076 Q179.827 502.18 179.827 496.406 Q179.827 490.613 178.341 487.736 Q176.874 484.839 173.921 484.839 M173.921 481.83 Q178.642 481.83 181.125 485.573 Q183.626 489.297 183.626 496.406 Q183.626 503.497 181.125 507.239 Q178.642 510.963 173.921 510.963 Q169.2 510.963 166.699 507.239 Q164.216 503.497 164.216 496.406 Q164.216 489.297 166.699 485.573 Q169.2 481.83 173.921 481.83 Z\" fill=\"#000000\" fill-rule=\"nonzero\" fill-opacity=\"1\" /><polyline clip-path=\"url(#clip042)\" style=\"stroke:#009af9; stroke-linecap:round; stroke-linejoin:round; stroke-width:4; stroke-opacity:1; fill:none\" points=\"279.998,87.9763 423.739,300.11 567.481,510.943 711.223,719.066 854.965,921.438 998.707,1111.42 1142.45,1275.23 1286.19,1389.77 1429.93,1438.44 1573.67,1445.58 1717.42,1445.72 1861.16,1445.72 2004.9,1445.72 2148.64,1445.72 2292.38,1445.72 \"/>\n",
       "<path clip-path=\"url(#clip040)\" d=\"M2047.76 198.898 L2281.65 198.898 L2281.65 95.2176 L2047.76 95.2176  Z\" fill=\"#ffffff\" fill-rule=\"evenodd\" fill-opacity=\"1\"/>\n",
       "<polyline clip-path=\"url(#clip040)\" style=\"stroke:#000000; stroke-linecap:round; stroke-linejoin:round; stroke-width:4; stroke-opacity:1; fill:none\" points=\"2047.76,198.898 2281.65,198.898 2281.65,95.2176 2047.76,95.2176 2047.76,198.898 \"/>\n",
       "<polyline clip-path=\"url(#clip040)\" style=\"stroke:#009af9; stroke-linecap:round; stroke-linejoin:round; stroke-width:4; stroke-opacity:1; fill:none\" points=\"2071.46,147.058 2213.67,147.058 \"/>\n",
       "<path clip-path=\"url(#clip040)\" d=\"M2238.04 160.402 L2245.68 160.402 L2245.68 134.037 L2237.37 135.703 L2237.37 131.444 L2245.64 129.778 L2250.31 129.778 L2250.31 160.402 L2257.95 160.402 L2257.95 164.338 L2238.04 164.338 L2238.04 160.402 Z\" fill=\"#000000\" fill-rule=\"nonzero\" fill-opacity=\"1\" /></svg>\n"
      ]
     },
     "execution_count": 154,
     "metadata": {},
     "output_type": "execute_result"
    }
   ],
   "source": [
    "# TODO: compute and plot the error of `newton(f, 0.1, k)` for `k = 1:15`\n",
    "using Plots\n",
    "k = 15\n",
    "err = [nanabs(newton(f, 0.1, n) - f(r)) for n=1:k]\n",
    "plot(1:k, err, yscale=:log10, label=\"1\")\n"
   ]
  },
  {
   "cell_type": "markdown",
   "metadata": {},
   "source": [
    "**Problem 5(b)** Use `newton` with a complex number to compute\n",
    "an approximation to a complex root of $f(x) = x^5 - x^2 + 1$.\n",
    "Verify the approximation is accurate by testing that it satisfies $f(r)$\n",
    "is approximately zero."
   ]
  },
  {
   "cell_type": "code",
   "execution_count": 104,
   "metadata": {},
   "outputs": [
    {
     "data": {
      "text/plain": [
       "0.0 + 5.551115123125783e-17im"
      ]
     },
     "execution_count": 104,
     "metadata": {},
     "output_type": "execute_result"
    }
   ],
   "source": [
    "# TODO: By making the initial guess complex find a complex root.\n",
    "r = newton(f, 0.1+1im, 100)\n",
    "f(r)"
   ]
  },
  {
   "cell_type": "markdown",
   "metadata": {},
   "source": [
    "**Problem 5(c)** By changing the initial guesses compute 5 roots to\n",
    "$\\sin x - 1/x$. Hint: you may need to add an overload for `/(x::Real, y::Dual)`."
   ]
  },
  {
   "cell_type": "code",
   "execution_count": 138,
   "metadata": {},
   "outputs": [
    {
     "data": {
      "text/plain": [
       "-9.31724294141481 + 0.0im"
      ]
     },
     "execution_count": 138,
     "metadata": {},
     "output_type": "execute_result"
    }
   ],
   "source": [
    "# TODO: Use newton to compute roots of sin(x) - 1/x.\n",
    "function f1(x)\n",
    "    sin(x)-1/x\n",
    "end\n",
    "r1 = newton(f1, 0.1+1im, 100)\n",
    "r2 = newton(f1, 100, 100)\n",
    "r3 = newton(f1, -100, 100)\n",
    "r4 = newton(f1, 5-501im, 100)\n",
    "r5 = newton(f1, -10+30im, 100)\n"
   ]
  },
  {
   "cell_type": "markdown",
   "metadata": {},
   "source": [
    "---\n",
    "\n",
    "*This notebook was generated using [Literate.jl](https://github.com/fredrikekre/Literate.jl).*"
   ]
  }
 ],
 "metadata": {
  "kernelspec": {
   "display_name": "Julia 1.11.2",
   "language": "julia",
   "name": "julia-1.11"
  },
  "language_info": {
   "file_extension": ".jl",
   "mimetype": "application/julia",
   "name": "julia",
   "version": "1.11.2"
  }
 },
 "nbformat": 4,
 "nbformat_minor": 4
}
